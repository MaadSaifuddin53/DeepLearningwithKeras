{
  "nbformat": 4,
  "nbformat_minor": 0,
  "metadata": {
    "colab": {
      "name": "Hyperparameter tuning of MNIST  .ipynb",
      "version": "0.3.2",
      "provenance": [],
      "collapsed_sections": [],
      "include_colab_link": true
    },
    "kernelspec": {
      "name": "python3",
      "display_name": "Python 3"
    }
  },
  "cells": [
    {
      "cell_type": "markdown",
      "metadata": {
        "id": "view-in-github",
        "colab_type": "text"
      },
      "source": [
        "<a href=\"https://colab.research.google.com/github/MaadSaifuddin53/DeepLearningwithKeras/blob/master/Hyperparameter_tuning_of_MNIST_.ipynb\" target=\"_parent\"><img src=\"https://colab.research.google.com/assets/colab-badge.svg\" alt=\"Open In Colab\"/></a>"
      ]
    },
    {
      "cell_type": "code",
      "metadata": {
        "id": "kWbRxayNg9Bq",
        "colab_type": "code",
        "outputId": "29f25cb2-5956-4334-d794-43936aeabf00",
        "colab": {
          "base_uri": "https://localhost:8080/",
          "height": 34
        }
      },
      "source": [
        "import keras\n",
        "import sklearn\n",
        "from keras import layers,models,optimizers,losses,activations,regularizers,initializers\n",
        "from keras.utils import to_categorical\n",
        "import pandas as pd\n",
        "import numpy as np\n",
        "from keras.wrappers.scikit_learn import KerasClassifier\n",
        "from sklearn.model_selection import cross_val_score\n",
        "from sklearn.preprocessing import LabelEncoder        # for label encoder\n",
        "from sklearn.model_selection import KFold\n",
        "from sklearn.preprocessing import StandardScaler\n",
        "from sklearn.pipeline import Pipeline\n",
        "from sklearn.model_selection import train_test_split\n",
        "from keras.layers.normalization  import BatchNormalization\n",
        "from sklearn.model_selection import RandomizedSearchCV\n",
        "from keras.layers import Activation\n",
        "from keras import regularizers\n",
        "from keras.layers import Dropout "
      ],
      "execution_count": 0,
      "outputs": [
        {
          "output_type": "stream",
          "text": [
            "Using TensorFlow backend.\n"
          ],
          "name": "stderr"
        }
      ]
    },
    {
      "cell_type": "code",
      "metadata": {
        "id": "0Kgsr1hgleSN",
        "colab_type": "code",
        "colab": {}
      },
      "source": [
        "seed=7\n",
        "np.random.seed(seed)"
      ],
      "execution_count": 0,
      "outputs": []
    },
    {
      "cell_type": "code",
      "metadata": {
        "id": "5AWzRZzCliEP",
        "colab_type": "code",
        "outputId": "820e3c71-553b-4a47-9184-c622c6431266",
        "colab": {
          "base_uri": "https://localhost:8080/",
          "height": 52
        }
      },
      "source": [
        "from keras.datasets import mnist\n",
        "#Loading Data\n",
        "(train_data,train_label), (test_data,test_labels)=mnist.load_data()\n",
        "\n",
        "#Normalizing Data \n",
        "train_data = train_data.reshape((60000,28*28))\n",
        "train_data = train_data.astype(\"float32\")/255\n",
        "test_data =  test_data.reshape((10000,28*28))\n",
        "test_data =  test_data.astype(\"float32\")/255\n",
        "\n",
        "#one hot Encoding\n",
        "train_label = to_categorical(train_label)\n",
        "test_label  =  to_categorical(test_labels)"
      ],
      "execution_count": 0,
      "outputs": [
        {
          "output_type": "stream",
          "text": [
            "Downloading data from https://s3.amazonaws.com/img-datasets/mnist.npz\n",
            "11493376/11490434 [==============================] - 0s 0us/step\n"
          ],
          "name": "stdout"
        }
      ]
    },
    {
      "cell_type": "code",
      "metadata": {
        "id": "y-6kJTtZls3u",
        "colab_type": "code",
        "outputId": "cfc1c7a3-3f21-46c1-f516-e8ab79f686df",
        "colab": {
          "base_uri": "https://localhost:8080/",
          "height": 54
        }
      },
      "source": [
        "def fullyScaledModel(optimizer='rmsprop'):\n",
        "  model= models.Sequential()\n",
        "  model.add(layers.Dense(512,kernel_initializer='glorot_uniform',input_shape=(28*28,)))\n",
        "  BatchNormalization()\n",
        "  model.add(Activation(\"relu\"))\n",
        "  \n",
        "  \n",
        "  model.add(layers.Dense(256,kernel_initializer='glorot_uniform'))\n",
        "  BatchNormalization()\n",
        "  model.add(Activation(\"relu\"))\n",
        "  \n",
        "  \n",
        "  model.add(layers.Dense(128,kernel_initializer='glorot_uniform'))\n",
        "  BatchNormalization()\n",
        "  model.add(Activation(\"relu\"))\n",
        "  \n",
        "  model.add(layers.Dense(64,kernel_initializer='glorot_uniform'))\n",
        "  BatchNormalization()\n",
        "  model.add(Activation(\"relu\"))\n",
        "  \n",
        "  model.add(layers.Dense(32,kernel_initializer='glorot_uniform'))\n",
        "  BatchNormalization()\n",
        "  model.add(Activation(\"relu\"))\n",
        "  \n",
        "  model.add(layers.Dense(16,kernel_initializer='glorot_uniform'))\n",
        "  BatchNormalization()\n",
        "  model.add(Activation(\"relu\"))\n",
        "  \n",
        "  \n",
        "  model.add(layers.Dense(8,kernel_initializer='glorot_uniform'))\n",
        "  BatchNormalization()\n",
        "  model.add(Activation(\"relu\"))\n",
        "  \n",
        "  model.add(layers.Dense(4,kernel_initializer='glorot_uniform'))\n",
        "  BatchNormalization()\n",
        "  model.add(Activation(\"relu\"))\n",
        "  \n",
        "  \n",
        "  \n",
        "  model.add(layers.Dense(10,kernel_initializer='glorot_uniform'))\n",
        "  BatchNormalization()\n",
        "  model.add(Activation(\"softmax\"))\n",
        "  \n",
        "  model.compile(optimizer=optimizer,loss=\"categorical_crossentropy\",metrics=['acc'])\n",
        "  return model  \n",
        "  \n",
        "  \n",
        "\"\"\"# Model Traning   \n",
        "estimator=KerasClassifier(build_fn=fullyScaledModel,epochs=50,batch_size=128,verbose=0)\n",
        "kfold= KFold(n_splits=10, shuffle=True, random_state=seed)\n",
        "results = cross_val_score(estimator, train_data, train_label, cv=kfold)\n",
        "print(\"Results: %.2f%% (%.2f%%)\" % (results.mean()*100, results.std()*100))\"\"\""
      ],
      "execution_count": 0,
      "outputs": [
        {
          "output_type": "execute_result",
          "data": {
            "text/plain": [
              "'# Model Traning   \\nestimator=KerasClassifier(build_fn=fullyScaledModel,epochs=50,batch_size=128,verbose=0)\\nkfold= KFold(n_splits=10, shuffle=True, random_state=seed)\\nresults = cross_val_score(estimator, train_data, train_label, cv=kfold)\\nprint(\"Results: %.2f%% (%.2f%%)\" % (results.mean()*100, results.std()*100))'"
            ]
          },
          "metadata": {
            "tags": []
          },
          "execution_count": 11
        }
      ]
    },
    {
      "cell_type": "code",
      "metadata": {
        "id": "JEAMdN7NrHyG",
        "colab_type": "code",
        "outputId": "8effbb50-97b3-40af-8fa1-777ab017f368",
        "colab": {
          "base_uri": "https://localhost:8080/",
          "height": 228
        }
      },
      "source": [
        "batch_sizes = [16,32,64,128,512]\n",
        "epochs = [10,20,50,100,80,70]\n",
        "optimizers = [\"Rmsprop\",\"Adam\",\"SGD\",\"Adagrad\",\"Adadelta\"]\n",
        "params = {'batch_size': batch_sizes, 'epochs': epochs , 'optimizer':optimizers}\n",
        "model=KerasClassifier(build_fn=fullyScaledModel,verbose=0)\n",
        "clf = RandomizedSearchCV(model, params)\n",
        "clf.fit(train_data,train_label)\n",
        "\n"
      ],
      "execution_count": 0,
      "outputs": [
        {
          "output_type": "stream",
          "text": [
            "/usr/local/lib/python3.6/dist-packages/sklearn/model_selection/_split.py:1978: FutureWarning: The default value of cv will change from 3 to 5 in version 0.22. Specify it explicitly to silence this warning.\n",
            "  warnings.warn(CV_WARNING, FutureWarning)\n"
          ],
          "name": "stderr"
        },
        {
          "output_type": "execute_result",
          "data": {
            "text/plain": [
              "RandomizedSearchCV(cv='warn', error_score='raise-deprecating',\n",
              "                   estimator=<keras.wrappers.scikit_learn.KerasClassifier object at 0x7f6cdc8b4128>,\n",
              "                   iid='warn', n_iter=10, n_jobs=None,\n",
              "                   param_distributions={'batch_size': [16, 32, 64, 128, 512],\n",
              "                                        'epochs': [10, 20, 50, 100, 80, 70],\n",
              "                                        'optimizer': ['Rmsprop', 'Adam', 'SGD',\n",
              "                                                      'Adagrad', 'Adadelta']},\n",
              "                   pre_dispatch='2*n_jobs', random_state=None, refit=True,\n",
              "                   return_train_score=False, scoring=None, verbose=0)"
            ]
          },
          "metadata": {
            "tags": []
          },
          "execution_count": 13
        }
      ]
    },
    {
      "cell_type": "code",
      "metadata": {
        "id": "3kZQiV5ladNc",
        "colab_type": "code",
        "outputId": "ba11d613-a09d-4c38-e1f9-7096dcb44161",
        "colab": {
          "base_uri": "https://localhost:8080/",
          "height": 380
        }
      },
      "source": [
        "print(clf.best_score_,clf.best_params_)\n",
        "pd.DataFrame(clf.cv_results_)[['mean_test_score', 'std_test_score', 'params']]"
      ],
      "execution_count": 0,
      "outputs": [
        {
          "output_type": "stream",
          "text": [
            "0.9785 {'optimizer': 'Adam', 'epochs': 70, 'batch_size': 128}\n"
          ],
          "name": "stdout"
        },
        {
          "output_type": "execute_result",
          "data": {
            "text/html": [
              "<div>\n",
              "<style scoped>\n",
              "    .dataframe tbody tr th:only-of-type {\n",
              "        vertical-align: middle;\n",
              "    }\n",
              "\n",
              "    .dataframe tbody tr th {\n",
              "        vertical-align: top;\n",
              "    }\n",
              "\n",
              "    .dataframe thead th {\n",
              "        text-align: right;\n",
              "    }\n",
              "</style>\n",
              "<table border=\"1\" class=\"dataframe\">\n",
              "  <thead>\n",
              "    <tr style=\"text-align: right;\">\n",
              "      <th></th>\n",
              "      <th>mean_test_score</th>\n",
              "      <th>std_test_score</th>\n",
              "      <th>params</th>\n",
              "    </tr>\n",
              "  </thead>\n",
              "  <tbody>\n",
              "    <tr>\n",
              "      <th>0</th>\n",
              "      <td>0.937600</td>\n",
              "      <td>0.051420</td>\n",
              "      <td>{'optimizer': 'Rmsprop', 'epochs': 20, 'batch_...</td>\n",
              "    </tr>\n",
              "    <tr>\n",
              "      <th>1</th>\n",
              "      <td>0.955883</td>\n",
              "      <td>0.005047</td>\n",
              "      <td>{'optimizer': 'SGD', 'epochs': 10, 'batch_size...</td>\n",
              "    </tr>\n",
              "    <tr>\n",
              "      <th>2</th>\n",
              "      <td>0.664017</td>\n",
              "      <td>0.389043</td>\n",
              "      <td>{'optimizer': 'Adagrad', 'epochs': 10, 'batch_...</td>\n",
              "    </tr>\n",
              "    <tr>\n",
              "      <th>3</th>\n",
              "      <td>0.962583</td>\n",
              "      <td>0.003433</td>\n",
              "      <td>{'optimizer': 'Adagrad', 'epochs': 50, 'batch_...</td>\n",
              "    </tr>\n",
              "    <tr>\n",
              "      <th>4</th>\n",
              "      <td>0.978500</td>\n",
              "      <td>0.001699</td>\n",
              "      <td>{'optimizer': 'Adam', 'epochs': 70, 'batch_siz...</td>\n",
              "    </tr>\n",
              "    <tr>\n",
              "      <th>5</th>\n",
              "      <td>0.677833</td>\n",
              "      <td>0.402273</td>\n",
              "      <td>{'optimizer': 'Adagrad', 'epochs': 80, 'batch_...</td>\n",
              "    </tr>\n",
              "    <tr>\n",
              "      <th>6</th>\n",
              "      <td>0.972567</td>\n",
              "      <td>0.000660</td>\n",
              "      <td>{'optimizer': 'SGD', 'epochs': 80, 'batch_size...</td>\n",
              "    </tr>\n",
              "    <tr>\n",
              "      <th>7</th>\n",
              "      <td>0.972050</td>\n",
              "      <td>0.002547</td>\n",
              "      <td>{'optimizer': 'Rmsprop', 'epochs': 20, 'batch_...</td>\n",
              "    </tr>\n",
              "    <tr>\n",
              "      <th>8</th>\n",
              "      <td>0.927817</td>\n",
              "      <td>0.014429</td>\n",
              "      <td>{'optimizer': 'SGD', 'epochs': 10, 'batch_size...</td>\n",
              "    </tr>\n",
              "    <tr>\n",
              "      <th>9</th>\n",
              "      <td>0.399417</td>\n",
              "      <td>0.403534</td>\n",
              "      <td>{'optimizer': 'Adagrad', 'epochs': 80, 'batch_...</td>\n",
              "    </tr>\n",
              "  </tbody>\n",
              "</table>\n",
              "</div>"
            ],
            "text/plain": [
              "   mean_test_score  ...                                             params\n",
              "0         0.937600  ...  {'optimizer': 'Rmsprop', 'epochs': 20, 'batch_...\n",
              "1         0.955883  ...  {'optimizer': 'SGD', 'epochs': 10, 'batch_size...\n",
              "2         0.664017  ...  {'optimizer': 'Adagrad', 'epochs': 10, 'batch_...\n",
              "3         0.962583  ...  {'optimizer': 'Adagrad', 'epochs': 50, 'batch_...\n",
              "4         0.978500  ...  {'optimizer': 'Adam', 'epochs': 70, 'batch_siz...\n",
              "5         0.677833  ...  {'optimizer': 'Adagrad', 'epochs': 80, 'batch_...\n",
              "6         0.972567  ...  {'optimizer': 'SGD', 'epochs': 80, 'batch_size...\n",
              "7         0.972050  ...  {'optimizer': 'Rmsprop', 'epochs': 20, 'batch_...\n",
              "8         0.927817  ...  {'optimizer': 'SGD', 'epochs': 10, 'batch_size...\n",
              "9         0.399417  ...  {'optimizer': 'Adagrad', 'epochs': 80, 'batch_...\n",
              "\n",
              "[10 rows x 3 columns]"
            ]
          },
          "metadata": {
            "tags": []
          },
          "execution_count": 14
        }
      ]
    },
    {
      "cell_type": "markdown",
      "metadata": {
        "id": "_mh-o-P9Y6gZ",
        "colab_type": "text"
      },
      "source": [
        "**Tuning of weights init** "
      ]
    },
    {
      "cell_type": "code",
      "metadata": {
        "id": "e37K3zh6Y55F",
        "colab_type": "code",
        "colab": {}
      },
      "source": [
        "def fullyScaledModel(WIntializer=\"gloroto\"):\n",
        "  model= models.Sequential()\n",
        "  model.add(layers.Dense(512,kernel_initializer=WIntializer,input_shape=(28*28,)))\n",
        "  BatchNormalization()\n",
        "  model.add(Activation(\"relu\"))\n",
        "  \n",
        "  \n",
        "  model.add(layers.Dense(256,kernel_initializer=WIntializer))\n",
        "  BatchNormalization()\n",
        "  model.add(Activation(\"relu\"))\n",
        "  \n",
        "  \n",
        "  model.add(layers.Dense(128,kernel_initializer=WIntializer))\n",
        "  BatchNormalization()\n",
        "  model.add(Activation(\"relu\"))\n",
        "  \n",
        "  model.add(layers.Dense(64,kernel_initializer=WIntializer))\n",
        "  BatchNormalization()\n",
        "  model.add(Activation(\"relu\"))\n",
        "  \n",
        "  model.add(layers.Dense(32,kernel_initializer=WIntializer))\n",
        "  BatchNormalization()\n",
        "  model.add(Activation(\"relu\"))\n",
        "  \n",
        "  model.add(layers.Dense(16,kernel_initializer=WIntializer))\n",
        "  BatchNormalization()\n",
        "  model.add(Activation(\"relu\"))\n",
        "  \n",
        "  \n",
        "  model.add(layers.Dense(8,kernel_initializer=WIntializer))\n",
        "  BatchNormalization()\n",
        "  model.add(Activation(\"relu\"))\n",
        "  \n",
        "  model.add(layers.Dense(4,kernel_initializer=WIntializer))\n",
        "  BatchNormalization()\n",
        "  model.add(Activation(\"relu\"))\n",
        "  \n",
        "  \n",
        "  \n",
        "  model.add(layers.Dense(10,kernel_initializer=WIntializer))\n",
        "  BatchNormalization()\n",
        "  model.add(Activation(\"softmax\"))\n",
        "  \n",
        "  model.compile(optimizer=\"Adam\",loss=\"categorical_crossentropy\",metrics=['acc'])\n",
        "  return model  "
      ],
      "execution_count": 0,
      "outputs": []
    },
    {
      "cell_type": "code",
      "metadata": {
        "id": "MZpxTrJwbyYW",
        "colab_type": "code",
        "outputId": "1845b8fe-ab3c-481f-8cca-55aa42a781e9",
        "colab": {
          "base_uri": "https://localhost:8080/",
          "height": 593
        }
      },
      "source": [
        "WIntializer = ['uniform', 'lecun_uniform', 'normal', 'zero', 'glorot_normal', 'glorot_uniform', 'he_normal', 'he_uniform']\n",
        "params = {\"WIntializer\" : WIntializer}\n",
        "model=KerasClassifier(build_fn=fullyScaledModel,verbose=0)\n",
        "clf = RandomizedSearchCV(model, params)\n",
        "clf.fit(train_data,train_label)"
      ],
      "execution_count": 0,
      "outputs": [
        {
          "output_type": "stream",
          "text": [
            "/usr/local/lib/python3.6/dist-packages/sklearn/model_selection/_split.py:1978: FutureWarning: The default value of cv will change from 3 to 5 in version 0.22. Specify it explicitly to silence this warning.\n",
            "  warnings.warn(CV_WARNING, FutureWarning)\n",
            "/usr/local/lib/python3.6/dist-packages/sklearn/model_selection/_search.py:266: UserWarning: The total space of parameters 8 is smaller than n_iter=10. Running 8 iterations. For exhaustive searches, use GridSearchCV.\n",
            "  % (grid_size, self.n_iter, grid_size), UserWarning)\n",
            "WARNING: Logging before flag parsing goes to stderr.\n",
            "W0803 08:03:10.507160 139744489305984 deprecation_wrapper.py:119] From /usr/local/lib/python3.6/dist-packages/keras/backend/tensorflow_backend.py:74: The name tf.get_default_graph is deprecated. Please use tf.compat.v1.get_default_graph instead.\n",
            "\n",
            "W0803 08:03:10.541096 139744489305984 deprecation_wrapper.py:119] From /usr/local/lib/python3.6/dist-packages/keras/backend/tensorflow_backend.py:517: The name tf.placeholder is deprecated. Please use tf.compat.v1.placeholder instead.\n",
            "\n",
            "W0803 08:03:10.548906 139744489305984 deprecation_wrapper.py:119] From /usr/local/lib/python3.6/dist-packages/keras/backend/tensorflow_backend.py:4138: The name tf.random_uniform is deprecated. Please use tf.random.uniform instead.\n",
            "\n",
            "W0803 08:03:10.682410 139744489305984 deprecation_wrapper.py:119] From /usr/local/lib/python3.6/dist-packages/keras/optimizers.py:790: The name tf.train.Optimizer is deprecated. Please use tf.compat.v1.train.Optimizer instead.\n",
            "\n",
            "W0803 08:03:10.715377 139744489305984 deprecation_wrapper.py:119] From /usr/local/lib/python3.6/dist-packages/keras/backend/tensorflow_backend.py:3295: The name tf.log is deprecated. Please use tf.math.log instead.\n",
            "\n",
            "W0803 08:03:10.861957 139744489305984 deprecation.py:323] From /usr/local/lib/python3.6/dist-packages/tensorflow/python/ops/math_grad.py:1250: add_dispatch_support.<locals>.wrapper (from tensorflow.python.ops.array_ops) is deprecated and will be removed in a future version.\n",
            "Instructions for updating:\n",
            "Use tf.where in 2.0, which has the same broadcast rule as np.where\n",
            "W0803 08:03:10.945969 139744489305984 deprecation_wrapper.py:119] From /usr/local/lib/python3.6/dist-packages/keras/backend/tensorflow_backend.py:986: The name tf.assign_add is deprecated. Please use tf.compat.v1.assign_add instead.\n",
            "\n"
          ],
          "name": "stderr"
        },
        {
          "output_type": "execute_result",
          "data": {
            "text/plain": [
              "RandomizedSearchCV(cv='warn', error_score='raise-deprecating',\n",
              "                   estimator=<keras.wrappers.scikit_learn.KerasClassifier object at 0x7f188acccd68>,\n",
              "                   iid='warn', n_iter=10, n_jobs=None,\n",
              "                   param_distributions={'WIntializer': ['uniform',\n",
              "                                                        'lecun_uniform',\n",
              "                                                        'normal', 'zero',\n",
              "                                                        'glorot_normal',\n",
              "                                                        'glorot_uniform',\n",
              "                                                        'he_normal',\n",
              "                                                        'he_uniform']},\n",
              "                   pre_dispatch='2*n_jobs', random_state=None, refit=True,\n",
              "                   return_train_score=False, scoring=None, verbose=0)"
            ]
          },
          "metadata": {
            "tags": []
          },
          "execution_count": 9
        }
      ]
    },
    {
      "cell_type": "code",
      "metadata": {
        "id": "sRwH8thqnEbV",
        "colab_type": "code",
        "outputId": "231f13d8-f975-438a-cb7a-c5f20f4c8414",
        "colab": {
          "base_uri": "https://localhost:8080/",
          "height": 318
        }
      },
      "source": [
        "print(clf.best_score_,clf.best_params_)\n",
        "pd.DataFrame(clf.cv_results_)[['mean_test_score', 'std_test_score', 'params']]"
      ],
      "execution_count": 0,
      "outputs": [
        {
          "output_type": "stream",
          "text": [
            "0.9341166666666667 {'WIntializer': 'glorot_normal'}\n"
          ],
          "name": "stdout"
        },
        {
          "output_type": "execute_result",
          "data": {
            "text/html": [
              "<div>\n",
              "<style scoped>\n",
              "    .dataframe tbody tr th:only-of-type {\n",
              "        vertical-align: middle;\n",
              "    }\n",
              "\n",
              "    .dataframe tbody tr th {\n",
              "        vertical-align: top;\n",
              "    }\n",
              "\n",
              "    .dataframe thead th {\n",
              "        text-align: right;\n",
              "    }\n",
              "</style>\n",
              "<table border=\"1\" class=\"dataframe\">\n",
              "  <thead>\n",
              "    <tr style=\"text-align: right;\">\n",
              "      <th></th>\n",
              "      <th>mean_test_score</th>\n",
              "      <th>std_test_score</th>\n",
              "      <th>params</th>\n",
              "    </tr>\n",
              "  </thead>\n",
              "  <tbody>\n",
              "    <tr>\n",
              "      <th>0</th>\n",
              "      <td>0.112367</td>\n",
              "      <td>0.002416</td>\n",
              "      <td>{'WIntializer': 'uniform'}</td>\n",
              "    </tr>\n",
              "    <tr>\n",
              "      <th>1</th>\n",
              "      <td>0.870383</td>\n",
              "      <td>0.095664</td>\n",
              "      <td>{'WIntializer': 'lecun_uniform'}</td>\n",
              "    </tr>\n",
              "    <tr>\n",
              "      <th>2</th>\n",
              "      <td>0.557350</td>\n",
              "      <td>0.315016</td>\n",
              "      <td>{'WIntializer': 'normal'}</td>\n",
              "    </tr>\n",
              "    <tr>\n",
              "      <th>3</th>\n",
              "      <td>0.112367</td>\n",
              "      <td>0.002416</td>\n",
              "      <td>{'WIntializer': 'zero'}</td>\n",
              "    </tr>\n",
              "    <tr>\n",
              "      <th>4</th>\n",
              "      <td>0.934117</td>\n",
              "      <td>0.005340</td>\n",
              "      <td>{'WIntializer': 'glorot_normal'}</td>\n",
              "    </tr>\n",
              "    <tr>\n",
              "      <th>5</th>\n",
              "      <td>0.779017</td>\n",
              "      <td>0.217080</td>\n",
              "      <td>{'WIntializer': 'glorot_uniform'}</td>\n",
              "    </tr>\n",
              "    <tr>\n",
              "      <th>6</th>\n",
              "      <td>0.886483</td>\n",
              "      <td>0.039948</td>\n",
              "      <td>{'WIntializer': 'he_normal'}</td>\n",
              "    </tr>\n",
              "    <tr>\n",
              "      <th>7</th>\n",
              "      <td>0.898617</td>\n",
              "      <td>0.051384</td>\n",
              "      <td>{'WIntializer': 'he_uniform'}</td>\n",
              "    </tr>\n",
              "  </tbody>\n",
              "</table>\n",
              "</div>"
            ],
            "text/plain": [
              "   mean_test_score  std_test_score                             params\n",
              "0         0.112367        0.002416         {'WIntializer': 'uniform'}\n",
              "1         0.870383        0.095664   {'WIntializer': 'lecun_uniform'}\n",
              "2         0.557350        0.315016          {'WIntializer': 'normal'}\n",
              "3         0.112367        0.002416            {'WIntializer': 'zero'}\n",
              "4         0.934117        0.005340   {'WIntializer': 'glorot_normal'}\n",
              "5         0.779017        0.217080  {'WIntializer': 'glorot_uniform'}\n",
              "6         0.886483        0.039948       {'WIntializer': 'he_normal'}\n",
              "7         0.898617        0.051384      {'WIntializer': 'he_uniform'}"
            ]
          },
          "metadata": {
            "tags": []
          },
          "execution_count": 10
        }
      ]
    },
    {
      "cell_type": "markdown",
      "metadata": {
        "id": "KrP35vnlm189",
        "colab_type": "text"
      },
      "source": [
        "**With glorot normal weight**"
      ]
    },
    {
      "cell_type": "code",
      "metadata": {
        "id": "HeoqZbE5g471",
        "colab_type": "code",
        "outputId": "9719cc0a-b094-47d9-b1c6-42029453fed4",
        "colab": {
          "base_uri": "https://localhost:8080/",
          "height": 54
        }
      },
      "source": [
        "def fullyScaledModel2(learn_rate=0.01):\n",
        "  model= models.Sequential()\n",
        "  model.add(layers.Dense(512,kernel_initializer='glorot_normal',input_shape=(28*28,)))\n",
        "  BatchNormalization()\n",
        "  model.add(Activation(\"relu\"))\n",
        "  \n",
        "  \n",
        "  model.add(layers.Dense(256,kernel_initializer='glorot_normal'))\n",
        "  BatchNormalization()\n",
        "  model.add(Activation(\"relu\"))\n",
        "  \n",
        "  \n",
        "  model.add(layers.Dense(128,kernel_initializer='glorot_normal'))\n",
        "  BatchNormalization()\n",
        "  model.add(Activation(\"relu\"))\n",
        "  \n",
        "  model.add(layers.Dense(64,kernel_initializer='glorot_normal'))\n",
        "  BatchNormalization()\n",
        "  model.add(Activation(\"relu\"))\n",
        "  \n",
        "  model.add(layers.Dense(32,kernel_initializer='glorot_normal'))\n",
        "  BatchNormalization()\n",
        "  model.add(Activation(\"relu\"))\n",
        "  \n",
        "  model.add(layers.Dense(16,kernel_initializer='glorot_normal'))\n",
        "  BatchNormalization()\n",
        "  model.add(Activation(\"relu\"))\n",
        "  \n",
        "  \n",
        "  model.add(layers.Dense(8,kernel_initializer='glorot_normal'))\n",
        "  BatchNormalization()\n",
        "  model.add(Activation(\"relu\"))\n",
        "  \n",
        "  model.add(layers.Dense(4,kernel_initializer='glorot_normal'))\n",
        "  BatchNormalization()\n",
        "  model.add(Activation(\"relu\"))\n",
        "  \n",
        "  \n",
        "  \n",
        "  model.add(layers.Dense(10,kernel_initializer='glorot_normal'))\n",
        "  BatchNormalization()\n",
        "  model.add(Activation(\"softmax\"))\n",
        "  \n",
        "  opt=keras.optimizers.Adam(lr=learn_rate, beta_1=0.9, beta_2=0.999, epsilon=None, decay=0.0, amsgrad=False)\n",
        "  model.compile(optimizer=opt,loss=\"categorical_crossentropy\",metrics=['acc'])\n",
        "  return model  \n",
        "  \n",
        "  \n",
        "\"\"\"# Model Traning   \n",
        "estimator=KerasClassifier(build_fn=fullyScaledModel,epochs=50,batch_size=128,verbose=0)\n",
        "kfold= KFold(n_splits=10, shuffle=True, random_state=seed)\n",
        "results = cross_val_score(estimator, train_data, train_label, cv=kfold)\n",
        "print(\"Results: %.2f%% (%.2f%%)\" % (results.mean()*100, results.std()*100))\"\"\""
      ],
      "execution_count": 0,
      "outputs": [
        {
          "output_type": "execute_result",
          "data": {
            "text/plain": [
              "'# Model Traning   \\nestimator=KerasClassifier(build_fn=fullyScaledModel,epochs=50,batch_size=128,verbose=0)\\nkfold= KFold(n_splits=10, shuffle=True, random_state=seed)\\nresults = cross_val_score(estimator, train_data, train_label, cv=kfold)\\nprint(\"Results: %.2f%% (%.2f%%)\" % (results.mean()*100, results.std()*100))'"
            ]
          },
          "metadata": {
            "tags": []
          },
          "execution_count": 11
        }
      ]
    },
    {
      "cell_type": "code",
      "metadata": {
        "id": "2-rURI6EdfB5",
        "colab_type": "code",
        "outputId": "2b00745e-3703-4afd-a79b-9d35c7ec6462",
        "colab": {
          "base_uri": "https://localhost:8080/",
          "height": 228
        }
      },
      "source": [
        "learn_rate = [0.001, 0.01, 0.1, 0.2, 0.3,0.0001]\n",
        "#momentum = [0.0, 0.2, 0.4, 0.6, 0.8, 0.9]\n",
        "params = {'learn_rate':learn_rate}\n",
        "model=KerasClassifier(build_fn=fullyScaledModel2,verbose=0)\n",
        "clf = RandomizedSearchCV(model, params)\n",
        "clf.fit(train_data,train_label)"
      ],
      "execution_count": 0,
      "outputs": [
        {
          "output_type": "stream",
          "text": [
            "/usr/local/lib/python3.6/dist-packages/sklearn/model_selection/_split.py:1978: FutureWarning: The default value of cv will change from 3 to 5 in version 0.22. Specify it explicitly to silence this warning.\n",
            "  warnings.warn(CV_WARNING, FutureWarning)\n",
            "/usr/local/lib/python3.6/dist-packages/sklearn/model_selection/_search.py:266: UserWarning: The total space of parameters 6 is smaller than n_iter=10. Running 6 iterations. For exhaustive searches, use GridSearchCV.\n",
            "  % (grid_size, self.n_iter, grid_size), UserWarning)\n"
          ],
          "name": "stderr"
        },
        {
          "output_type": "execute_result",
          "data": {
            "text/plain": [
              "RandomizedSearchCV(cv='warn', error_score='raise-deprecating',\n",
              "                   estimator=<keras.wrappers.scikit_learn.KerasClassifier object at 0x7f1046e42c88>,\n",
              "                   iid='warn', n_iter=10, n_jobs=None,\n",
              "                   param_distributions={'learn_rate': [0.001, 0.01, 0.1, 0.2,\n",
              "                                                       0.3, 0.0001]},\n",
              "                   pre_dispatch='2*n_jobs', random_state=None, refit=True,\n",
              "                   return_train_score=False, scoring=None, verbose=0)"
            ]
          },
          "metadata": {
            "tags": []
          },
          "execution_count": 12
        }
      ]
    },
    {
      "cell_type": "code",
      "metadata": {
        "id": "CWfkKxRKm_8t",
        "colab_type": "code",
        "outputId": "5f22dffb-1901-4a6e-a0b4-0fa0ff810b74",
        "colab": {
          "base_uri": "https://localhost:8080/",
          "height": 255
        }
      },
      "source": [
        "print(clf.best_score_,clf.best_params_)\n",
        "pd.DataFrame(clf.cv_results_)[['mean_test_score', 'std_test_score', 'params']]"
      ],
      "execution_count": 0,
      "outputs": [
        {
          "output_type": "stream",
          "text": [
            "0.7382166666666666 {'learn_rate': 0.001}\n"
          ],
          "name": "stdout"
        },
        {
          "output_type": "execute_result",
          "data": {
            "text/html": [
              "<div>\n",
              "<style scoped>\n",
              "    .dataframe tbody tr th:only-of-type {\n",
              "        vertical-align: middle;\n",
              "    }\n",
              "\n",
              "    .dataframe tbody tr th {\n",
              "        vertical-align: top;\n",
              "    }\n",
              "\n",
              "    .dataframe thead th {\n",
              "        text-align: right;\n",
              "    }\n",
              "</style>\n",
              "<table border=\"1\" class=\"dataframe\">\n",
              "  <thead>\n",
              "    <tr style=\"text-align: right;\">\n",
              "      <th></th>\n",
              "      <th>mean_test_score</th>\n",
              "      <th>std_test_score</th>\n",
              "      <th>params</th>\n",
              "    </tr>\n",
              "  </thead>\n",
              "  <tbody>\n",
              "    <tr>\n",
              "      <th>0</th>\n",
              "      <td>0.738217</td>\n",
              "      <td>0.131113</td>\n",
              "      <td>{'learn_rate': 0.001}</td>\n",
              "    </tr>\n",
              "    <tr>\n",
              "      <th>1</th>\n",
              "      <td>0.705583</td>\n",
              "      <td>0.052058</td>\n",
              "      <td>{'learn_rate': 0.01}</td>\n",
              "    </tr>\n",
              "    <tr>\n",
              "      <th>2</th>\n",
              "      <td>0.102617</td>\n",
              "      <td>0.004593</td>\n",
              "      <td>{'learn_rate': 0.1}</td>\n",
              "    </tr>\n",
              "    <tr>\n",
              "      <th>3</th>\n",
              "      <td>0.099100</td>\n",
              "      <td>0.001893</td>\n",
              "      <td>{'learn_rate': 0.2}</td>\n",
              "    </tr>\n",
              "    <tr>\n",
              "      <th>4</th>\n",
              "      <td>0.105583</td>\n",
              "      <td>0.006060</td>\n",
              "      <td>{'learn_rate': 0.3}</td>\n",
              "    </tr>\n",
              "    <tr>\n",
              "      <th>5</th>\n",
              "      <td>0.551283</td>\n",
              "      <td>0.066806</td>\n",
              "      <td>{'learn_rate': 0.0001}</td>\n",
              "    </tr>\n",
              "  </tbody>\n",
              "</table>\n",
              "</div>"
            ],
            "text/plain": [
              "   mean_test_score  std_test_score                  params\n",
              "0         0.738217        0.131113   {'learn_rate': 0.001}\n",
              "1         0.705583        0.052058    {'learn_rate': 0.01}\n",
              "2         0.102617        0.004593     {'learn_rate': 0.1}\n",
              "3         0.099100        0.001893     {'learn_rate': 0.2}\n",
              "4         0.105583        0.006060     {'learn_rate': 0.3}\n",
              "5         0.551283        0.066806  {'learn_rate': 0.0001}"
            ]
          },
          "metadata": {
            "tags": []
          },
          "execution_count": 13
        }
      ]
    },
    {
      "cell_type": "code",
      "metadata": {
        "id": "kdct5NtvnHzJ",
        "colab_type": "code",
        "outputId": "974d620b-d410-4a52-88de-fe270a27715c",
        "colab": {
          "base_uri": "https://localhost:8080/",
          "height": 54
        }
      },
      "source": [
        "def fullyScaledModel2(dropout_rate=0.0):\n",
        "  model= models.Sequential()\n",
        "  model.add(layers.Dense(512,kernel_initializer='glorot_normal',input_shape=(28*28,)))\n",
        "  BatchNormalization()\n",
        "  model.add(Activation(\"relu\"))\n",
        "  model.add(Dropout(dropout_rate))\n",
        "  \n",
        "  model.add(layers.Dense(256,kernel_initializer='glorot_normal'))\n",
        "  BatchNormalization()\n",
        "  model.add(Activation(\"relu\"))\n",
        "  model.add(Dropout(dropout_rate))\n",
        "  \n",
        "  model.add(layers.Dense(128,kernel_initializer='glorot_normal'))\n",
        "  BatchNormalization()\n",
        "  model.add(Activation(\"relu\"))\n",
        "  model.add(Dropout(dropout_rate))\n",
        "  \n",
        "  model.add(layers.Dense(64,kernel_initializer='glorot_normal'))\n",
        "  BatchNormalization()\n",
        "  model.add(Activation(\"relu\"))\n",
        "  model.add(Dropout(dropout_rate))\n",
        "  \n",
        "  model.add(layers.Dense(32,kernel_initializer='glorot_normal'))\n",
        "  BatchNormalization()\n",
        "  model.add(Activation(\"relu\"))\n",
        "  model.add(Dropout(dropout_rate))\n",
        "  \n",
        "  model.add(layers.Dense(16,kernel_initializer='glorot_normal'))\n",
        "  BatchNormalization()\n",
        "  model.add(Activation(\"relu\"))\n",
        "  model.add(Dropout(dropout_rate))\n",
        "  \n",
        "  model.add(layers.Dense(8,kernel_initializer='glorot_normal'))\n",
        "  BatchNormalization()\n",
        "  model.add(Activation(\"relu\"))\n",
        "  model.add(Dropout(dropout_rate))\n",
        "  \n",
        "  model.add(layers.Dense(4,kernel_initializer='glorot_normal'))\n",
        "  BatchNormalization()\n",
        "  model.add(Activation(\"relu\"))\n",
        "  model.add(Dropout(dropout_rate))\n",
        "  \n",
        "  \n",
        "  \n",
        "  model.add(layers.Dense(10,kernel_initializer='glorot_normal'))\n",
        "  BatchNormalization()\n",
        "  model.add(Activation(\"softmax\"))\n",
        "  \n",
        "  opt=keras.optimizers.Adam(lr=0.001, beta_1=0.9, beta_2=0.999, epsilon=None, decay=0.0, amsgrad=False)\n",
        "  model.compile(optimizer=opt,loss=\"categorical_crossentropy\",metrics=['acc'])\n",
        "  return model  \n",
        "  \n",
        "  \n",
        "\"\"\"# Model Traning   \n",
        "estimator=KerasClassifier(build_fn=fullyScaledModel,epochs=50,batch_size=128,verbose=0)\n",
        "kfold= KFold(n_splits=10, shuffle=True, random_state=seed)\n",
        "results = cross_val_score(estimator, train_data, train_label, cv=kfold)\n",
        "print(\"Results: %.2f%% (%.2f%%)\" % (results.mean()*100, results.std()*100))\"\"\""
      ],
      "execution_count": 0,
      "outputs": [
        {
          "output_type": "execute_result",
          "data": {
            "text/plain": [
              "'# Model Traning   \\nestimator=KerasClassifier(build_fn=fullyScaledModel,epochs=50,batch_size=128,verbose=0)\\nkfold= KFold(n_splits=10, shuffle=True, random_state=seed)\\nresults = cross_val_score(estimator, train_data, train_label, cv=kfold)\\nprint(\"Results: %.2f%% (%.2f%%)\" % (results.mean()*100, results.std()*100))'"
            ]
          },
          "metadata": {
            "tags": []
          },
          "execution_count": 5
        }
      ]
    },
    {
      "cell_type": "code",
      "metadata": {
        "id": "LeOztfO3oBP9",
        "colab_type": "code",
        "outputId": "6fa7a918-ba29-430d-f2f5-08464b58789d",
        "colab": {
          "base_uri": "https://localhost:8080/",
          "height": 662
        }
      },
      "source": [
        "dropout_rate = [ 0.1, 0.2, 0.3, 0.4, 0.5, 0.6, 0.7, 0.8, 0.9]\n",
        "params = {'dropout_rate':dropout_rate}\n",
        "model=KerasClassifier(build_fn=fullyScaledModel2,verbose=0)\n",
        "clf = RandomizedSearchCV(model, params)\n",
        "clf.fit(train_data,train_label)"
      ],
      "execution_count": 0,
      "outputs": [
        {
          "output_type": "stream",
          "text": [
            "/usr/local/lib/python3.6/dist-packages/sklearn/model_selection/_split.py:1978: FutureWarning: The default value of cv will change from 3 to 5 in version 0.22. Specify it explicitly to silence this warning.\n",
            "  warnings.warn(CV_WARNING, FutureWarning)\n",
            "/usr/local/lib/python3.6/dist-packages/sklearn/model_selection/_search.py:266: UserWarning: The total space of parameters 9 is smaller than n_iter=10. Running 9 iterations. For exhaustive searches, use GridSearchCV.\n",
            "  % (grid_size, self.n_iter, grid_size), UserWarning)\n",
            "WARNING: Logging before flag parsing goes to stderr.\n",
            "W0805 18:44:12.950387 139731896313728 deprecation_wrapper.py:119] From /usr/local/lib/python3.6/dist-packages/keras/backend/tensorflow_backend.py:74: The name tf.get_default_graph is deprecated. Please use tf.compat.v1.get_default_graph instead.\n",
            "\n",
            "W0805 18:44:12.988412 139731896313728 deprecation_wrapper.py:119] From /usr/local/lib/python3.6/dist-packages/keras/backend/tensorflow_backend.py:517: The name tf.placeholder is deprecated. Please use tf.compat.v1.placeholder instead.\n",
            "\n",
            "W0805 18:44:12.999381 139731896313728 deprecation_wrapper.py:119] From /usr/local/lib/python3.6/dist-packages/keras/backend/tensorflow_backend.py:4185: The name tf.truncated_normal is deprecated. Please use tf.random.truncated_normal instead.\n",
            "\n",
            "W0805 18:44:13.029886 139731896313728 deprecation_wrapper.py:119] From /usr/local/lib/python3.6/dist-packages/keras/backend/tensorflow_backend.py:133: The name tf.placeholder_with_default is deprecated. Please use tf.compat.v1.placeholder_with_default instead.\n",
            "\n",
            "W0805 18:44:13.043664 139731896313728 deprecation.py:506] From /usr/local/lib/python3.6/dist-packages/keras/backend/tensorflow_backend.py:3445: calling dropout (from tensorflow.python.ops.nn_ops) with keep_prob is deprecated and will be removed in a future version.\n",
            "Instructions for updating:\n",
            "Please use `rate` instead of `keep_prob`. Rate should be set to `rate = 1 - keep_prob`.\n",
            "W0805 18:44:13.354687 139731896313728 deprecation_wrapper.py:119] From /usr/local/lib/python3.6/dist-packages/keras/optimizers.py:790: The name tf.train.Optimizer is deprecated. Please use tf.compat.v1.train.Optimizer instead.\n",
            "\n",
            "W0805 18:44:13.374007 139731896313728 deprecation_wrapper.py:119] From /usr/local/lib/python3.6/dist-packages/keras/backend/tensorflow_backend.py:3295: The name tf.log is deprecated. Please use tf.math.log instead.\n",
            "\n",
            "W0805 18:44:13.538973 139731896313728 deprecation.py:323] From /usr/local/lib/python3.6/dist-packages/tensorflow/python/ops/math_grad.py:1250: add_dispatch_support.<locals>.wrapper (from tensorflow.python.ops.array_ops) is deprecated and will be removed in a future version.\n",
            "Instructions for updating:\n",
            "Use tf.where in 2.0, which has the same broadcast rule as np.where\n",
            "W0805 18:49:53.504636 139731896313728 nn_ops.py:4224] Large dropout rate: 0.6 (>0.5). In TensorFlow 2.x, dropout() uses dropout rate instead of keep_prob. Please ensure that this is intended.\n",
            "W0805 18:49:53.547215 139731896313728 nn_ops.py:4224] Large dropout rate: 0.6 (>0.5). In TensorFlow 2.x, dropout() uses dropout rate instead of keep_prob. Please ensure that this is intended.\n",
            "W0805 18:49:53.587128 139731896313728 nn_ops.py:4224] Large dropout rate: 0.6 (>0.5). In TensorFlow 2.x, dropout() uses dropout rate instead of keep_prob. Please ensure that this is intended.\n",
            "W0805 18:49:53.629482 139731896313728 nn_ops.py:4224] Large dropout rate: 0.6 (>0.5). In TensorFlow 2.x, dropout() uses dropout rate instead of keep_prob. Please ensure that this is intended.\n",
            "W0805 18:49:53.670287 139731896313728 nn_ops.py:4224] Large dropout rate: 0.6 (>0.5). In TensorFlow 2.x, dropout() uses dropout rate instead of keep_prob. Please ensure that this is intended.\n"
          ],
          "name": "stderr"
        },
        {
          "output_type": "execute_result",
          "data": {
            "text/plain": [
              "RandomizedSearchCV(cv='warn', error_score='raise-deprecating',\n",
              "                   estimator=<keras.wrappers.scikit_learn.KerasClassifier object at 0x7f159c3aeef0>,\n",
              "                   iid='warn', n_iter=10, n_jobs=None,\n",
              "                   param_distributions={'dropout_rate': [0.1, 0.2, 0.3, 0.4,\n",
              "                                                         0.5, 0.6, 0.7, 0.8,\n",
              "                                                         0.9]},\n",
              "                   pre_dispatch='2*n_jobs', random_state=None, refit=True,\n",
              "                   return_train_score=False, scoring=None, verbose=0)"
            ]
          },
          "metadata": {
            "tags": []
          },
          "execution_count": 6
        }
      ]
    },
    {
      "cell_type": "code",
      "metadata": {
        "id": "3YSjsXIfz1Lt",
        "colab_type": "code",
        "outputId": "e2464529-4652-496a-95a6-a49f504c0ff9",
        "colab": {
          "base_uri": "https://localhost:8080/",
          "height": 349
        }
      },
      "source": [
        "print(clf.best_score_,clf.best_params_)\n",
        "pd.DataFrame(clf.cv_results_)[['mean_test_score', 'std_test_score', 'params']]"
      ],
      "execution_count": 0,
      "outputs": [
        {
          "output_type": "stream",
          "text": [
            "0.6876833333333333 {'dropout_rate': 0.1}\n"
          ],
          "name": "stdout"
        },
        {
          "output_type": "execute_result",
          "data": {
            "text/html": [
              "<div>\n",
              "<style scoped>\n",
              "    .dataframe tbody tr th:only-of-type {\n",
              "        vertical-align: middle;\n",
              "    }\n",
              "\n",
              "    .dataframe tbody tr th {\n",
              "        vertical-align: top;\n",
              "    }\n",
              "\n",
              "    .dataframe thead th {\n",
              "        text-align: right;\n",
              "    }\n",
              "</style>\n",
              "<table border=\"1\" class=\"dataframe\">\n",
              "  <thead>\n",
              "    <tr style=\"text-align: right;\">\n",
              "      <th></th>\n",
              "      <th>mean_test_score</th>\n",
              "      <th>std_test_score</th>\n",
              "      <th>params</th>\n",
              "    </tr>\n",
              "  </thead>\n",
              "  <tbody>\n",
              "    <tr>\n",
              "      <th>0</th>\n",
              "      <td>0.687683</td>\n",
              "      <td>0.062715</td>\n",
              "      <td>{'dropout_rate': 0.1}</td>\n",
              "    </tr>\n",
              "    <tr>\n",
              "      <th>1</th>\n",
              "      <td>0.474850</td>\n",
              "      <td>0.065268</td>\n",
              "      <td>{'dropout_rate': 0.2}</td>\n",
              "    </tr>\n",
              "    <tr>\n",
              "      <th>2</th>\n",
              "      <td>0.558083</td>\n",
              "      <td>0.029642</td>\n",
              "      <td>{'dropout_rate': 0.3}</td>\n",
              "    </tr>\n",
              "    <tr>\n",
              "      <th>3</th>\n",
              "      <td>0.409400</td>\n",
              "      <td>0.043209</td>\n",
              "      <td>{'dropout_rate': 0.4}</td>\n",
              "    </tr>\n",
              "    <tr>\n",
              "      <th>4</th>\n",
              "      <td>0.196217</td>\n",
              "      <td>0.025129</td>\n",
              "      <td>{'dropout_rate': 0.5}</td>\n",
              "    </tr>\n",
              "    <tr>\n",
              "      <th>5</th>\n",
              "      <td>0.112367</td>\n",
              "      <td>0.002416</td>\n",
              "      <td>{'dropout_rate': 0.6}</td>\n",
              "    </tr>\n",
              "    <tr>\n",
              "      <th>6</th>\n",
              "      <td>0.112367</td>\n",
              "      <td>0.002416</td>\n",
              "      <td>{'dropout_rate': 0.7}</td>\n",
              "    </tr>\n",
              "    <tr>\n",
              "      <th>7</th>\n",
              "      <td>0.112367</td>\n",
              "      <td>0.002416</td>\n",
              "      <td>{'dropout_rate': 0.8}</td>\n",
              "    </tr>\n",
              "    <tr>\n",
              "      <th>8</th>\n",
              "      <td>0.151783</td>\n",
              "      <td>0.030578</td>\n",
              "      <td>{'dropout_rate': 0.9}</td>\n",
              "    </tr>\n",
              "  </tbody>\n",
              "</table>\n",
              "</div>"
            ],
            "text/plain": [
              "   mean_test_score  std_test_score                 params\n",
              "0         0.687683        0.062715  {'dropout_rate': 0.1}\n",
              "1         0.474850        0.065268  {'dropout_rate': 0.2}\n",
              "2         0.558083        0.029642  {'dropout_rate': 0.3}\n",
              "3         0.409400        0.043209  {'dropout_rate': 0.4}\n",
              "4         0.196217        0.025129  {'dropout_rate': 0.5}\n",
              "5         0.112367        0.002416  {'dropout_rate': 0.6}\n",
              "6         0.112367        0.002416  {'dropout_rate': 0.7}\n",
              "7         0.112367        0.002416  {'dropout_rate': 0.8}\n",
              "8         0.151783        0.030578  {'dropout_rate': 0.9}"
            ]
          },
          "metadata": {
            "tags": []
          },
          "execution_count": 7
        }
      ]
    },
    {
      "cell_type": "markdown",
      "metadata": {
        "id": "qV02ukxBsO3r",
        "colab_type": "text"
      },
      "source": [
        "**Regilarizers l2 Tuning**"
      ]
    },
    {
      "cell_type": "code",
      "metadata": {
        "id": "Bcv1Dxglrnvk",
        "colab_type": "code",
        "colab": {}
      },
      "source": [
        "def fullyScaledModel3(rate=0.001):\n",
        "  model= models.Sequential()\n",
        "  model.add(layers.Dense(512,kernel_initializer='glorot_normal',kernel_regularizer=regularizers.l2(rate),input_shape=(28*28,)))\n",
        "  BatchNormalization()\n",
        "  model.add(Activation(\"relu\"))\n",
        "  \n",
        "  model.add(layers.Dense(256,kernel_initializer='glorot_normal',kernel_regularizer=regularizers.l2(rate)))\n",
        "  BatchNormalization()\n",
        "  model.add(Activation(\"relu\"))\n",
        "  \n",
        "  model.add(layers.Dense(128,kernel_initializer='glorot_normal',kernel_regularizer=regularizers.l2(rate)))\n",
        "  BatchNormalization()\n",
        "  model.add(Activation(\"relu\"))\n",
        "  \n",
        "  model.add(layers.Dense(64,kernel_initializer='glorot_normal',kernel_regularizer=regularizers.l2(rate)))\n",
        "  BatchNormalization()\n",
        "  model.add(Activation(\"relu\"))\n",
        "  \n",
        "  model.add(layers.Dense(32,kernel_initializer='glorot_normal',kernel_regularizer=regularizers.l2(rate)))\n",
        "  BatchNormalization()\n",
        "  model.add(Activation(\"relu\"))\n",
        "  \n",
        "  model.add(layers.Dense(16,kernel_initializer='glorot_normal',kernel_regularizer=regularizers.l2(rate)))\n",
        "  BatchNormalization()\n",
        "  model.add(Activation(\"relu\"))\n",
        "  \n",
        "  \n",
        "  model.add(layers.Dense(8,kernel_initializer='glorot_normal',kernel_regularizer=regularizers.l2(rate)))\n",
        "  BatchNormalization()\n",
        "  model.add(Activation(\"relu\"))\n",
        "  \n",
        "  \n",
        "  model.add(layers.Dense(4,kernel_initializer='glorot_normal',kernel_regularizer=regularizers.l2(rate)))\n",
        "  BatchNormalization()\n",
        "  model.add(Activation(\"relu\"))\n",
        "  \n",
        "  \n",
        "  \n",
        "  model.add(layers.Dense(10,kernel_initializer='glorot_normal',kernel_regularizer=regularizers.l2(rate)))\n",
        "  BatchNormalization()\n",
        "  model.add(Activation(\"softmax\"))\n",
        "  \n",
        "  opt=keras.optimizers.Adam(lr=0.001, beta_1=0.9, beta_2=0.999, epsilon=None, decay=0.0, amsgrad=False)\n",
        "  model.compile(optimizer=opt,loss=\"categorical_crossentropy\",metrics=['acc'])\n",
        "  return model  "
      ],
      "execution_count": 0,
      "outputs": []
    },
    {
      "cell_type": "code",
      "metadata": {
        "id": "WOeoEAjsr4N7",
        "colab_type": "code",
        "outputId": "d90f4af5-1d09-4059-d6f3-f31602862f61",
        "colab": {
          "base_uri": "https://localhost:8080/",
          "height": 454
        }
      },
      "source": [
        "rate = [ 0.1, 0.001, 0.0001, 0.00001, 0.000001]\n",
        "params = {'rate':rate}\n",
        "model=KerasClassifier(build_fn=fullyScaledModel3,verbose=0)\n",
        "clf = RandomizedSearchCV(model, params)\n",
        "clf.fit(train_data,train_label)"
      ],
      "execution_count": 0,
      "outputs": [
        {
          "output_type": "stream",
          "text": [
            "/usr/local/lib/python3.6/dist-packages/sklearn/model_selection/_split.py:1978: FutureWarning: The default value of cv will change from 3 to 5 in version 0.22. Specify it explicitly to silence this warning.\n",
            "  warnings.warn(CV_WARNING, FutureWarning)\n",
            "/usr/local/lib/python3.6/dist-packages/sklearn/model_selection/_search.py:266: UserWarning: The total space of parameters 5 is smaller than n_iter=10. Running 5 iterations. For exhaustive searches, use GridSearchCV.\n",
            "  % (grid_size, self.n_iter, grid_size), UserWarning)\n",
            "W0806 06:56:03.074160 140468111075200 deprecation_wrapper.py:119] From /usr/local/lib/python3.6/dist-packages/keras/backend/tensorflow_backend.py:517: The name tf.placeholder is deprecated. Please use tf.compat.v1.placeholder instead.\n",
            "\n",
            "W0806 06:56:03.084674 140468111075200 deprecation_wrapper.py:119] From /usr/local/lib/python3.6/dist-packages/keras/backend/tensorflow_backend.py:4185: The name tf.truncated_normal is deprecated. Please use tf.random.truncated_normal instead.\n",
            "\n",
            "W0806 06:56:03.275202 140468111075200 deprecation_wrapper.py:119] From /usr/local/lib/python3.6/dist-packages/keras/optimizers.py:790: The name tf.train.Optimizer is deprecated. Please use tf.compat.v1.train.Optimizer instead.\n",
            "\n",
            "W0806 06:56:03.290288 140468111075200 deprecation_wrapper.py:119] From /usr/local/lib/python3.6/dist-packages/keras/backend/tensorflow_backend.py:3295: The name tf.log is deprecated. Please use tf.math.log instead.\n",
            "\n",
            "W0806 06:56:03.574729 140468111075200 deprecation.py:323] From /usr/local/lib/python3.6/dist-packages/tensorflow/python/ops/math_grad.py:1250: add_dispatch_support.<locals>.wrapper (from tensorflow.python.ops.array_ops) is deprecated and will be removed in a future version.\n",
            "Instructions for updating:\n",
            "Use tf.where in 2.0, which has the same broadcast rule as np.where\n",
            "W0806 06:56:03.668146 140468111075200 deprecation_wrapper.py:119] From /usr/local/lib/python3.6/dist-packages/keras/backend/tensorflow_backend.py:986: The name tf.assign_add is deprecated. Please use tf.compat.v1.assign_add instead.\n",
            "\n"
          ],
          "name": "stderr"
        },
        {
          "output_type": "execute_result",
          "data": {
            "text/plain": [
              "RandomizedSearchCV(cv='warn', error_score='raise-deprecating',\n",
              "                   estimator=<keras.wrappers.scikit_learn.KerasClassifier object at 0x7fc124c6fd30>,\n",
              "                   iid='warn', n_iter=10, n_jobs=None,\n",
              "                   param_distributions={'rate': [0.1, 0.001, 0.0001, 1e-05,\n",
              "                                                 1e-06]},\n",
              "                   pre_dispatch='2*n_jobs', random_state=None, refit=True,\n",
              "                   return_train_score=False, scoring=None, verbose=0)"
            ]
          },
          "metadata": {
            "tags": []
          },
          "execution_count": 7
        }
      ]
    },
    {
      "cell_type": "code",
      "metadata": {
        "id": "L9RX6pE6whmI",
        "colab_type": "code",
        "outputId": "2f589660-5ece-4576-9553-5f312259a1e5",
        "colab": {
          "base_uri": "https://localhost:8080/",
          "height": 224
        }
      },
      "source": [
        "print(clf.best_score_,clf.best_params_)\n",
        "pd.DataFrame(clf.cv_results_)[['mean_test_score', 'std_test_score', 'params']]"
      ],
      "execution_count": 0,
      "outputs": [
        {
          "output_type": "stream",
          "text": [
            "0.9220166666666667 {'rate': 1e-05}\n"
          ],
          "name": "stdout"
        },
        {
          "output_type": "execute_result",
          "data": {
            "text/html": [
              "<div>\n",
              "<style scoped>\n",
              "    .dataframe tbody tr th:only-of-type {\n",
              "        vertical-align: middle;\n",
              "    }\n",
              "\n",
              "    .dataframe tbody tr th {\n",
              "        vertical-align: top;\n",
              "    }\n",
              "\n",
              "    .dataframe thead th {\n",
              "        text-align: right;\n",
              "    }\n",
              "</style>\n",
              "<table border=\"1\" class=\"dataframe\">\n",
              "  <thead>\n",
              "    <tr style=\"text-align: right;\">\n",
              "      <th></th>\n",
              "      <th>mean_test_score</th>\n",
              "      <th>std_test_score</th>\n",
              "      <th>params</th>\n",
              "    </tr>\n",
              "  </thead>\n",
              "  <tbody>\n",
              "    <tr>\n",
              "      <th>0</th>\n",
              "      <td>0.112367</td>\n",
              "      <td>0.002416</td>\n",
              "      <td>{'rate': 0.1}</td>\n",
              "    </tr>\n",
              "    <tr>\n",
              "      <th>1</th>\n",
              "      <td>0.883350</td>\n",
              "      <td>0.041952</td>\n",
              "      <td>{'rate': 0.001}</td>\n",
              "    </tr>\n",
              "    <tr>\n",
              "      <th>2</th>\n",
              "      <td>0.910250</td>\n",
              "      <td>0.024085</td>\n",
              "      <td>{'rate': 0.0001}</td>\n",
              "    </tr>\n",
              "    <tr>\n",
              "      <th>3</th>\n",
              "      <td>0.922017</td>\n",
              "      <td>0.020291</td>\n",
              "      <td>{'rate': 1e-05}</td>\n",
              "    </tr>\n",
              "    <tr>\n",
              "      <th>4</th>\n",
              "      <td>0.830583</td>\n",
              "      <td>0.156741</td>\n",
              "      <td>{'rate': 1e-06}</td>\n",
              "    </tr>\n",
              "  </tbody>\n",
              "</table>\n",
              "</div>"
            ],
            "text/plain": [
              "   mean_test_score  std_test_score            params\n",
              "0         0.112367        0.002416     {'rate': 0.1}\n",
              "1         0.883350        0.041952   {'rate': 0.001}\n",
              "2         0.910250        0.024085  {'rate': 0.0001}\n",
              "3         0.922017        0.020291   {'rate': 1e-05}\n",
              "4         0.830583        0.156741   {'rate': 1e-06}"
            ]
          },
          "metadata": {
            "tags": []
          },
          "execution_count": 8
        }
      ]
    }
  ]
}