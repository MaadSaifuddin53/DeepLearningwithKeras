{
  "nbformat": 4,
  "nbformat_minor": 0,
  "metadata": {
    "colab": {
      "name": "MNIST Problem .ipynb",
      "version": "0.3.2",
      "provenance": [],
      "collapsed_sections": [],
      "include_colab_link": true
    },
    "kernelspec": {
      "name": "python3",
      "display_name": "Python 3"
    }
  },
  "cells": [
    {
      "cell_type": "markdown",
      "metadata": {
        "id": "view-in-github",
        "colab_type": "text"
      },
      "source": [
        "<a href=\"https://colab.research.google.com/github/MaadSaifuddin53/DeepLearningwithKeras/blob/master/MNIST_Problem_.ipynb\" target=\"_parent\"><img src=\"https://colab.research.google.com/assets/colab-badge.svg\" alt=\"Open In Colab\"/></a>"
      ]
    },
    {
      "cell_type": "code",
      "metadata": {
        "id": "C3b6ebvyQvxb",
        "colab_type": "code",
        "colab": {}
      },
      "source": [
        "import keras\n",
        "import sklearn\n",
        "from keras import layers,models,optimizers,losses,activations,regularizers,initializers\n",
        "from keras.utils import to_categorical\n",
        "import pandas as pd\n",
        "import numpy as np\n",
        "from keras.wrappers.scikit_learn import KerasClassifier\n",
        "from sklearn.model_selection import cross_val_score\n",
        "from sklearn.preprocessing import LabelEncoder        # for label encoder\n",
        "from sklearn.model_selection import KFold\n",
        "from sklearn.preprocessing import StandardScaler\n",
        "from sklearn.pipeline import Pipeline\n",
        "from sklearn.model_selection import train_test_split\n",
        "from keras.layers.normalization  import BatchNormalization\n",
        "from sklearn.model_selection import RandomizedSearchCV\n",
        "from keras.layers import Activation\n",
        "from keras import regularizers\n",
        "from keras.layers import Dropout \n",
        "import matplotlib.pyplot as plt"
      ],
      "execution_count": 0,
      "outputs": []
    },
    {
      "cell_type": "code",
      "metadata": {
        "id": "FBRdxiS4mDf6",
        "colab_type": "code",
        "colab": {}
      },
      "source": [
        "seed=7\n",
        "np.random.seed(seed)"
      ],
      "execution_count": 0,
      "outputs": []
    },
    {
      "cell_type": "code",
      "metadata": {
        "id": "x0-hsO0mBUoJ",
        "colab_type": "code",
        "colab": {}
      },
      "source": [
        "from keras.datasets import mnist"
      ],
      "execution_count": 0,
      "outputs": []
    },
    {
      "cell_type": "markdown",
      "metadata": {
        "id": "E0_27X2PJmIw",
        "colab_type": "text"
      },
      "source": [
        " **Loading Data**\n",
        " "
      ]
    },
    {
      "cell_type": "code",
      "metadata": {
        "id": "lp4MWv8gCLCt",
        "colab_type": "code",
        "outputId": "0c0b268f-b879-4f9b-ac21-46563a6ef750",
        "colab": {
          "base_uri": "https://localhost:8080/",
          "height": 52
        }
      },
      "source": [
        "(train_data,train_label), (test_data,test_labels)=mnist.load_data()"
      ],
      "execution_count": 0,
      "outputs": [
        {
          "output_type": "stream",
          "text": [
            "Downloading data from https://s3.amazonaws.com/img-datasets/mnist.npz\n",
            "11493376/11490434 [==============================] - 0s 0us/step\n"
          ],
          "name": "stdout"
        }
      ]
    },
    {
      "cell_type": "code",
      "metadata": {
        "id": "1bWSgYPjCdZh",
        "colab_type": "code",
        "outputId": "848a21c9-e1bd-4fb9-fcd4-7853ac6e52bb",
        "colab": {
          "base_uri": "https://localhost:8080/",
          "height": 34
        }
      },
      "source": [
        "train_data.shape"
      ],
      "execution_count": 0,
      "outputs": [
        {
          "output_type": "execute_result",
          "data": {
            "text/plain": [
              "(60000, 28, 28)"
            ]
          },
          "metadata": {
            "tags": []
          },
          "execution_count": 5
        }
      ]
    },
    {
      "cell_type": "code",
      "metadata": {
        "id": "vkrUJ2odEEBd",
        "colab_type": "code",
        "outputId": "9fddf48e-ef22-466e-ae6e-a96efd6e96e4",
        "colab": {
          "base_uri": "https://localhost:8080/",
          "height": 34
        }
      },
      "source": [
        "test_data.shape"
      ],
      "execution_count": 0,
      "outputs": [
        {
          "output_type": "execute_result",
          "data": {
            "text/plain": [
              "(10000, 28, 28)"
            ]
          },
          "metadata": {
            "tags": []
          },
          "execution_count": 6
        }
      ]
    },
    {
      "cell_type": "markdown",
      "metadata": {
        "id": "CUrdpdoTJaa3",
        "colab_type": "text"
      },
      "source": [
        "**Normalizing Data**"
      ]
    },
    {
      "cell_type": "code",
      "metadata": {
        "id": "IKPpm4SIGpv9",
        "colab_type": "code",
        "colab": {}
      },
      "source": [
        "train_data = train_data.reshape((60000,28*28))\n",
        "train_data = train_data.astype(\"float32\")/255\n",
        "\n",
        "test_data =  test_data.reshape((10000,28*28))\n",
        "test_data =  test_data.astype(\"float32\")/255"
      ],
      "execution_count": 0,
      "outputs": []
    },
    {
      "cell_type": "markdown",
      "metadata": {
        "id": "zVw_MHzxKLC_",
        "colab_type": "text"
      },
      "source": [
        "**Preparing the label**\n"
      ]
    },
    {
      "cell_type": "code",
      "metadata": {
        "id": "h9hrNr3RKImH",
        "colab_type": "code",
        "colab": {}
      },
      "source": [
        "train_label = to_categorical(train_label)\n",
        "test_label  =  to_categorical(test_labels)"
      ],
      "execution_count": 0,
      "outputs": []
    },
    {
      "cell_type": "markdown",
      "metadata": {
        "id": "zwG-mPieM-E-",
        "colab_type": "text"
      },
      "source": [
        "**Train validation split**\n"
      ]
    },
    {
      "cell_type": "code",
      "metadata": {
        "id": "qn8fOJYdWIo6",
        "colab_type": "code",
        "colab": {}
      },
      "source": [
        "x_data   = train_data[:50000]\n",
        "val_data = train_data[50000 : ]\n",
        "\n",
        "x_label = train_label[:50000]\n",
        "val_label = train_label[50000:]\n"
      ],
      "execution_count": 0,
      "outputs": []
    },
    {
      "cell_type": "code",
      "metadata": {
        "id": "fMvGdb2LM4hc",
        "colab_type": "code",
        "outputId": "ed397f27-890c-4b22-c7ae-75ebf762dde0",
        "colab": {
          "base_uri": "https://localhost:8080/",
          "height": 86
        }
      },
      "source": [
        "print(x_data.shape)\n",
        "print(val_data.shape)\n",
        "print(x_label.shape)\n",
        "print(val_label.shape)"
      ],
      "execution_count": 0,
      "outputs": [
        {
          "output_type": "stream",
          "text": [
            "(50000, 784)\n",
            "(10000, 784)\n",
            "(50000, 10)\n",
            "(10000, 10)\n"
          ],
          "name": "stdout"
        }
      ]
    },
    {
      "cell_type": "code",
      "metadata": {
        "id": "bW3uVR5SXkVq",
        "colab_type": "code",
        "colab": {}
      },
      "source": [
        ""
      ],
      "execution_count": 0,
      "outputs": []
    },
    {
      "cell_type": "code",
      "metadata": {
        "id": "D5BNXQ21EsL_",
        "colab_type": "code",
        "colab": {}
      },
      "source": [
        "def baseLineModel():\n",
        "  model= models.Sequential()\n",
        "  model.add(layers.Dense(16,kernel_initializer='glorot_uniform',input_shape=(28*28,)))\n",
        "  BatchNormalization()\n",
        "  model.add(Activation(\"relu\"))\n",
        "  \n",
        "  model.add(layers.Dense(10,kernel_initializer='glorot_uniform'))\n",
        "  BatchNormalization()\n",
        "  model.add(Activation(\"softmax\"))\n",
        "  \n",
        "  model.compile(optimizer='Adam',loss=\"categorical_crossentropy\",metrics=['acc'])\n",
        "  return model  "
      ],
      "execution_count": 0,
      "outputs": []
    },
    {
      "cell_type": "code",
      "metadata": {
        "id": "3-w2axzYZS1C",
        "colab_type": "code",
        "outputId": "5c66e419-df37-46fb-e373-6a534e59dfa3",
        "colab": {
          "base_uri": "https://localhost:8080/",
          "height": 1000
        }
      },
      "source": [
        "model=baseLineModel()\n",
        "history = model.fit(x_data,x_label,epochs=50,batch_size=128,validation_data=(val_data,val_label))\n"
      ],
      "execution_count": 0,
      "outputs": [
        {
          "output_type": "stream",
          "text": [
            "WARNING: Logging before flag parsing goes to stderr.\n",
            "W0801 07:18:10.499284 139950953265024 deprecation_wrapper.py:119] From /usr/local/lib/python3.6/dist-packages/keras/backend/tensorflow_backend.py:74: The name tf.get_default_graph is deprecated. Please use tf.compat.v1.get_default_graph instead.\n",
            "\n",
            "W0801 07:18:10.538208 139950953265024 deprecation_wrapper.py:119] From /usr/local/lib/python3.6/dist-packages/keras/backend/tensorflow_backend.py:517: The name tf.placeholder is deprecated. Please use tf.compat.v1.placeholder instead.\n",
            "\n",
            "W0801 07:18:10.545438 139950953265024 deprecation_wrapper.py:119] From /usr/local/lib/python3.6/dist-packages/keras/backend/tensorflow_backend.py:4138: The name tf.random_uniform is deprecated. Please use tf.random.uniform instead.\n",
            "\n",
            "W0801 07:18:10.580577 139950953265024 deprecation_wrapper.py:119] From /usr/local/lib/python3.6/dist-packages/keras/optimizers.py:790: The name tf.train.Optimizer is deprecated. Please use tf.compat.v1.train.Optimizer instead.\n",
            "\n",
            "W0801 07:18:10.608731 139950953265024 deprecation_wrapper.py:119] From /usr/local/lib/python3.6/dist-packages/keras/backend/tensorflow_backend.py:3295: The name tf.log is deprecated. Please use tf.math.log instead.\n",
            "\n",
            "W0801 07:18:10.741402 139950953265024 deprecation.py:323] From /usr/local/lib/python3.6/dist-packages/tensorflow/python/ops/math_grad.py:1250: add_dispatch_support.<locals>.wrapper (from tensorflow.python.ops.array_ops) is deprecated and will be removed in a future version.\n",
            "Instructions for updating:\n",
            "Use tf.where in 2.0, which has the same broadcast rule as np.where\n",
            "W0801 07:18:10.793018 139950953265024 deprecation_wrapper.py:119] From /usr/local/lib/python3.6/dist-packages/keras/backend/tensorflow_backend.py:986: The name tf.assign_add is deprecated. Please use tf.compat.v1.assign_add instead.\n",
            "\n"
          ],
          "name": "stderr"
        },
        {
          "output_type": "stream",
          "text": [
            "Train on 50000 samples, validate on 10000 samples\n",
            "Epoch 1/50\n",
            "50000/50000 [==============================] - 2s 34us/step - loss: 0.6737 - acc: 0.8117 - val_loss: 0.3129 - val_acc: 0.9160\n",
            "Epoch 2/50\n",
            "50000/50000 [==============================] - 1s 21us/step - loss: 0.3085 - acc: 0.9124 - val_loss: 0.2626 - val_acc: 0.9242\n",
            "Epoch 3/50\n",
            "50000/50000 [==============================] - 1s 19us/step - loss: 0.2690 - acc: 0.9240 - val_loss: 0.2411 - val_acc: 0.9310\n",
            "Epoch 4/50\n",
            "50000/50000 [==============================] - 1s 18us/step - loss: 0.2480 - acc: 0.9296 - val_loss: 0.2300 - val_acc: 0.9335\n",
            "Epoch 5/50\n",
            "50000/50000 [==============================] - 1s 18us/step - loss: 0.2329 - acc: 0.9344 - val_loss: 0.2176 - val_acc: 0.9373\n",
            "Epoch 6/50\n",
            "50000/50000 [==============================] - 1s 18us/step - loss: 0.2213 - acc: 0.9371 - val_loss: 0.2097 - val_acc: 0.9411\n",
            "Epoch 7/50\n",
            "50000/50000 [==============================] - 1s 18us/step - loss: 0.2109 - acc: 0.9395 - val_loss: 0.2060 - val_acc: 0.9424\n",
            "Epoch 8/50\n",
            "50000/50000 [==============================] - 1s 18us/step - loss: 0.2010 - acc: 0.9430 - val_loss: 0.1974 - val_acc: 0.9433\n",
            "Epoch 9/50\n",
            "50000/50000 [==============================] - 1s 18us/step - loss: 0.1944 - acc: 0.9436 - val_loss: 0.1935 - val_acc: 0.9466\n",
            "Epoch 10/50\n",
            "50000/50000 [==============================] - 1s 18us/step - loss: 0.1870 - acc: 0.9465 - val_loss: 0.1901 - val_acc: 0.9465\n",
            "Epoch 11/50\n",
            "50000/50000 [==============================] - 1s 18us/step - loss: 0.1810 - acc: 0.9477 - val_loss: 0.1846 - val_acc: 0.9486\n",
            "Epoch 12/50\n",
            "50000/50000 [==============================] - 1s 19us/step - loss: 0.1761 - acc: 0.9499 - val_loss: 0.1883 - val_acc: 0.9493\n",
            "Epoch 13/50\n",
            "50000/50000 [==============================] - 1s 18us/step - loss: 0.1711 - acc: 0.9511 - val_loss: 0.1809 - val_acc: 0.9497\n",
            "Epoch 14/50\n",
            "50000/50000 [==============================] - 1s 18us/step - loss: 0.1671 - acc: 0.9526 - val_loss: 0.1787 - val_acc: 0.9504\n",
            "Epoch 15/50\n",
            "50000/50000 [==============================] - 1s 18us/step - loss: 0.1634 - acc: 0.9534 - val_loss: 0.1786 - val_acc: 0.9504\n",
            "Epoch 16/50\n",
            "50000/50000 [==============================] - 1s 18us/step - loss: 0.1598 - acc: 0.9542 - val_loss: 0.1776 - val_acc: 0.9493\n",
            "Epoch 17/50\n",
            "50000/50000 [==============================] - 1s 18us/step - loss: 0.1569 - acc: 0.9552 - val_loss: 0.1796 - val_acc: 0.9495\n",
            "Epoch 18/50\n",
            "50000/50000 [==============================] - 1s 18us/step - loss: 0.1538 - acc: 0.9567 - val_loss: 0.1729 - val_acc: 0.9510\n",
            "Epoch 19/50\n",
            "50000/50000 [==============================] - 1s 18us/step - loss: 0.1510 - acc: 0.9568 - val_loss: 0.1780 - val_acc: 0.9483\n",
            "Epoch 20/50\n",
            "50000/50000 [==============================] - 1s 18us/step - loss: 0.1488 - acc: 0.9578 - val_loss: 0.1739 - val_acc: 0.9507\n",
            "Epoch 21/50\n",
            "50000/50000 [==============================] - 1s 18us/step - loss: 0.1460 - acc: 0.9585 - val_loss: 0.1708 - val_acc: 0.9525\n",
            "Epoch 22/50\n",
            "50000/50000 [==============================] - 1s 18us/step - loss: 0.1438 - acc: 0.9592 - val_loss: 0.1736 - val_acc: 0.9523\n",
            "Epoch 23/50\n",
            "50000/50000 [==============================] - 1s 18us/step - loss: 0.1416 - acc: 0.9594 - val_loss: 0.1708 - val_acc: 0.9539\n",
            "Epoch 24/50\n",
            "50000/50000 [==============================] - 1s 19us/step - loss: 0.1396 - acc: 0.9603 - val_loss: 0.1688 - val_acc: 0.9524\n",
            "Epoch 25/50\n",
            "50000/50000 [==============================] - 1s 18us/step - loss: 0.1373 - acc: 0.9605 - val_loss: 0.1680 - val_acc: 0.9535\n",
            "Epoch 26/50\n",
            "50000/50000 [==============================] - 1s 18us/step - loss: 0.1351 - acc: 0.9611 - val_loss: 0.1709 - val_acc: 0.9528\n",
            "Epoch 27/50\n",
            "50000/50000 [==============================] - 1s 18us/step - loss: 0.1337 - acc: 0.9621 - val_loss: 0.1697 - val_acc: 0.9539\n",
            "Epoch 28/50\n",
            "50000/50000 [==============================] - 1s 18us/step - loss: 0.1318 - acc: 0.9625 - val_loss: 0.1699 - val_acc: 0.9529\n",
            "Epoch 29/50\n",
            "50000/50000 [==============================] - 1s 18us/step - loss: 0.1306 - acc: 0.9629 - val_loss: 0.1685 - val_acc: 0.9517\n",
            "Epoch 30/50\n",
            "50000/50000 [==============================] - 1s 18us/step - loss: 0.1284 - acc: 0.9635 - val_loss: 0.1699 - val_acc: 0.9519\n",
            "Epoch 31/50\n",
            "50000/50000 [==============================] - 1s 18us/step - loss: 0.1272 - acc: 0.9636 - val_loss: 0.1702 - val_acc: 0.9517\n",
            "Epoch 32/50\n",
            "50000/50000 [==============================] - 1s 18us/step - loss: 0.1255 - acc: 0.9640 - val_loss: 0.1727 - val_acc: 0.9506\n",
            "Epoch 33/50\n",
            "50000/50000 [==============================] - 1s 18us/step - loss: 0.1243 - acc: 0.9642 - val_loss: 0.1693 - val_acc: 0.9527\n",
            "Epoch 34/50\n",
            "50000/50000 [==============================] - 1s 18us/step - loss: 0.1235 - acc: 0.9641 - val_loss: 0.1717 - val_acc: 0.9515\n",
            "Epoch 35/50\n",
            "50000/50000 [==============================] - 1s 19us/step - loss: 0.1212 - acc: 0.9649 - val_loss: 0.1686 - val_acc: 0.9531\n",
            "Epoch 36/50\n",
            "50000/50000 [==============================] - 1s 18us/step - loss: 0.1208 - acc: 0.9656 - val_loss: 0.1721 - val_acc: 0.9529\n",
            "Epoch 37/50\n",
            "50000/50000 [==============================] - 1s 18us/step - loss: 0.1195 - acc: 0.9661 - val_loss: 0.1731 - val_acc: 0.9522\n",
            "Epoch 38/50\n",
            "50000/50000 [==============================] - 1s 18us/step - loss: 0.1187 - acc: 0.9660 - val_loss: 0.1673 - val_acc: 0.9534\n",
            "Epoch 39/50\n",
            "50000/50000 [==============================] - 1s 18us/step - loss: 0.1168 - acc: 0.9673 - val_loss: 0.1716 - val_acc: 0.9516\n",
            "Epoch 40/50\n",
            "50000/50000 [==============================] - 1s 18us/step - loss: 0.1160 - acc: 0.9663 - val_loss: 0.1729 - val_acc: 0.9506\n",
            "Epoch 41/50\n",
            "50000/50000 [==============================] - 1s 18us/step - loss: 0.1156 - acc: 0.9670 - val_loss: 0.1697 - val_acc: 0.9531\n",
            "Epoch 42/50\n",
            "50000/50000 [==============================] - 1s 18us/step - loss: 0.1139 - acc: 0.9672 - val_loss: 0.1701 - val_acc: 0.9536\n",
            "Epoch 43/50\n",
            "50000/50000 [==============================] - 1s 19us/step - loss: 0.1121 - acc: 0.9682 - val_loss: 0.1721 - val_acc: 0.9509\n",
            "Epoch 44/50\n",
            "50000/50000 [==============================] - 1s 18us/step - loss: 0.1113 - acc: 0.9683 - val_loss: 0.1704 - val_acc: 0.9537\n",
            "Epoch 45/50\n",
            "50000/50000 [==============================] - 1s 18us/step - loss: 0.1101 - acc: 0.9685 - val_loss: 0.1729 - val_acc: 0.9517\n",
            "Epoch 46/50\n",
            "50000/50000 [==============================] - 1s 18us/step - loss: 0.1098 - acc: 0.9689 - val_loss: 0.1747 - val_acc: 0.9523\n",
            "Epoch 47/50\n",
            "50000/50000 [==============================] - 1s 19us/step - loss: 0.1083 - acc: 0.9689 - val_loss: 0.1729 - val_acc: 0.9523\n",
            "Epoch 48/50\n",
            "50000/50000 [==============================] - 1s 18us/step - loss: 0.1081 - acc: 0.9692 - val_loss: 0.1706 - val_acc: 0.9521\n",
            "Epoch 49/50\n",
            "50000/50000 [==============================] - 1s 18us/step - loss: 0.1073 - acc: 0.9696 - val_loss: 0.1721 - val_acc: 0.9530\n",
            "Epoch 50/50\n",
            "50000/50000 [==============================] - 1s 18us/step - loss: 0.1055 - acc: 0.9697 - val_loss: 0.1729 - val_acc: 0.9531\n"
          ],
          "name": "stdout"
        }
      ]
    },
    {
      "cell_type": "code",
      "metadata": {
        "id": "MAovN-fGenxz",
        "colab_type": "code",
        "outputId": "efa95fb3-f00d-4e5d-ee7e-f8aa7d2209f5",
        "colab": {
          "base_uri": "https://localhost:8080/",
          "height": 34
        }
      },
      "source": [
        "test_loss,test_acc = model.evaluate(test_data,test_label)\n"
      ],
      "execution_count": 0,
      "outputs": [
        {
          "output_type": "stream",
          "text": [
            "10000/10000 [==============================] - 0s 19us/step\n"
          ],
          "name": "stdout"
        }
      ]
    },
    {
      "cell_type": "code",
      "metadata": {
        "id": "Ox0nRQGAfprF",
        "colab_type": "code",
        "outputId": "0c0b2bc7-80d2-4e96-9e83-53f1af6e3887",
        "colab": {
          "base_uri": "https://localhost:8080/",
          "height": 52
        }
      },
      "source": [
        "\n",
        "print(\"test_loss  \" , (test_loss*100))\n",
        "print(\"test_accuracy  \" ,(test_acc*100))"
      ],
      "execution_count": 0,
      "outputs": [
        {
          "output_type": "stream",
          "text": [
            "test_loss   17.90727335933596\n",
            "test_accuracy   95.27\n"
          ],
          "name": "stdout"
        }
      ]
    },
    {
      "cell_type": "markdown",
      "metadata": {
        "id": "gGM9R295klIE",
        "colab_type": "text"
      },
      "source": [
        "**Using stratified k fold and cross validation**"
      ]
    },
    {
      "cell_type": "code",
      "metadata": {
        "id": "BAKOWIgalUHp",
        "colab_type": "code",
        "colab": {}
      },
      "source": [
        "#Loading Data\n",
        "(train_data,train_label), (test_data,test_labels)=mnist.load_data()\n",
        "\n",
        "#Normalizing Data \n",
        "train_data = train_data.reshape((60000,28*28))\n",
        "train_data = train_data.astype(\"float32\")/255\n",
        "test_data =  test_data.reshape((10000,28*28))\n",
        "test_data =  test_data.astype(\"float32\")/255\n",
        "\n",
        "#one hot Encoding\n",
        "train_label = to_categorical(train_label)\n",
        "test_label  =  to_categorical(test_labels)"
      ],
      "execution_count": 0,
      "outputs": []
    },
    {
      "cell_type": "code",
      "metadata": {
        "id": "NqiigI62kkpw",
        "colab_type": "code",
        "outputId": "478bcc73-da81-4af2-caea-7a02639d8421",
        "colab": {
          "base_uri": "https://localhost:8080/",
          "height": 34
        }
      },
      "source": [
        "estimator=KerasClassifier(build_fn=baseLineModel,epochs=50,batch_size=128,verbose=0)\n",
        "kfold= KFold(n_splits=10, shuffle=True, random_state=seed)\n",
        "results = cross_val_score(estimator, train_data, train_label, cv=kfold)\n",
        "print(\"Results: %.2f%% (%.2f%%)\" % (results.mean()*100, results.std()*100))"
      ],
      "execution_count": 0,
      "outputs": [
        {
          "output_type": "stream",
          "text": [
            "Results: 94.87% (0.30%)\n"
          ],
          "name": "stdout"
        }
      ]
    },
    {
      "cell_type": "code",
      "metadata": {
        "id": "RdjW5eWZkiD_",
        "colab_type": "code",
        "outputId": "68c3b61b-b3b2-42dd-f59f-8117965c6657",
        "colab": {
          "base_uri": "https://localhost:8080/",
          "height": 34
        }
      },
      "source": [
        "def largeModel():\n",
        "  model= models.Sequential()\n",
        "  model.add(layers.Dense(8,kernel_initializer='glorot_uniform',input_shape=(28*28,)))\n",
        "  BatchNormalization()\n",
        "  model.add(Activation(\"relu\"))\n",
        "  \n",
        "  model.add(layers.Dense(8,kernel_initializer='glorot_uniform'))\n",
        "  BatchNormalization()\n",
        "  model.add(Activation(\"relu\"))\n",
        "  \n",
        "  model.add(layers.Dense(10,kernel_initializer='glorot_uniform'))\n",
        "  BatchNormalization()\n",
        "  model.add(Activation(\"softmax\"))\n",
        "  \n",
        "  model.compile(optimizer=\"Adam\",loss=\"categorical_crossentropy\",metrics=['acc'])\n",
        "  return model  \n",
        "  \n",
        "  \n",
        "# Model Traning   \n",
        "estimator=KerasClassifier(build_fn=largeModel,epochs=50,batch_size=128,verbose=0)\n",
        "kfold= KFold(n_splits=10, shuffle=True, random_state=seed)\n",
        "results = cross_val_score(estimator, train_data, train_label, cv=kfold)\n",
        "print(\"Results: %.2f%% (%.2f%%)\" % (results.mean()*100, results.std()*100))"
      ],
      "execution_count": 0,
      "outputs": [
        {
          "output_type": "stream",
          "text": [
            "Results: 92.51% (0.30%)\n"
          ],
          "name": "stdout"
        }
      ]
    },
    {
      "cell_type": "code",
      "metadata": {
        "id": "IjGz2sJzpdnT",
        "colab_type": "code",
        "outputId": "331edbbc-1a14-4b8e-c551-8b441253d5c6",
        "colab": {
          "base_uri": "https://localhost:8080/",
          "height": 34
        }
      },
      "source": [
        "def largeModel1():\n",
        "  model= models.Sequential()\n",
        "  model.add(layers.Dense(16,kernel_initializer='glorot_uniform',input_shape=(28*28,)))\n",
        "  BatchNormalization()\n",
        "  model.add(Activation(\"relu\"))\n",
        "  \n",
        "  model.add(layers.Dense(8,kernel_initializer='glorot_uniform'))\n",
        "  BatchNormalization()\n",
        "  model.add(Activation(\"relu\"))\n",
        "  \n",
        "  model.add(layers.Dense(4,kernel_initializer='glorot_uniform'))\n",
        "  BatchNormalization()\n",
        "  model.add(Activation(\"relu\"))\n",
        "  \n",
        "  \n",
        "  model.add(layers.Dense(10,kernel_initializer='glorot_uniform'))\n",
        "  BatchNormalization()\n",
        "  model.add(Activation(\"softmax\"))\n",
        "  \n",
        "  model.compile(optimizer=\"Adam\",loss=\"categorical_crossentropy\",metrics=['acc'])\n",
        "  return model  \n",
        "  \n",
        "  \n",
        "# Model Traning   \n",
        "estimator=KerasClassifier(build_fn=largeModel1,epochs=50,batch_size=128,verbose=0)\n",
        "kfold= KFold(n_splits=10, shuffle=True, random_state=seed)\n",
        "results = cross_val_score(estimator, train_data, train_label, cv=kfold)\n",
        "print(\"Results: %.2f%% (%.2f%%)\" % (results.mean()*100, results.std()*100))"
      ],
      "execution_count": 0,
      "outputs": [
        {
          "output_type": "stream",
          "text": [
            "Results: 93.51% (0.81%)\n"
          ],
          "name": "stdout"
        }
      ]
    },
    {
      "cell_type": "code",
      "metadata": {
        "id": "HldAP9D3_19h",
        "colab_type": "code",
        "outputId": "e67b3ad2-bb5f-4467-b764-91c258f6a51d",
        "colab": {
          "base_uri": "https://localhost:8080/",
          "height": 34
        }
      },
      "source": [
        "def largeModel2():\n",
        "  model= models.Sequential()\n",
        "  model.add(layers.Dense(16,kernel_initializer='glorot_uniform',input_shape=(28*28,)))\n",
        "  BatchNormalization()\n",
        "  model.add(Activation(\"relu\"))\n",
        "  \n",
        "  model.add(layers.Dense(8,kernel_initializer='glorot_uniform'))\n",
        "  BatchNormalization()\n",
        "  model.add(Activation(\"relu\"))\n",
        "  \n",
        "  model.add(layers.Dense(4,kernel_initializer='glorot_uniform'))\n",
        "  BatchNormalization()\n",
        "  model.add(Activation(\"relu\"))\n",
        "  \n",
        "  model.add(layers.Dense(2,kernel_initializer='glorot_uniform'))\n",
        "  BatchNormalization()\n",
        "  model.add(Activation(\"relu\"))\n",
        "  \n",
        "  \n",
        "  model.add(layers.Dense(10,kernel_initializer='glorot_uniform'))\n",
        "  BatchNormalization()\n",
        "  model.add(Activation(\"softmax\"))\n",
        "  \n",
        "  model.compile(optimizer=\"Adam\",loss=\"categorical_crossentropy\",metrics=['acc'])\n",
        "  return model  \n",
        "  \n",
        "  \n",
        "# Model Traning   \n",
        "estimator=KerasClassifier(build_fn=largeModel2,epochs=50,batch_size=128,verbose=0)\n",
        "kfold= KFold(n_splits=10, shuffle=True, random_state=seed)\n",
        "results = cross_val_score(estimator, train_data, train_label, cv=kfold)\n",
        "print(\"Results: %.2f%% (%.2f%%)\" % (results.mean()*100, results.std()*100))"
      ],
      "execution_count": 0,
      "outputs": [
        {
          "output_type": "stream",
          "text": [
            "Results: 79.84% (11.36%)\n"
          ],
          "name": "stdout"
        }
      ]
    },
    {
      "cell_type": "code",
      "metadata": {
        "id": "Ofte7RDtGIJX",
        "colab_type": "code",
        "outputId": "425d178e-c494-4fd6-9130-d736810a4859",
        "colab": {
          "base_uri": "https://localhost:8080/",
          "height": 34
        }
      },
      "source": [
        "def largeModel3():\n",
        "  model= models.Sequential()\n",
        "  model.add(layers.Dense(16,kernel_initializer='glorot_uniform',input_shape=(28*28,)))\n",
        "  BatchNormalization()\n",
        "  model.add(Activation(\"relu\"))\n",
        "  \n",
        "  model.add(layers.Dense(8,kernel_initializer='glorot_uniform'))\n",
        "  BatchNormalization()\n",
        "  model.add(Activation(\"relu\"))\n",
        "  \n",
        "  model.add(layers.Dense(6,kernel_initializer='glorot_uniform'))\n",
        "  BatchNormalization()\n",
        "  model.add(Activation(\"relu\"))\n",
        "  \n",
        "  model.add(layers.Dense(4,kernel_initializer='glorot_uniform'))\n",
        "  BatchNormalization()\n",
        "  model.add(Activation(\"relu\"))\n",
        "  \n",
        "  \n",
        "  model.add(layers.Dense(10,kernel_initializer='glorot_uniform'))\n",
        "  BatchNormalization()\n",
        "  model.add(Activation(\"softmax\"))\n",
        "  \n",
        "  model.compile(optimizer=\"Adam\",loss=\"categorical_crossentropy\",metrics=['acc'])\n",
        "  return model  \n",
        "  \n",
        "  \n",
        "# Model Traning   \n",
        "estimator=KerasClassifier(build_fn=largeModel3,epochs=50,batch_size=128,verbose=0)\n",
        "kfold= KFold(n_splits=10, shuffle=True, random_state=seed)\n",
        "results = cross_val_score(estimator, train_data, train_label, cv=kfold)\n",
        "print(\"Results: %.2f%% (%.2f%%)\" % (results.mean()*100, results.std()*100))"
      ],
      "execution_count": 0,
      "outputs": [
        {
          "output_type": "stream",
          "text": [
            "Results: 92.64% (1.43%)\n"
          ],
          "name": "stdout"
        }
      ]
    },
    {
      "cell_type": "code",
      "metadata": {
        "id": "o5HxYccpK3nu",
        "colab_type": "code",
        "outputId": "cfa01284-4aa9-4c46-efe4-801429a86bbb",
        "colab": {
          "base_uri": "https://localhost:8080/",
          "height": 34
        }
      },
      "source": [
        "def largeModel4():\n",
        "  model= models.Sequential()\n",
        "  model.add(layers.Dense(64,kernel_initializer='glorot_uniform',input_shape=(28*28,)))\n",
        "  BatchNormalization()\n",
        "  model.add(Activation(\"relu\"))\n",
        "  \n",
        "  model.add(layers.Dense(32,kernel_initializer='glorot_uniform'))\n",
        "  BatchNormalization()\n",
        "  model.add(Activation(\"relu\"))\n",
        "  \n",
        "  model.add(layers.Dense(16,kernel_initializer='glorot_uniform'))\n",
        "  BatchNormalization()\n",
        "  model.add(Activation(\"relu\"))\n",
        "  \n",
        "  model.add(layers.Dense(8,kernel_initializer='glorot_uniform'))\n",
        "  BatchNormalization()\n",
        "  model.add(Activation(\"relu\"))\n",
        "  \n",
        "  model.add(layers.Dense(4,kernel_initializer='glorot_uniform'))\n",
        "  BatchNormalization()\n",
        "  model.add(Activation(\"relu\"))\n",
        "  \n",
        "  \n",
        "  \n",
        "  model.add(layers.Dense(10,kernel_initializer='glorot_uniform'))\n",
        "  BatchNormalization()\n",
        "  model.add(Activation(\"softmax\"))\n",
        "  \n",
        "  model.compile(optimizer=\"Adam\",loss=\"categorical_crossentropy\",metrics=['acc'])\n",
        "  return model  \n",
        "  \n",
        "  \n",
        "# Model Traning   \n",
        "estimator=KerasClassifier(build_fn=largeModel4,epochs=50,batch_size=128,verbose=0)\n",
        "kfold= KFold(n_splits=10, shuffle=True, random_state=seed)\n",
        "results = cross_val_score(estimator, train_data, train_label, cv=kfold)\n",
        "print(\"Results: %.2f%% (%.2f%%)\" % (results.mean()*100, results.std()*100))"
      ],
      "execution_count": 0,
      "outputs": [
        {
          "output_type": "stream",
          "text": [
            "Results: 96.13% (0.51%)\n"
          ],
          "name": "stdout"
        }
      ]
    },
    {
      "cell_type": "code",
      "metadata": {
        "id": "DiGP3HN1mjPA",
        "colab_type": "code",
        "outputId": "d6c4118b-ba51-4ae2-f2de-130ced8fc3be",
        "colab": {
          "base_uri": "https://localhost:8080/",
          "height": 34
        }
      },
      "source": [
        "def fullyScaledModel():\n",
        "  model= models.Sequential()\n",
        "  model.add(layers.Dense(512,kernel_initializer='glorot_uniform',input_shape=(28*28,)))\n",
        "  BatchNormalization()\n",
        "  model.add(Activation(\"relu\"))\n",
        "  \n",
        "  \n",
        "  model.add(layers.Dense(256,kernel_initializer='glorot_uniform'))\n",
        "  BatchNormalization()\n",
        "  model.add(Activation(\"relu\"))\n",
        "  \n",
        "  \n",
        "  model.add(layers.Dense(128,kernel_initializer='glorot_uniform'))\n",
        "  BatchNormalization()\n",
        "  model.add(Activation(\"relu\"))\n",
        "  \n",
        "  model.add(layers.Dense(64,kernel_initializer='glorot_uniform'))\n",
        "  BatchNormalization()\n",
        "  model.add(Activation(\"relu\"))\n",
        "  \n",
        "  model.add(layers.Dense(32,kernel_initializer='glorot_uniform'))\n",
        "  BatchNormalization()\n",
        "  model.add(Activation(\"relu\"))\n",
        "  \n",
        "  model.add(layers.Dense(16,kernel_initializer='glorot_uniform'))\n",
        "  BatchNormalization()\n",
        "  model.add(Activation(\"relu\"))\n",
        "  \n",
        "  \n",
        "  model.add(layers.Dense(8,kernel_initializer='glorot_uniform'))\n",
        "  BatchNormalization()\n",
        "  model.add(Activation(\"relu\"))\n",
        "  \n",
        "  model.add(layers.Dense(4,kernel_initializer='glorot_uniform'))\n",
        "  BatchNormalization()\n",
        "  model.add(Activation(\"relu\"))\n",
        "  \n",
        "  \n",
        "  \n",
        "  model.add(layers.Dense(10,kernel_initializer='glorot_uniform'))\n",
        "  BatchNormalization()\n",
        "  model.add(Activation(\"softmax\"))\n",
        "  \n",
        "  model.compile(optimizer=\"Adam\",loss=\"categorical_crossentropy\",metrics=['acc'])\n",
        "  return model  \n",
        "  \n",
        "  \n",
        "# Model Traning   \n",
        "estimator=KerasClassifier(build_fn=fullyScaledModel,epochs=50,batch_size=128,verbose=0)\n",
        "kfold= KFold(n_splits=10, shuffle=True, random_state=seed)\n",
        "results = cross_val_score(estimator, train_data, train_label, cv=kfold)\n",
        "print(\"Results: %.2f%% (%.2f%%)\" % (results.mean()*100, results.std()*100))"
      ],
      "execution_count": 0,
      "outputs": [
        {
          "output_type": "stream",
          "text": [
            "Results: 98.08% (0.26%)\n"
          ],
          "name": "stdout"
        }
      ]
    },
    {
      "cell_type": "markdown",
      "metadata": {
        "id": "GO7ijByo2Lp8",
        "colab_type": "text"
      },
      "source": [
        "**Apply Regularizer techinque l2**"
      ]
    },
    {
      "cell_type": "code",
      "metadata": {
        "id": "416ab4wj2IGb",
        "colab_type": "code",
        "outputId": "61dd943e-977a-4335-a75c-e7769db3bfd1",
        "colab": {
          "base_uri": "https://localhost:8080/",
          "height": 34
        }
      },
      "source": [
        "\n",
        "def fullyScaledModel1():\n",
        "  model= models.Sequential()\n",
        "  model.add(layers.Dense(512,kernel_initializer='glorot_uniform',kernel_regularizer=regularizers.l2(0.01),input_shape=(28*28,)))\n",
        "  BatchNormalization()\n",
        "  model.add(Activation(\"relu\"))\n",
        "  \n",
        "  \n",
        "  model.add(layers.Dense(256,kernel_initializer='glorot_uniform',kernel_regularizer=regularizers.l2(0.01)))\n",
        "  BatchNormalization()\n",
        "  model.add(Activation(\"relu\"))\n",
        "  \n",
        "  \n",
        "  model.add(layers.Dense(128,kernel_initializer='glorot_uniform',kernel_regularizer=regularizers.l2(0.01)))\n",
        "  BatchNormalization()\n",
        "  model.add(Activation(\"relu\"))\n",
        "  \n",
        "  model.add(layers.Dense(64,kernel_initializer='glorot_uniform',kernel_regularizer=regularizers.l2(0.01)))\n",
        "  BatchNormalization()\n",
        "  model.add(Activation(\"relu\"))\n",
        "  \n",
        "  model.add(layers.Dense(32,kernel_initializer='glorot_uniform',kernel_regularizer=regularizers.l2(0.01)))\n",
        "  BatchNormalization()\n",
        "  model.add(Activation(\"relu\"))\n",
        "  \n",
        "  model.add(layers.Dense(16,kernel_initializer='glorot_uniform',kernel_regularizer=regularizers.l2(0.01)))\n",
        "  BatchNormalization()\n",
        "  model.add(Activation(\"relu\"))\n",
        "  \n",
        "  \n",
        "  model.add(layers.Dense(8,kernel_initializer='glorot_uniform',kernel_regularizer=regularizers.l2(0.01)))\n",
        "  BatchNormalization()\n",
        "  model.add(Activation(\"relu\"))\n",
        "  \n",
        "  model.add(layers.Dense(4,kernel_initializer='glorot_uniform',kernel_regularizer=regularizers.l2(0.01)))\n",
        "  BatchNormalization()\n",
        "  model.add(Activation(\"relu\"))\n",
        "  \n",
        "  \n",
        "  \n",
        "  model.add(layers.Dense(10,kernel_initializer='glorot_uniform'))\n",
        "  BatchNormalization()\n",
        "  model.add(Activation(\"softmax\"))\n",
        "  \n",
        "  model.compile(optimizer=\"Adam\",loss=\"categorical_crossentropy\",metrics=['acc'])\n",
        "  return model  \n",
        "  \n",
        "  \n",
        "# Model Traning   \n",
        "estimator=KerasClassifier(build_fn=fullyScaledModel1,epochs=50,batch_size=128,verbose=0)\n",
        "kfold= KFold(n_splits=10, shuffle=True, random_state=seed)\n",
        "results = cross_val_score(estimator, train_data, train_label, cv=kfold)\n",
        "print(\"Results: %.2f%% (%.2f%%)\" % (results.mean()*100, results.std()*100))"
      ],
      "execution_count": 0,
      "outputs": [
        {
          "output_type": "stream",
          "text": [
            "Results: 90.72% (6.17%)\n"
          ],
          "name": "stdout"
        }
      ]
    },
    {
      "cell_type": "markdown",
      "metadata": {
        "id": "JKJ7b4ljRA9d",
        "colab_type": "text"
      },
      "source": [
        "**Using DropOut**"
      ]
    },
    {
      "cell_type": "code",
      "metadata": {
        "id": "QexMgheUI9Ty",
        "colab_type": "code",
        "outputId": "9c6cf776-bca9-4b39-d27c-1df343427bde",
        "colab": {
          "base_uri": "https://localhost:8080/",
          "height": 384
        }
      },
      "source": [
        "\n",
        "def fullyScaledModel2():\n",
        "  model= models.Sequential()\n",
        "  model.add(layers.Dense(512,kernel_initializer='glorot_uniform',kernel_regularizer=regularizers.l2(0.001),input_shape=(28*28,)))\n",
        "  BatchNormalization()\n",
        "  model.add(Activation(\"relu\"))\n",
        "  model.add(layers.Dropout(0.5))\n",
        "  \n",
        "  model.add(layers.Dense(256,kernel_initializer='glorot_uniform',kernel_regularizer=regularizers.l2(0.001)))\n",
        "  BatchNormalization()\n",
        "  model.add(Activation(\"relu\"))\n",
        "  model.add(layers.Dropout(0.5))\n",
        "  \n",
        "  model.add(layers.Dense(128,kernel_initializer='glorot_uniform',kernel_regularizer=regularizers.l2(0.001)))\n",
        "  BatchNormalization()\n",
        "  model.add(Activation(\"relu\"))\n",
        "  model.add(layers.Dropout(0.5))\n",
        "  \n",
        "  model.add(layers.Dense(64,kernel_initializer='glorot_uniform',kernel_regularizer=regularizers.l2(0.001)))\n",
        "  BatchNormalization()\n",
        "  model.add(Activation(\"relu\"))\n",
        "  model.add(layers.Dropout(0.5))\n",
        "  \n",
        "  model.add(layers.Dense(32,kernel_initializer='glorot_uniform',kernel_regularizer=regularizers.l2(0.001)))\n",
        "  BatchNormalization()\n",
        "  model.add(Activation(\"relu\"))\n",
        "  model.add(layers.Dropout(0.5))\n",
        "  \n",
        "  model.add(layers.Dense(16,kernel_initializer='glorot_uniform',kernel_regularizer=regularizers.l2(0.001)))\n",
        "  BatchNormalization()\n",
        "  model.add(Activation(\"relu\"))\n",
        "  model.add(layers.Dropout(0.5))\n",
        "  \n",
        "  \n",
        "  model.add(layers.Dense(8,kernel_initializer='glorot_uniform',kernel_regularizer=regularizers.l2(0.001)))\n",
        "  BatchNormalization()\n",
        "  model.add(Activation(\"relu\"))\n",
        "  model.add(layers.Dropout(0.5))\n",
        "  \n",
        "  model.add(layers.Dense(4,kernel_initializer='glorot_uniform',kernel_regularizer=regularizers.l2(0.001)))\n",
        "  BatchNormalization()\n",
        "  model.add(Activation(\"relu\"))\n",
        "  model.add(layers.Dropout(0.5))\n",
        "  \n",
        "  \n",
        "  \n",
        "  model.add(layers.Dense(10,kernel_initializer='glorot_uniform'))\n",
        "  BatchNormalization()\n",
        "  model.add(Activation(\"softmax\"))\n",
        "  \n",
        "  model.compile(optimizer=\"Adam\",loss=\"categorical_crossentropy\",metrics=['acc'])\n",
        "  return model  \n",
        "  \n",
        "  \n",
        "# Model Traning   \n",
        "estimator=KerasClassifier(build_fn=fullyScaledModel2,epochs=50,batch_size=128,verbose=0)\n",
        "kfold= KFold(n_splits=10, shuffle=True, random_state=seed)\n",
        "results = cross_val_score(estimator, train_data, train_label, cv=kfold)\n",
        "print(\"Results: %.2f%% (%.2f%%)\" % (results.mean()*100, results.std()*100))"
      ],
      "execution_count": 0,
      "outputs": [
        {
          "output_type": "stream",
          "text": [
            "WARNING: Logging before flag parsing goes to stderr.\n",
            "W0802 12:18:42.289769 140488653084544 deprecation_wrapper.py:119] From /usr/local/lib/python3.6/dist-packages/keras/backend/tensorflow_backend.py:74: The name tf.get_default_graph is deprecated. Please use tf.compat.v1.get_default_graph instead.\n",
            "\n",
            "W0802 12:18:42.336521 140488653084544 deprecation_wrapper.py:119] From /usr/local/lib/python3.6/dist-packages/keras/backend/tensorflow_backend.py:517: The name tf.placeholder is deprecated. Please use tf.compat.v1.placeholder instead.\n",
            "\n",
            "W0802 12:18:42.344637 140488653084544 deprecation_wrapper.py:119] From /usr/local/lib/python3.6/dist-packages/keras/backend/tensorflow_backend.py:4138: The name tf.random_uniform is deprecated. Please use tf.random.uniform instead.\n",
            "\n",
            "W0802 12:18:42.380501 140488653084544 deprecation_wrapper.py:119] From /usr/local/lib/python3.6/dist-packages/keras/backend/tensorflow_backend.py:133: The name tf.placeholder_with_default is deprecated. Please use tf.compat.v1.placeholder_with_default instead.\n",
            "\n",
            "W0802 12:18:42.395050 140488653084544 deprecation.py:506] From /usr/local/lib/python3.6/dist-packages/keras/backend/tensorflow_backend.py:3445: calling dropout (from tensorflow.python.ops.nn_ops) with keep_prob is deprecated and will be removed in a future version.\n",
            "Instructions for updating:\n",
            "Please use `rate` instead of `keep_prob`. Rate should be set to `rate = 1 - keep_prob`.\n",
            "W0802 12:18:42.694566 140488653084544 deprecation_wrapper.py:119] From /usr/local/lib/python3.6/dist-packages/keras/optimizers.py:790: The name tf.train.Optimizer is deprecated. Please use tf.compat.v1.train.Optimizer instead.\n",
            "\n",
            "W0802 12:18:42.722186 140488653084544 deprecation_wrapper.py:119] From /usr/local/lib/python3.6/dist-packages/keras/backend/tensorflow_backend.py:3295: The name tf.log is deprecated. Please use tf.math.log instead.\n",
            "\n",
            "W0802 12:18:43.011865 140488653084544 deprecation.py:323] From /usr/local/lib/python3.6/dist-packages/tensorflow/python/ops/math_grad.py:1250: add_dispatch_support.<locals>.wrapper (from tensorflow.python.ops.array_ops) is deprecated and will be removed in a future version.\n",
            "Instructions for updating:\n",
            "Use tf.where in 2.0, which has the same broadcast rule as np.where\n"
          ],
          "name": "stderr"
        },
        {
          "output_type": "stream",
          "text": [
            "Results: 41.79% (2.42%)\n"
          ],
          "name": "stdout"
        }
      ]
    },
    {
      "cell_type": "code",
      "metadata": {
        "id": "hP4Q0rpVk5lH",
        "colab_type": "code",
        "outputId": "4e7fa622-a6d1-4061-a5a3-8195b5913436",
        "colab": {
          "base_uri": "https://localhost:8080/",
          "height": 34
        }
      },
      "source": [
        "\n",
        "def fullyScaledModel3():\n",
        "  model= models.Sequential()\n",
        "  model.add(layers.Dense(512,kernel_initializer='glorot_uniform',kernel_regularizer=regularizers.l2(0.001),input_shape=(28*28,)))\n",
        "  BatchNormalization()\n",
        "  model.add(Activation(\"relu\"))\n",
        "  model.add(layers.Dropout(0.25))\n",
        "  \n",
        "  model.add(layers.Dense(256,kernel_initializer='glorot_uniform',kernel_regularizer=regularizers.l2(0.001)))\n",
        "  BatchNormalization()\n",
        "  model.add(Activation(\"relu\"))\n",
        "  model.add(layers.Dropout(0.25))\n",
        "  \n",
        "  model.add(layers.Dense(128,kernel_initializer='glorot_uniform',kernel_regularizer=regularizers.l2(0.001)))\n",
        "  BatchNormalization()\n",
        "  model.add(Activation(\"relu\"))\n",
        "  model.add(layers.Dropout(0.25))\n",
        "  \n",
        "  model.add(layers.Dense(64,kernel_initializer='glorot_uniform',kernel_regularizer=regularizers.l2(0.001)))\n",
        "  BatchNormalization()\n",
        "  model.add(Activation(\"relu\"))\n",
        "  model.add(layers.Dropout(0.25))\n",
        "  \n",
        "  model.add(layers.Dense(32,kernel_initializer='glorot_uniform',kernel_regularizer=regularizers.l2(0.001)))\n",
        "  BatchNormalization()\n",
        "  model.add(Activation(\"relu\"))\n",
        "  model.add(layers.Dropout(0.25))\n",
        "  \n",
        "  model.add(layers.Dense(16,kernel_initializer='glorot_uniform',kernel_regularizer=regularizers.l2(0.001)))\n",
        "  BatchNormalization()\n",
        "  model.add(Activation(\"relu\"))\n",
        "  model.add(layers.Dropout(0.25))\n",
        "  \n",
        "  \n",
        "  model.add(layers.Dense(8,kernel_initializer='glorot_uniform',kernel_regularizer=regularizers.l2(0.001)))\n",
        "  BatchNormalization()\n",
        "  model.add(Activation(\"relu\"))\n",
        "  model.add(layers.Dropout(0.25))\n",
        "  \n",
        "  model.add(layers.Dense(4,kernel_initializer='glorot_uniform',kernel_regularizer=regularizers.l2(0.001)))\n",
        "  BatchNormalization()\n",
        "  model.add(Activation(\"relu\"))\n",
        "  model.add(layers.Dropout(0.25))\n",
        "  \n",
        "  \n",
        "  \n",
        "  model.add(layers.Dense(10,kernel_initializer='glorot_uniform'))\n",
        "  BatchNormalization()\n",
        "  model.add(Activation(\"softmax\"))\n",
        "  \n",
        "  model.compile(optimizer=\"Adam\",loss=\"categorical_crossentropy\",metrics=['acc'])\n",
        "  return model  \n",
        "  \n",
        "  \n",
        "# Model Traning   \n",
        "estimator=KerasClassifier(build_fn=fullyScaledModel3,epochs=50,batch_size=128,verbose=0)\n",
        "kfold= KFold(n_splits=10, shuffle=True, random_state=seed)\n",
        "results = cross_val_score(estimator, train_data, train_label, cv=kfold)\n",
        "print(\"Results: %.2f%% (%.2f%%)\" % (results.mean()*100, results.std()*100))"
      ],
      "execution_count": 0,
      "outputs": [
        {
          "output_type": "stream",
          "text": [
            "Results: 87.39% (7.50%)\n"
          ],
          "name": "stdout"
        }
      ]
    },
    {
      "cell_type": "markdown",
      "metadata": {
        "id": "8XbKsLS-9MDx",
        "colab_type": "text"
      },
      "source": [
        "**Using l1 regularizers**"
      ]
    },
    {
      "cell_type": "code",
      "metadata": {
        "id": "F3C-xF8_8Pvh",
        "colab_type": "code",
        "outputId": "aa550f7b-a74c-4fdd-9a8a-dec3ddd191cf",
        "colab": {
          "base_uri": "https://localhost:8080/",
          "height": 34
        }
      },
      "source": [
        "\n",
        "def fullyScaledModel4():\n",
        "  model= models.Sequential()\n",
        "  model.add(layers.Dense(512,kernel_initializer='glorot_uniform',kernel_regularizer=regularizers.l1(0.001),input_shape=(28*28,)))\n",
        "  BatchNormalization()\n",
        "  model.add(Activation(\"relu\"))\n",
        "\n",
        "  \n",
        "  model.add(layers.Dense(256,kernel_initializer='glorot_uniform',kernel_regularizer=regularizers.l1(0.001)))\n",
        "  BatchNormalization()\n",
        "  model.add(Activation(\"relu\"))\n",
        "\n",
        "  \n",
        "  model.add(layers.Dense(128,kernel_initializer='glorot_uniform',kernel_regularizer=regularizers.l1(0.001)))\n",
        "  BatchNormalization()\n",
        "  model.add(Activation(\"relu\"))\n",
        "  \n",
        "  \n",
        "  model.add(layers.Dense(64,kernel_initializer='glorot_uniform',kernel_regularizer=regularizers.l1(0.001)))\n",
        "  BatchNormalization()\n",
        "  model.add(Activation(\"relu\"))\n",
        "  \n",
        "  \n",
        "  model.add(layers.Dense(32,kernel_initializer='glorot_uniform',kernel_regularizer=regularizers.l1(0.001)))\n",
        "  BatchNormalization()\n",
        "  model.add(Activation(\"relu\"))\n",
        "  \n",
        "  \n",
        "  model.add(layers.Dense(16,kernel_initializer='glorot_uniform',kernel_regularizer=regularizers.l1(0.001)))\n",
        "  BatchNormalization()\n",
        "  model.add(Activation(\"relu\"))\n",
        "  \n",
        "  \n",
        "  \n",
        "  model.add(layers.Dense(8,kernel_initializer='glorot_uniform',kernel_regularizer=regularizers.l1(0.001)))\n",
        "  BatchNormalization()\n",
        "  model.add(Activation(\"relu\"))\n",
        "  \n",
        "  \n",
        "  model.add(layers.Dense(4,kernel_initializer='glorot_uniform',kernel_regularizer=regularizers.l1(0.001)))\n",
        "  BatchNormalization()\n",
        "  model.add(Activation(\"relu\"))\n",
        "  \n",
        "  \n",
        "  \n",
        "  \n",
        "  model.add(layers.Dense(10,kernel_initializer='glorot_uniform'))\n",
        "  BatchNormalization()\n",
        "  model.add(Activation(\"softmax\"))\n",
        "  \n",
        "  model.compile(optimizer=\"Adam\",loss=\"categorical_crossentropy\",metrics=['acc'])\n",
        "  return model  \n",
        "  \n",
        "  \n",
        "# Model Traning   \n",
        "estimator=KerasClassifier(build_fn=fullyScaledModel4,epochs=50,batch_size=128,verbose=0)\n",
        "kfold= KFold(n_splits=10, shuffle=True, random_state=seed)\n",
        "results = cross_val_score(estimator, train_data, train_label, cv=kfold)\n",
        "print(\"Results: %.2f%% (%.2f%%)\" % (results.mean()*100, results.std()*100))"
      ],
      "execution_count": 0,
      "outputs": [
        {
          "output_type": "stream",
          "text": [
            "Results: 56.29% (37.16%)\n"
          ],
          "name": "stdout"
        }
      ]
    },
    {
      "cell_type": "markdown",
      "metadata": {
        "id": "vmfQGNW2bDBx",
        "colab_type": "text"
      },
      "source": [
        "**Dropout**"
      ]
    },
    {
      "cell_type": "code",
      "metadata": {
        "id": "jNKE9gGxbpgz",
        "colab_type": "code",
        "outputId": "b988678d-3de8-471a-b68d-4d8df16144c0",
        "colab": {
          "base_uri": "https://localhost:8080/",
          "height": 384
        }
      },
      "source": [
        "\n",
        "def fullyScaledModel5():\n",
        "  model= models.Sequential()\n",
        "  model.add(layers.Dense(512,kernel_initializer='glorot_uniform',input_shape=(28*28,)))\n",
        "  BatchNormalization()\n",
        "  model.add(Activation(\"relu\"))\n",
        "  model.add(layers.Dropout(0.5))\n",
        "  \n",
        "  model.add(layers.Dense(256,kernel_initializer='glorot_uniform'))\n",
        "  BatchNormalization()\n",
        "  model.add(Activation(\"relu\"))\n",
        "  model.add(layers.Dropout(0.4))\n",
        "  \n",
        "  model.add(layers.Dense(128,kernel_initializer='glorot_uniform'))\n",
        "  BatchNormalization()\n",
        "  model.add(Activation(\"relu\"))\n",
        "  model.add(layers.Dropout(0.3))\n",
        "  \n",
        "  model.add(layers.Dense(64,kernel_initializer='glorot_uniform'))\n",
        "  BatchNormalization()\n",
        "  model.add(Activation(\"relu\"))\n",
        "  model.add(layers.Dropout(0.25))\n",
        "  \n",
        "  model.add(layers.Dense(32,kernel_initializer='glorot_uniform'))\n",
        "  BatchNormalization()\n",
        "  model.add(Activation(\"relu\"))\n",
        "  model.add(layers.Dropout(0.15))\n",
        "  \n",
        "  model.add(layers.Dense(16,kernel_initializer='glorot_uniform'))\n",
        "  BatchNormalization()\n",
        "  model.add(Activation(\"relu\"))\n",
        "  model.add(layers.Dropout(0.1))\n",
        "  \n",
        "  \n",
        "  model.add(layers.Dense(8,kernel_initializer='glorot_uniform'))\n",
        "  BatchNormalization()\n",
        "  model.add(Activation(\"relu\"))\n",
        "  model.add(layers.Dropout(0.025))\n",
        "  \n",
        "  model.add(layers.Dense(4,kernel_initializer='glorot_uniform'))\n",
        "  BatchNormalization()\n",
        "  model.add(Activation(\"relu\"))\n",
        "  model.add(layers.Dropout(0.025))\n",
        "  \n",
        "  \n",
        "  \n",
        "  model.add(layers.Dense(10,kernel_initializer='glorot_uniform'))\n",
        "  BatchNormalization()\n",
        "  model.add(Activation(\"softmax\"))\n",
        "  \n",
        "  model.compile(optimizer=\"Adam\",loss=\"categorical_crossentropy\",metrics=['acc'])\n",
        "  return model  \n",
        "  \n",
        "  \n",
        "# Model Traning   \n",
        "estimator=KerasClassifier(build_fn=fullyScaledModel5,epochs=50,batch_size=128,verbose=0)\n",
        "kfold= KFold(n_splits=10, shuffle=True, random_state=seed)\n",
        "results = cross_val_score(estimator, train_data, train_label, cv=kfold)\n",
        "print(\"Results: %.2f%% (%.2f%%)\" % (results.mean()*100, results.std()*100))"
      ],
      "execution_count": 0,
      "outputs": [
        {
          "output_type": "stream",
          "text": [
            "WARNING: Logging before flag parsing goes to stderr.\n",
            "W0803 06:19:22.761116 140142841116544 deprecation_wrapper.py:119] From /usr/local/lib/python3.6/dist-packages/keras/backend/tensorflow_backend.py:74: The name tf.get_default_graph is deprecated. Please use tf.compat.v1.get_default_graph instead.\n",
            "\n",
            "W0803 06:19:22.792814 140142841116544 deprecation_wrapper.py:119] From /usr/local/lib/python3.6/dist-packages/keras/backend/tensorflow_backend.py:517: The name tf.placeholder is deprecated. Please use tf.compat.v1.placeholder instead.\n",
            "\n",
            "W0803 06:19:22.799646 140142841116544 deprecation_wrapper.py:119] From /usr/local/lib/python3.6/dist-packages/keras/backend/tensorflow_backend.py:4138: The name tf.random_uniform is deprecated. Please use tf.random.uniform instead.\n",
            "\n",
            "W0803 06:19:22.822903 140142841116544 deprecation_wrapper.py:119] From /usr/local/lib/python3.6/dist-packages/keras/backend/tensorflow_backend.py:133: The name tf.placeholder_with_default is deprecated. Please use tf.compat.v1.placeholder_with_default instead.\n",
            "\n",
            "W0803 06:19:22.834155 140142841116544 deprecation.py:506] From /usr/local/lib/python3.6/dist-packages/keras/backend/tensorflow_backend.py:3445: calling dropout (from tensorflow.python.ops.nn_ops) with keep_prob is deprecated and will be removed in a future version.\n",
            "Instructions for updating:\n",
            "Please use `rate` instead of `keep_prob`. Rate should be set to `rate = 1 - keep_prob`.\n",
            "W0803 06:19:23.082894 140142841116544 deprecation_wrapper.py:119] From /usr/local/lib/python3.6/dist-packages/keras/optimizers.py:790: The name tf.train.Optimizer is deprecated. Please use tf.compat.v1.train.Optimizer instead.\n",
            "\n",
            "W0803 06:19:23.109343 140142841116544 deprecation_wrapper.py:119] From /usr/local/lib/python3.6/dist-packages/keras/backend/tensorflow_backend.py:3295: The name tf.log is deprecated. Please use tf.math.log instead.\n",
            "\n",
            "W0803 06:19:23.245971 140142841116544 deprecation.py:323] From /usr/local/lib/python3.6/dist-packages/tensorflow/python/ops/math_grad.py:1250: add_dispatch_support.<locals>.wrapper (from tensorflow.python.ops.array_ops) is deprecated and will be removed in a future version.\n",
            "Instructions for updating:\n",
            "Use tf.where in 2.0, which has the same broadcast rule as np.where\n"
          ],
          "name": "stderr"
        },
        {
          "output_type": "stream",
          "text": [
            "Results: 97.37% (0.43%)\n"
          ],
          "name": "stdout"
        }
      ]
    },
    {
      "cell_type": "markdown",
      "metadata": {
        "id": "Sb6nUpGhYZn1",
        "colab_type": "text"
      },
      "source": [
        "**l2 reg with 0.001**"
      ]
    },
    {
      "cell_type": "code",
      "metadata": {
        "id": "XrBPe4VtYXeJ",
        "colab_type": "code",
        "outputId": "6aa06e61-67d7-4e2a-c846-ddc4065e502c",
        "colab": {
          "base_uri": "https://localhost:8080/",
          "height": 332
        }
      },
      "source": [
        "\n",
        "def fullyScaledModel6():\n",
        "  model= models.Sequential()\n",
        "  model.add(layers.Dense(512,kernel_initializer='glorot_uniform',kernel_regularizer=regularizers.l2(0.001),input_shape=(28*28,)))\n",
        "  BatchNormalization()\n",
        "  model.add(Activation(\"relu\"))\n",
        "  \n",
        "  \n",
        "  model.add(layers.Dense(256,kernel_initializer='glorot_uniform',kernel_regularizer=regularizers.l2(0.001)))\n",
        "  BatchNormalization()\n",
        "  model.add(Activation(\"relu\"))\n",
        "  \n",
        "  \n",
        "  model.add(layers.Dense(128,kernel_initializer='glorot_uniform',kernel_regularizer=regularizers.l2(0.001)))\n",
        "  BatchNormalization()\n",
        "  model.add(Activation(\"relu\"))\n",
        "  \n",
        "  model.add(layers.Dense(64,kernel_initializer='glorot_uniform',kernel_regularizer=regularizers.l2(0.001)))\n",
        "  BatchNormalization()\n",
        "  model.add(Activation(\"relu\"))\n",
        "  \n",
        "  model.add(layers.Dense(32,kernel_initializer='glorot_uniform',kernel_regularizer=regularizers.l2(0.001)))\n",
        "  BatchNormalization()\n",
        "  model.add(Activation(\"relu\"))\n",
        "  \n",
        "  model.add(layers.Dense(16,kernel_initializer='glorot_uniform',kernel_regularizer=regularizers.l2(0.001)))\n",
        "  BatchNormalization()\n",
        "  model.add(Activation(\"relu\"))\n",
        "  \n",
        "  \n",
        "  model.add(layers.Dense(8,kernel_initializer='glorot_uniform',kernel_regularizer=regularizers.l2(0.001)))\n",
        "  BatchNormalization()\n",
        "  model.add(Activation(\"relu\"))\n",
        "  \n",
        "  model.add(layers.Dense(4,kernel_initializer='glorot_uniform',kernel_regularizer=regularizers.l2(0.001)))\n",
        "  BatchNormalization()\n",
        "  model.add(Activation(\"relu\"))\n",
        "  \n",
        "  \n",
        "  \n",
        "  model.add(layers.Dense(10,kernel_initializer='glorot_uniform'))\n",
        "  BatchNormalization()\n",
        "  model.add(Activation(\"softmax\"))\n",
        "  \n",
        "  model.compile(optimizer=\"Adam\",loss=\"categorical_crossentropy\",metrics=['acc'])\n",
        "  return model  \n",
        "  \n",
        "  \n",
        "# Model Traning   \n",
        "estimator=KerasClassifier(build_fn=fullyScaledModel6,epochs=50,batch_size=128,verbose=0)\n",
        "kfold= KFold(n_splits=10, shuffle=True, random_state=seed)\n",
        "results = cross_val_score(estimator, train_data, train_label, cv=kfold)\n",
        "print(\"Results: %.2f%% (%.2f%%)\" % (results.mean()*100, results.std()*100))"
      ],
      "execution_count": 0,
      "outputs": [
        {
          "output_type": "stream",
          "text": [
            "WARNING: Logging before flag parsing goes to stderr.\n",
            "W0804 10:45:33.344970 140592620791680 deprecation_wrapper.py:119] From /usr/local/lib/python3.6/dist-packages/keras/backend/tensorflow_backend.py:74: The name tf.get_default_graph is deprecated. Please use tf.compat.v1.get_default_graph instead.\n",
            "\n",
            "W0804 10:45:33.389245 140592620791680 deprecation_wrapper.py:119] From /usr/local/lib/python3.6/dist-packages/keras/backend/tensorflow_backend.py:517: The name tf.placeholder is deprecated. Please use tf.compat.v1.placeholder instead.\n",
            "\n",
            "W0804 10:45:33.398245 140592620791680 deprecation_wrapper.py:119] From /usr/local/lib/python3.6/dist-packages/keras/backend/tensorflow_backend.py:4138: The name tf.random_uniform is deprecated. Please use tf.random.uniform instead.\n",
            "\n",
            "W0804 10:45:33.583707 140592620791680 deprecation_wrapper.py:119] From /usr/local/lib/python3.6/dist-packages/keras/optimizers.py:790: The name tf.train.Optimizer is deprecated. Please use tf.compat.v1.train.Optimizer instead.\n",
            "\n",
            "W0804 10:45:33.612839 140592620791680 deprecation_wrapper.py:119] From /usr/local/lib/python3.6/dist-packages/keras/backend/tensorflow_backend.py:3295: The name tf.log is deprecated. Please use tf.math.log instead.\n",
            "\n",
            "W0804 10:45:33.896462 140592620791680 deprecation.py:323] From /usr/local/lib/python3.6/dist-packages/tensorflow/python/ops/math_grad.py:1250: add_dispatch_support.<locals>.wrapper (from tensorflow.python.ops.array_ops) is deprecated and will be removed in a future version.\n",
            "Instructions for updating:\n",
            "Use tf.where in 2.0, which has the same broadcast rule as np.where\n",
            "W0804 10:45:34.000699 140592620791680 deprecation_wrapper.py:119] From /usr/local/lib/python3.6/dist-packages/keras/backend/tensorflow_backend.py:986: The name tf.assign_add is deprecated. Please use tf.compat.v1.assign_add instead.\n",
            "\n"
          ],
          "name": "stderr"
        },
        {
          "output_type": "stream",
          "text": [
            "Results: 96.83% (0.36%)\n"
          ],
          "name": "stdout"
        }
      ]
    },
    {
      "cell_type": "code",
      "metadata": {
        "id": "oF3HOcmtdbuw",
        "colab_type": "code",
        "outputId": "e1e62a07-be91-4f7c-8a6c-1ad75f707029",
        "colab": {
          "base_uri": "https://localhost:8080/",
          "height": 34
        }
      },
      "source": [
        "\n",
        "def fullyScaledModel7():\n",
        "  model= models.Sequential()\n",
        "  model.add(layers.Dense(512,kernel_initializer='glorot_uniform',kernel_regularizer=regularizers.l2(0.001),input_shape=(28*28,)))\n",
        "  BatchNormalization()\n",
        "  model.add(Activation(\"relu\"))\n",
        "  \n",
        "  \n",
        "  model.add(layers.Dense(256,kernel_initializer='glorot_uniform',kernel_regularizer=regularizers.l2(0.001)))\n",
        "  BatchNormalization()\n",
        "  model.add(Activation(\"relu\"))\n",
        "  \n",
        "  \n",
        "  model.add(layers.Dense(200,kernel_initializer='glorot_uniform',kernel_regularizer=regularizers.l2(0.001)))\n",
        "  BatchNormalization()\n",
        "  model.add(Activation(\"relu\"))\n",
        "  \n",
        "  \n",
        "  model.add(layers.Dense(128,kernel_initializer='glorot_uniform',kernel_regularizer=regularizers.l2(0.001)))\n",
        "  BatchNormalization()\n",
        "  model.add(Activation(\"relu\"))\n",
        "  \n",
        "  model.add(layers.Dense(64,kernel_initializer='glorot_uniform',kernel_regularizer=regularizers.l2(0.001)))\n",
        "  BatchNormalization()\n",
        "  model.add(Activation(\"relu\"))\n",
        "  \n",
        "  model.add(layers.Dense(32,kernel_initializer='glorot_uniform',kernel_regularizer=regularizers.l2(0.001)))\n",
        "  BatchNormalization()\n",
        "  model.add(Activation(\"relu\"))\n",
        "  \n",
        "  model.add(layers.Dense(16,kernel_initializer='glorot_uniform',kernel_regularizer=regularizers.l2(0.001)))\n",
        "  BatchNormalization()\n",
        "  model.add(Activation(\"relu\"))\n",
        "  \n",
        "  \n",
        "  model.add(layers.Dense(8,kernel_initializer='glorot_uniform',kernel_regularizer=regularizers.l2(0.001)))\n",
        "  BatchNormalization()\n",
        "  model.add(Activation(\"relu\"))\n",
        "  \n",
        "  model.add(layers.Dense(4,kernel_initializer='glorot_uniform',kernel_regularizer=regularizers.l2(0.001)))\n",
        "  BatchNormalization()\n",
        "  model.add(Activation(\"relu\"))\n",
        "  \n",
        "  \n",
        "  \n",
        "  model.add(layers.Dense(10,kernel_initializer='glorot_uniform'))\n",
        "  BatchNormalization()\n",
        "  model.add(Activation(\"softmax\"))\n",
        "  \n",
        "  model.compile(optimizer=\"Adam\",loss=\"categorical_crossentropy\",metrics=['acc'])\n",
        "  return model  \n",
        "  \n",
        "  \n",
        "# Model Traning   \n",
        "estimator=KerasClassifier(build_fn=fullyScaledModel7,epochs=50,batch_size=128,verbose=0)\n",
        "kfold= KFold(n_splits=10, shuffle=True, random_state=seed)\n",
        "results = cross_val_score(estimator, train_data, train_label, cv=kfold)\n",
        "print(\"Results: %.2f%% (%.2f%%)\" % (results.mean()*100, results.std()*100))"
      ],
      "execution_count": 0,
      "outputs": [
        {
          "output_type": "stream",
          "text": [
            "Results: 96.91% (0.43%)\n"
          ],
          "name": "stdout"
        }
      ]
    },
    {
      "cell_type": "markdown",
      "metadata": {
        "id": "xYgmjWz03OWk",
        "colab_type": "text"
      },
      "source": [
        "**L2 regilarizer with 0.01 value**"
      ]
    },
    {
      "cell_type": "code",
      "metadata": {
        "id": "73A7QCNf3GVf",
        "colab_type": "code",
        "outputId": "06aff29d-ab94-4928-c78f-baf2ba0b7768",
        "colab": {
          "base_uri": "https://localhost:8080/",
          "height": 332
        }
      },
      "source": [
        "\n",
        "def fullyScaledModel8():\n",
        "  model= models.Sequential()\n",
        "  model.add(layers.Dense(512,kernel_initializer='glorot_uniform',kernel_regularizer=regularizers.l2(0.01),input_shape=(28*28,)))\n",
        "  BatchNormalization()\n",
        "  model.add(Activation(\"relu\"))\n",
        "  \n",
        "  \n",
        "  model.add(layers.Dense(256,kernel_initializer='glorot_uniform',kernel_regularizer=regularizers.l2(0.01)))\n",
        "  BatchNormalization()\n",
        "  model.add(Activation(\"relu\"))\n",
        "  \n",
        "  \n",
        "  model.add(layers.Dense(200,kernel_initializer='glorot_uniform',kernel_regularizer=regularizers.l2(0.01)))\n",
        "  BatchNormalization()\n",
        "  model.add(Activation(\"relu\"))\n",
        "  \n",
        "  \n",
        "  model.add(layers.Dense(128,kernel_initializer='glorot_uniform',kernel_regularizer=regularizers.l2(0.01)))\n",
        "  BatchNormalization()\n",
        "  model.add(Activation(\"relu\"))\n",
        "  \n",
        "  model.add(layers.Dense(64,kernel_initializer='glorot_uniform',kernel_regularizer=regularizers.l2(0.01)))\n",
        "  BatchNormalization()\n",
        "  model.add(Activation(\"relu\"))\n",
        "  \n",
        "  model.add(layers.Dense(32,kernel_initializer='glorot_uniform',kernel_regularizer=regularizers.l2(0.01)))\n",
        "  BatchNormalization()\n",
        "  model.add(Activation(\"relu\"))\n",
        "  \n",
        "  model.add(layers.Dense(16,kernel_initializer='glorot_uniform',kernel_regularizer=regularizers.l2(0.01)))\n",
        "  BatchNormalization()\n",
        "  model.add(Activation(\"relu\"))\n",
        "  \n",
        "  \n",
        "  model.add(layers.Dense(8,kernel_initializer='glorot_uniform',kernel_regularizer=regularizers.l2(0.01)))\n",
        "  BatchNormalization()\n",
        "  model.add(Activation(\"relu\"))\n",
        "  \n",
        "  model.add(layers.Dense(4,kernel_initializer='glorot_uniform',kernel_regularizer=regularizers.l2(0.01)))\n",
        "  BatchNormalization()\n",
        "  model.add(Activation(\"relu\"))\n",
        "  \n",
        "  \n",
        "  \n",
        "  model.add(layers.Dense(10,kernel_initializer='glorot_uniform'))\n",
        "  BatchNormalization()\n",
        "  model.add(Activation(\"softmax\"))\n",
        "  \n",
        "  model.compile(optimizer=\"Adam\",loss=\"categorical_crossentropy\",metrics=['acc'])\n",
        "  return model  \n",
        "  \n",
        "  \n",
        "# Model Traning   \n",
        "estimator=KerasClassifier(build_fn=fullyScaledModel8,epochs=50,batch_size=128,verbose=0)\n",
        "kfold= KFold(n_splits=10, shuffle=True, random_state=seed)\n",
        "results = cross_val_score(estimator, train_data, train_label, cv=kfold)\n",
        "print(\"Results: %.2f%% (%.2f%%)\" % (results.mean()*100, results.std()*100))"
      ],
      "execution_count": 0,
      "outputs": [
        {
          "output_type": "stream",
          "text": [
            "WARNING: Logging before flag parsing goes to stderr.\n",
            "W0805 10:13:42.620356 140220266674048 deprecation_wrapper.py:119] From /usr/local/lib/python3.6/dist-packages/keras/backend/tensorflow_backend.py:74: The name tf.get_default_graph is deprecated. Please use tf.compat.v1.get_default_graph instead.\n",
            "\n",
            "W0805 10:13:42.657448 140220266674048 deprecation_wrapper.py:119] From /usr/local/lib/python3.6/dist-packages/keras/backend/tensorflow_backend.py:517: The name tf.placeholder is deprecated. Please use tf.compat.v1.placeholder instead.\n",
            "\n",
            "W0805 10:13:42.665500 140220266674048 deprecation_wrapper.py:119] From /usr/local/lib/python3.6/dist-packages/keras/backend/tensorflow_backend.py:4138: The name tf.random_uniform is deprecated. Please use tf.random.uniform instead.\n",
            "\n",
            "W0805 10:13:42.869753 140220266674048 deprecation_wrapper.py:119] From /usr/local/lib/python3.6/dist-packages/keras/optimizers.py:790: The name tf.train.Optimizer is deprecated. Please use tf.compat.v1.train.Optimizer instead.\n",
            "\n",
            "W0805 10:13:42.896620 140220266674048 deprecation_wrapper.py:119] From /usr/local/lib/python3.6/dist-packages/keras/backend/tensorflow_backend.py:3295: The name tf.log is deprecated. Please use tf.math.log instead.\n",
            "\n",
            "W0805 10:13:43.181761 140220266674048 deprecation.py:323] From /usr/local/lib/python3.6/dist-packages/tensorflow/python/ops/math_grad.py:1250: add_dispatch_support.<locals>.wrapper (from tensorflow.python.ops.array_ops) is deprecated and will be removed in a future version.\n",
            "Instructions for updating:\n",
            "Use tf.where in 2.0, which has the same broadcast rule as np.where\n",
            "W0805 10:13:43.280928 140220266674048 deprecation_wrapper.py:119] From /usr/local/lib/python3.6/dist-packages/keras/backend/tensorflow_backend.py:986: The name tf.assign_add is deprecated. Please use tf.compat.v1.assign_add instead.\n",
            "\n"
          ],
          "name": "stderr"
        },
        {
          "output_type": "stream",
          "text": [
            "Results: 80.64% (23.40%)\n"
          ],
          "name": "stdout"
        }
      ]
    },
    {
      "cell_type": "markdown",
      "metadata": {
        "id": "1bQMgMvTw2Zp",
        "colab_type": "text"
      },
      "source": [
        "# **Tuned Model**"
      ]
    },
    {
      "cell_type": "code",
      "metadata": {
        "id": "HPvLtI4PQ6_K",
        "colab_type": "code",
        "colab": {
          "base_uri": "https://localhost:8080/",
          "height": 34
        },
        "outputId": "d597a5c6-8fbd-4818-c88e-6b8a911ece8c"
      },
      "source": [
        "def TunnedModel():\n",
        "  \n",
        "    model= models.Sequential()\n",
        "    model.add(layers.Dense(512,kernel_initializer='glorot_normal',kernel_regularizer=regularizers.l2(0.00001),input_shape=(28*28,)))\n",
        "    BatchNormalization()\n",
        "    model.add(Activation(\"relu\"))\n",
        "  \n",
        "    model.add(layers.Dense(256,kernel_initializer='glorot_normal',kernel_regularizer=regularizers.l2(0.00001)))\n",
        "    BatchNormalization()\n",
        "    model.add(Activation(\"relu\"))\n",
        "  \n",
        "    model.add(layers.Dense(128,kernel_initializer='glorot_normal',kernel_regularizer=regularizers.l2(0.00001)))\n",
        "    BatchNormalization()\n",
        "    model.add(Activation(\"relu\"))\n",
        "  \n",
        "    model.add(layers.Dense(64,kernel_initializer='glorot_normal',kernel_regularizer=regularizers.l2(0.00001)))\n",
        "    BatchNormalization()\n",
        "    model.add(Activation(\"relu\"))\n",
        "  \n",
        "    model.add(layers.Dense(32,kernel_initializer='glorot_normal',kernel_regularizer=regularizers.l2(0.00001)))\n",
        "    BatchNormalization()\n",
        "    model.add(Activation(\"relu\"))\n",
        "  \n",
        "    model.add(layers.Dense(16,kernel_initializer='glorot_normal',kernel_regularizer=regularizers.l2(0.00001)))\n",
        "    BatchNormalization()\n",
        "    model.add(Activation(\"relu\"))\n",
        "  \n",
        "  \n",
        "    model.add(layers.Dense(8,kernel_initializer='glorot_normal',kernel_regularizer=regularizers.l2(0.00001)))\n",
        "    BatchNormalization()\n",
        "    model.add(Activation(\"relu\"))\n",
        "  \n",
        "  \n",
        "    model.add(layers.Dense(4,kernel_initializer='glorot_normal',kernel_regularizer=regularizers.l2(0.00001)))\n",
        "    BatchNormalization()\n",
        "    model.add(Activation(\"relu\"))\n",
        "  \n",
        "    model.add(layers.Dense(10,kernel_initializer='glorot_normal',kernel_regularizer=regularizers.l2(0.00001)))\n",
        "    BatchNormalization()\n",
        "    model.add(Activation(\"softmax\"))\n",
        "  \n",
        "    opt=keras.optimizers.Adam(lr=0.001, beta_1=0.9, beta_2=0.999, epsilon=None, decay=0.0, amsgrad=False)\n",
        "    model.compile(optimizer=opt,loss=\"categorical_crossentropy\",metrics=['acc'])\n",
        "    return model  \n",
        "  \n",
        "  \n",
        "  \n",
        "# Model Traning   \n",
        "estimator=KerasClassifier(build_fn=TunnedModel,epochs=70,batch_size=128,verbose=0)\n",
        "kfold= KFold(n_splits=10, shuffle=True, random_state=seed)\n",
        "results = cross_val_score(estimator, train_data, train_label, cv=kfold)\n",
        "print(\"Results: %.2f%% (%.2f%%)\" % (results.mean()*100, results.std()*100))\n",
        "  "
      ],
      "execution_count": 15,
      "outputs": [
        {
          "output_type": "stream",
          "text": [
            "Results: 98.08% (0.21%)\n"
          ],
          "name": "stdout"
        }
      ]
    },
    {
      "cell_type": "markdown",
      "metadata": {
        "id": "7nyegXrRp6R5",
        "colab_type": "text"
      },
      "source": [
        "# **Without K fold strategy train**"
      ]
    },
    {
      "cell_type": "code",
      "metadata": {
        "id": "di6_FWmup5wy",
        "colab_type": "code",
        "colab": {
          "base_uri": "https://localhost:8080/",
          "height": 1000
        },
        "outputId": "b35e5638-fe05-47ab-df4d-f4a59676185b"
      },
      "source": [
        "def TunnedModel():\n",
        "  \n",
        "    model= models.Sequential()\n",
        "    model.add(layers.Dense(512,kernel_initializer='glorot_normal',kernel_regularizer=regularizers.l2(0.00001),input_shape=(28*28,)))\n",
        "    BatchNormalization()\n",
        "    model.add(Activation(\"relu\"))\n",
        "  \n",
        "    model.add(layers.Dense(256,kernel_initializer='glorot_normal',kernel_regularizer=regularizers.l2(0.00001)))\n",
        "    BatchNormalization()\n",
        "    model.add(Activation(\"relu\"))\n",
        "  \n",
        "    model.add(layers.Dense(128,kernel_initializer='glorot_normal',kernel_regularizer=regularizers.l2(0.00001)))\n",
        "    BatchNormalization()\n",
        "    model.add(Activation(\"relu\"))\n",
        "  \n",
        "    model.add(layers.Dense(64,kernel_initializer='glorot_normal',kernel_regularizer=regularizers.l2(0.00001)))\n",
        "    BatchNormalization()\n",
        "    model.add(Activation(\"relu\"))\n",
        "  \n",
        "    model.add(layers.Dense(32,kernel_initializer='glorot_normal',kernel_regularizer=regularizers.l2(0.00001)))\n",
        "    BatchNormalization()\n",
        "    model.add(Activation(\"relu\"))\n",
        "  \n",
        "    model.add(layers.Dense(16,kernel_initializer='glorot_normal',kernel_regularizer=regularizers.l2(0.00001)))\n",
        "    BatchNormalization()\n",
        "    model.add(Activation(\"relu\"))\n",
        "  \n",
        "  \n",
        "    model.add(layers.Dense(8,kernel_initializer='glorot_normal',kernel_regularizer=regularizers.l2(0.00001)))\n",
        "    BatchNormalization()\n",
        "    model.add(Activation(\"relu\"))\n",
        "  \n",
        "  \n",
        "    model.add(layers.Dense(4,kernel_initializer='glorot_normal',kernel_regularizer=regularizers.l2(0.00001)))\n",
        "    BatchNormalization()\n",
        "    model.add(Activation(\"relu\"))\n",
        "  \n",
        "    model.add(layers.Dense(10,kernel_initializer='glorot_normal',kernel_regularizer=regularizers.l2(0.00001)))\n",
        "    BatchNormalization()\n",
        "    model.add(Activation(\"softmax\"))\n",
        "  \n",
        "    opt=keras.optimizers.Adam(lr=0.001, beta_1=0.9, beta_2=0.999, epsilon=None, decay=0.0, amsgrad=False)\n",
        "    model.compile(optimizer=opt,loss=\"categorical_crossentropy\",metrics=['acc'])\n",
        "    return model  \n",
        "  \n",
        "  \n",
        "  \n",
        "model=TunnedModel()\n",
        "history = model.fit(train_data, train_label,epochs=70,batch_size=128,shuffle=True,validation_split=0.2)\n"
      ],
      "execution_count": 16,
      "outputs": [
        {
          "output_type": "stream",
          "text": [
            "Train on 48000 samples, validate on 12000 samples\n",
            "Epoch 1/70\n",
            "48000/48000 [==============================] - 13s 277us/step - loss: 1.6769 - acc: 0.3297 - val_loss: 1.3491 - val_acc: 0.4987\n",
            "Epoch 2/70\n",
            "48000/48000 [==============================] - 8s 166us/step - loss: 1.1823 - acc: 0.5931 - val_loss: 1.0244 - val_acc: 0.6618\n",
            "Epoch 3/70\n",
            "48000/48000 [==============================] - 8s 166us/step - loss: 0.8997 - acc: 0.6850 - val_loss: 0.7906 - val_acc: 0.7514\n",
            "Epoch 4/70\n",
            "48000/48000 [==============================] - 8s 168us/step - loss: 0.6054 - acc: 0.8528 - val_loss: 0.5654 - val_acc: 0.8603\n",
            "Epoch 5/70\n",
            "48000/48000 [==============================] - 8s 169us/step - loss: 0.4759 - acc: 0.8722 - val_loss: 0.4640 - val_acc: 0.8822\n",
            "Epoch 6/70\n",
            "48000/48000 [==============================] - 8s 170us/step - loss: 0.3604 - acc: 0.9439 - val_loss: 0.3616 - val_acc: 0.9513\n",
            "Epoch 7/70\n",
            "48000/48000 [==============================] - 8s 173us/step - loss: 0.2686 - acc: 0.9635 - val_loss: 0.3526 - val_acc: 0.9411\n",
            "Epoch 8/70\n",
            "48000/48000 [==============================] - 8s 170us/step - loss: 0.2346 - acc: 0.9678 - val_loss: 0.3056 - val_acc: 0.9623\n",
            "Epoch 9/70\n",
            "48000/48000 [==============================] - 8s 170us/step - loss: 0.1866 - acc: 0.9746 - val_loss: 0.2802 - val_acc: 0.9630\n",
            "Epoch 10/70\n",
            "48000/48000 [==============================] - 8s 169us/step - loss: 0.1603 - acc: 0.9782 - val_loss: 0.2494 - val_acc: 0.9675\n",
            "Epoch 11/70\n",
            "48000/48000 [==============================] - 8s 165us/step - loss: 0.1280 - acc: 0.9806 - val_loss: 0.2540 - val_acc: 0.9653\n",
            "Epoch 12/70\n",
            "48000/48000 [==============================] - 8s 167us/step - loss: 0.1203 - acc: 0.9803 - val_loss: 0.2300 - val_acc: 0.9672\n",
            "Epoch 13/70\n",
            "48000/48000 [==============================] - 8s 166us/step - loss: 0.1208 - acc: 0.9807 - val_loss: 0.2265 - val_acc: 0.9619\n",
            "Epoch 14/70\n",
            "48000/48000 [==============================] - 8s 167us/step - loss: 0.0996 - acc: 0.9851 - val_loss: 0.2478 - val_acc: 0.9627\n",
            "Epoch 15/70\n",
            "48000/48000 [==============================] - 8s 168us/step - loss: 0.1058 - acc: 0.9848 - val_loss: 0.2201 - val_acc: 0.9714\n",
            "Epoch 16/70\n",
            "48000/48000 [==============================] - 8s 162us/step - loss: 0.0985 - acc: 0.9854 - val_loss: 0.2010 - val_acc: 0.9707\n",
            "Epoch 17/70\n",
            "48000/48000 [==============================] - 8s 164us/step - loss: 0.0789 - acc: 0.9897 - val_loss: 0.2225 - val_acc: 0.9733\n",
            "Epoch 18/70\n",
            "48000/48000 [==============================] - 8s 166us/step - loss: 0.0769 - acc: 0.9909 - val_loss: 0.2138 - val_acc: 0.9728\n",
            "Epoch 19/70\n",
            "48000/48000 [==============================] - 8s 169us/step - loss: 0.0815 - acc: 0.9897 - val_loss: 0.2122 - val_acc: 0.9716\n",
            "Epoch 20/70\n",
            "48000/48000 [==============================] - 8s 168us/step - loss: 0.0752 - acc: 0.9909 - val_loss: 0.2121 - val_acc: 0.9739\n",
            "Epoch 21/70\n",
            "48000/48000 [==============================] - 8s 167us/step - loss: 0.1126 - acc: 0.9833 - val_loss: 0.2143 - val_acc: 0.9689\n",
            "Epoch 22/70\n",
            "48000/48000 [==============================] - 8s 167us/step - loss: 0.0816 - acc: 0.9908 - val_loss: 0.2304 - val_acc: 0.9694\n",
            "Epoch 23/70\n",
            "48000/48000 [==============================] - 8s 169us/step - loss: 0.0776 - acc: 0.9910 - val_loss: 0.2084 - val_acc: 0.9751\n",
            "Epoch 24/70\n",
            "48000/48000 [==============================] - 8s 169us/step - loss: 0.0648 - acc: 0.9938 - val_loss: 0.2122 - val_acc: 0.9764\n",
            "Epoch 25/70\n",
            "48000/48000 [==============================] - 8s 166us/step - loss: 0.0754 - acc: 0.9916 - val_loss: 0.1940 - val_acc: 0.9760\n",
            "Epoch 26/70\n",
            "48000/48000 [==============================] - 8s 167us/step - loss: 0.0604 - acc: 0.9948 - val_loss: 0.2032 - val_acc: 0.9745\n",
            "Epoch 27/70\n",
            "48000/48000 [==============================] - 8s 168us/step - loss: 0.0619 - acc: 0.9945 - val_loss: 0.2057 - val_acc: 0.9753\n",
            "Epoch 28/70\n",
            "48000/48000 [==============================] - 8s 166us/step - loss: 0.0777 - acc: 0.9911 - val_loss: 0.1888 - val_acc: 0.9740\n",
            "Epoch 29/70\n",
            "48000/48000 [==============================] - 8s 166us/step - loss: 0.0696 - acc: 0.9926 - val_loss: 0.2041 - val_acc: 0.9750\n",
            "Epoch 30/70\n",
            "48000/48000 [==============================] - 8s 169us/step - loss: 0.0621 - acc: 0.9940 - val_loss: 0.2430 - val_acc: 0.9717\n",
            "Epoch 31/70\n",
            "48000/48000 [==============================] - 8s 173us/step - loss: 0.0554 - acc: 0.9958 - val_loss: 0.2176 - val_acc: 0.9768\n",
            "Epoch 32/70\n",
            "48000/48000 [==============================] - 8s 172us/step - loss: 0.0530 - acc: 0.9963 - val_loss: 0.2419 - val_acc: 0.9765\n",
            "Epoch 33/70\n",
            "48000/48000 [==============================] - 8s 172us/step - loss: 0.0621 - acc: 0.9945 - val_loss: 0.2124 - val_acc: 0.9736\n",
            "Epoch 34/70\n",
            "48000/48000 [==============================] - 8s 170us/step - loss: 0.0580 - acc: 0.9952 - val_loss: 0.1989 - val_acc: 0.9772\n",
            "Epoch 35/70\n",
            "48000/48000 [==============================] - 8s 172us/step - loss: 0.0574 - acc: 0.9949 - val_loss: 0.2428 - val_acc: 0.9730\n",
            "Epoch 36/70\n",
            "48000/48000 [==============================] - 8s 171us/step - loss: 0.0630 - acc: 0.9942 - val_loss: 0.2039 - val_acc: 0.9753\n",
            "Epoch 37/70\n",
            "48000/48000 [==============================] - 8s 169us/step - loss: 0.0549 - acc: 0.9960 - val_loss: 0.2398 - val_acc: 0.9764\n",
            "Epoch 38/70\n",
            "48000/48000 [==============================] - 8s 170us/step - loss: 0.0526 - acc: 0.9965 - val_loss: 0.2079 - val_acc: 0.9769\n",
            "Epoch 39/70\n",
            "48000/48000 [==============================] - 8s 170us/step - loss: 0.0496 - acc: 0.9967 - val_loss: 0.2220 - val_acc: 0.9758\n",
            "Epoch 40/70\n",
            "48000/48000 [==============================] - 8s 170us/step - loss: 0.0524 - acc: 0.9961 - val_loss: 0.1987 - val_acc: 0.9775\n",
            "Epoch 41/70\n",
            "48000/48000 [==============================] - 8s 170us/step - loss: 0.0491 - acc: 0.9969 - val_loss: 0.1976 - val_acc: 0.9772\n",
            "Epoch 42/70\n",
            "48000/48000 [==============================] - 8s 169us/step - loss: 0.0668 - acc: 0.9941 - val_loss: 0.1908 - val_acc: 0.9782\n",
            "Epoch 43/70\n",
            "48000/48000 [==============================] - 8s 167us/step - loss: 0.0596 - acc: 0.9948 - val_loss: 0.1935 - val_acc: 0.9773\n",
            "Epoch 44/70\n",
            "48000/48000 [==============================] - 8s 168us/step - loss: 0.0566 - acc: 0.9954 - val_loss: 0.1905 - val_acc: 0.9780\n",
            "Epoch 45/70\n",
            "48000/48000 [==============================] - 8s 170us/step - loss: 0.0489 - acc: 0.9973 - val_loss: 0.1925 - val_acc: 0.9747\n",
            "Epoch 46/70\n",
            "48000/48000 [==============================] - 8s 169us/step - loss: 0.0480 - acc: 0.9972 - val_loss: 0.2091 - val_acc: 0.9768\n",
            "Epoch 47/70\n",
            "48000/48000 [==============================] - 8s 169us/step - loss: 0.0467 - acc: 0.9973 - val_loss: 0.2018 - val_acc: 0.9787\n",
            "Epoch 48/70\n",
            "48000/48000 [==============================] - 8s 170us/step - loss: 0.0499 - acc: 0.9971 - val_loss: 0.2070 - val_acc: 0.9758\n",
            "Epoch 49/70\n",
            "48000/48000 [==============================] - 8s 169us/step - loss: 0.0488 - acc: 0.9968 - val_loss: 0.2079 - val_acc: 0.9769\n",
            "Epoch 50/70\n",
            "48000/48000 [==============================] - 8s 170us/step - loss: 0.0466 - acc: 0.9973 - val_loss: 0.2232 - val_acc: 0.9763\n",
            "Epoch 51/70\n",
            "48000/48000 [==============================] - 8s 171us/step - loss: 0.0563 - acc: 0.9957 - val_loss: 0.2093 - val_acc: 0.9762\n",
            "Epoch 52/70\n",
            "48000/48000 [==============================] - 8s 166us/step - loss: 0.0497 - acc: 0.9970 - val_loss: 0.2069 - val_acc: 0.9773\n",
            "Epoch 53/70\n",
            "48000/48000 [==============================] - 8s 167us/step - loss: 0.0497 - acc: 0.9971 - val_loss: 0.1998 - val_acc: 0.9775\n",
            "Epoch 54/70\n",
            "48000/48000 [==============================] - 8s 166us/step - loss: 0.0437 - acc: 0.9977 - val_loss: 0.2052 - val_acc: 0.9763\n",
            "Epoch 55/70\n",
            "48000/48000 [==============================] - 8s 166us/step - loss: 0.0510 - acc: 0.9962 - val_loss: 0.2142 - val_acc: 0.9745\n",
            "Epoch 56/70\n",
            "48000/48000 [==============================] - 8s 166us/step - loss: 0.0502 - acc: 0.9967 - val_loss: 0.1930 - val_acc: 0.9763\n",
            "Epoch 57/70\n",
            "48000/48000 [==============================] - 8s 166us/step - loss: 0.0414 - acc: 0.9982 - val_loss: 0.1933 - val_acc: 0.9783\n",
            "Epoch 58/70\n",
            "48000/48000 [==============================] - 8s 170us/step - loss: 0.0457 - acc: 0.9971 - val_loss: 0.1792 - val_acc: 0.9800\n",
            "Epoch 59/70\n",
            "48000/48000 [==============================] - 8s 168us/step - loss: 0.0420 - acc: 0.9978 - val_loss: 0.1892 - val_acc: 0.9768\n",
            "Epoch 60/70\n",
            "48000/48000 [==============================] - 8s 167us/step - loss: 0.0486 - acc: 0.9965 - val_loss: 0.2205 - val_acc: 0.9753\n",
            "Epoch 61/70\n",
            "48000/48000 [==============================] - 8s 168us/step - loss: 0.0535 - acc: 0.9959 - val_loss: 0.1865 - val_acc: 0.9793\n",
            "Epoch 62/70\n",
            "48000/48000 [==============================] - 8s 170us/step - loss: 0.0446 - acc: 0.9973 - val_loss: 0.2060 - val_acc: 0.9732\n",
            "Epoch 63/70\n",
            "48000/48000 [==============================] - 8s 170us/step - loss: 0.0466 - acc: 0.9971 - val_loss: 0.1787 - val_acc: 0.9797\n",
            "Epoch 64/70\n",
            "48000/48000 [==============================] - 8s 164us/step - loss: 0.0395 - acc: 0.9985 - val_loss: 0.1834 - val_acc: 0.9797\n",
            "Epoch 65/70\n",
            "48000/48000 [==============================] - 8s 167us/step - loss: 0.0430 - acc: 0.9976 - val_loss: 0.2164 - val_acc: 0.9759\n",
            "Epoch 66/70\n",
            "48000/48000 [==============================] - 8s 168us/step - loss: 0.0611 - acc: 0.9947 - val_loss: 0.1620 - val_acc: 0.9770\n",
            "Epoch 67/70\n",
            "48000/48000 [==============================] - 8s 169us/step - loss: 0.0431 - acc: 0.9975 - val_loss: 0.1660 - val_acc: 0.9812\n",
            "Epoch 68/70\n",
            "48000/48000 [==============================] - 8s 171us/step - loss: 0.0390 - acc: 0.9984 - val_loss: 0.1793 - val_acc: 0.9791\n",
            "Epoch 69/70\n",
            "48000/48000 [==============================] - 8s 175us/step - loss: 0.0447 - acc: 0.9975 - val_loss: 0.2169 - val_acc: 0.9751\n",
            "Epoch 70/70\n",
            "48000/48000 [==============================] - 8s 174us/step - loss: 0.0402 - acc: 0.9980 - val_loss: 0.2034 - val_acc: 0.9764\n"
          ],
          "name": "stdout"
        }
      ]
    },
    {
      "cell_type": "markdown",
      "metadata": {
        "id": "m8nawyA3IaSN",
        "colab_type": "text"
      },
      "source": [
        "# **Evaluation**"
      ]
    },
    {
      "cell_type": "code",
      "metadata": {
        "id": "20fjPKh6vm6E",
        "colab_type": "code",
        "colab": {
          "base_uri": "https://localhost:8080/",
          "height": 69
        },
        "outputId": "f0f85d44-becf-45bf-9ba2-a1a6cd50f5bd"
      },
      "source": [
        "test_loss,test_acc = model.evaluate(test_data,test_label)\n",
        "print(\"test_loss  \" , (test_loss*100))\n",
        "print(\"test_accuracy  \" ,(test_acc*100))"
      ],
      "execution_count": 17,
      "outputs": [
        {
          "output_type": "stream",
          "text": [
            "10000/10000 [==============================] - 1s 134us/step\n",
            "test_loss   18.29698614448309\n",
            "test_accuracy   97.88\n"
          ],
          "name": "stdout"
        }
      ]
    },
    {
      "cell_type": "markdown",
      "metadata": {
        "id": "1uN-ph55z3i0",
        "colab_type": "text"
      },
      "source": [
        "# *Ploting loss and accuracy of training and validation*"
      ]
    },
    {
      "cell_type": "code",
      "metadata": {
        "id": "xnqsCrkMwMrO",
        "colab_type": "code",
        "colab": {
          "base_uri": "https://localhost:8080/",
          "height": 545
        },
        "outputId": "9e26fbec-8675-40f6-969d-57e7ece54ccb"
      },
      "source": [
        "accuracy = history.history['acc']\n",
        "val_accuracy = history.history['val_acc']\n",
        "loss = history.history['loss']\n",
        "val_loss = history.history['val_loss']\n",
        "epochs = range(len(accuracy))\n",
        "plt.plot(epochs, accuracy, 'bo', label='Training accuracy')\n",
        "plt.plot(epochs, val_accuracy, 'b', label='Validation accuracy')\n",
        "plt.title('Training and validation accuracy')\n",
        "plt.legend()\n",
        "plt.figure()\n",
        "plt.plot(epochs, loss, 'bo', label='Training loss')\n",
        "plt.plot(epochs, val_loss, 'b', label='Validation loss')\n",
        "plt.title('Training and validation loss')\n",
        "plt.legend()\n",
        "plt.show()"
      ],
      "execution_count": 21,
      "outputs": [
        {
          "output_type": "display_data",
          "data": {
            "image/png": "[encoded data removed]",
            "text/plain": [
              "<Figure size 432x288 with 1 Axes>"
            ]
          },
          "metadata": {
            "tags": []
          }
        },
        {
          "output_type": "display_data",
          "data": {
            "image/png": "[encoded data removed]",
            "text/plain": [
              "<Figure size 432x288 with 1 Axes>"
            ]
          },
          "metadata": {
            "tags": []
          }
        }
      ]
    },
    {
      "cell_type": "markdown",
      "metadata": {
        "id": "XOC6lWfkIOXX",
        "colab_type": "text"
      },
      "source": [
        "# **Model Saving**"
      ]
    },
    {
      "cell_type": "code",
      "metadata": {
        "id": "m0Msoxxa5xpC",
        "colab_type": "code",
        "colab": {}
      },
      "source": [
        "model.save(\"TunnedModel1.h5py\")"
      ],
      "execution_count": 0,
      "outputs": []
    },
    {
      "cell_type": "markdown",
      "metadata": {
        "id": "DOBehabz9RAg",
        "colab_type": "text"
      },
      "source": [
        "# **Making prediction**"
      ]
    },
    {
      "cell_type": "code",
      "metadata": {
        "id": "bNauePrH6vvJ",
        "colab_type": "code",
        "colab": {
          "base_uri": "https://localhost:8080/",
          "height": 225
        },
        "outputId": "6ea622c7-f71d-4572-a83d-dcd4591f5d9d"
      },
      "source": [
        "model.predict(test_data[:4])"
      ],
      "execution_count": 32,
      "outputs": [
        {
          "output_type": "execute_result",
          "data": {
            "text/plain": [
              "array([[0.0000000e+00, 0.0000000e+00, 2.9635904e-23, 5.0951676e-06,\n",
              "        1.2882010e-08, 9.0441992e-09, 5.6851572e-26, 9.9999487e-01,\n",
              "        4.5052382e-29, 6.3005747e-09],\n",
              "       [9.9617048e-37, 0.0000000e+00, 9.9999583e-01, 1.6176057e-19,\n",
              "        4.1146473e-06, 4.1926475e-26, 2.2115425e-21, 5.1207191e-11,\n",
              "        1.4731994e-36, 2.7128039e-13],\n",
              "       [8.1688300e-32, 1.0000000e+00, 0.0000000e+00, 5.7519358e-19,\n",
              "        0.0000000e+00, 1.3483778e-12, 0.0000000e+00, 9.2634020e-36,\n",
              "        7.9793265e-09, 2.8948781e-37],\n",
              "       [9.9999726e-01, 0.0000000e+00, 0.0000000e+00, 1.1700062e-10,\n",
              "        8.2416973e-19, 1.6454504e-37, 0.0000000e+00, 1.4495878e-20,\n",
              "        8.5658840e-13, 2.7437065e-06]], dtype=float32)"
            ]
          },
          "metadata": {
            "tags": []
          },
          "execution_count": 32
        }
      ]
    },
    {
      "cell_type": "markdown",
      "metadata": {
        "id": "Gty44uoQ9WUD",
        "colab_type": "text"
      },
      "source": [
        "# **Checking Prediction result from test label**"
      ]
    },
    {
      "cell_type": "code",
      "metadata": {
        "id": "zSf_DxdU8zaO",
        "colab_type": "code",
        "colab": {
          "base_uri": "https://localhost:8080/",
          "height": 86
        },
        "outputId": "3fea8cd2-91b6-4a7c-faca-24368d74b55a"
      },
      "source": [
        "#actual results for first 4 images in test set\n",
        "test_label[:4]"
      ],
      "execution_count": 35,
      "outputs": [
        {
          "output_type": "execute_result",
          "data": {
            "text/plain": [
              "array([[0., 0., 0., 0., 0., 0., 0., 1., 0., 0.],\n",
              "       [0., 0., 1., 0., 0., 0., 0., 0., 0., 0.],\n",
              "       [0., 1., 0., 0., 0., 0., 0., 0., 0., 0.],\n",
              "       [1., 0., 0., 0., 0., 0., 0., 0., 0., 0.]], dtype=float32)"
            ]
          },
          "metadata": {
            "tags": []
          },
          "execution_count": 35
        }
      ]
    },
    {
      "cell_type": "code",
      "metadata": {
        "id": "zSuuU0ZfD5o3",
        "colab_type": "code",
        "colab": {
          "base_uri": "https://localhost:8080/",
          "height": 34
        },
        "outputId": "eb7fc0a3-5503-46bb-df29-4579cdf3eb8c"
      },
      "source": [
        "predicted_classes = model.predict(test_data)\n",
        "predicted_classes = np.argmax(np.round(predicted_classes),axis=1)\n",
        "predicted_classes.shape,test_labels.shape"
      ],
      "execution_count": 74,
      "outputs": [
        {
          "output_type": "execute_result",
          "data": {
            "text/plain": [
              "((10000,), (10000,))"
            ]
          },
          "metadata": {
            "tags": []
          },
          "execution_count": 74
        }
      ]
    },
    {
      "cell_type": "markdown",
      "metadata": {
        "id": "28cQyXWcBFiS",
        "colab_type": "text"
      },
      "source": [
        "# **Plotting charts of correct and incorret labels**"
      ]
    },
    {
      "cell_type": "code",
      "metadata": {
        "id": "vrOQqKy178rT",
        "colab_type": "code",
        "colab": {
          "base_uri": "https://localhost:8080/",
          "height": 314
        },
        "outputId": "1311e62d-e547-4e20-abb8-96d843df851b"
      },
      "source": [
        "correct = np.where(predicted_classes==test_labels)[0]\n",
        "print (\"Found %d correct labels\" %  len(correct))\n",
        "for i, correct in enumerate(correct[:9]):\n",
        "    plt.subplot(3,3,i+1)\n",
        "    plt.imshow(test_data[correct].reshape(28,28), cmap='gray', interpolation='none')\n",
        "    plt.title(\"Predicted {}, Class {}\".format(predicted_classes[correct], test_labels[correct]))\n",
        "    plt.tight_layout()"
      ],
      "execution_count": 75,
      "outputs": [
        {
          "output_type": "stream",
          "text": [
            "Found 9783 correct labels\n"
          ],
          "name": "stdout"
        },
        {
          "output_type": "display_data",
          "data": {
            "image/png": "[encoded data removed]",
            "text/plain": [
              "<Figure size 432x288 with 9 Axes>"
            ]
          },
          "metadata": {
            "tags": []
          }
        }
      ]
    },
    {
      "cell_type": "code",
      "metadata": {
        "id": "R4OWBXkVAF2o",
        "colab_type": "code",
        "colab": {
          "base_uri": "https://localhost:8080/",
          "height": 314
        },
        "outputId": "2dfb070e-a9ce-4c01-e625-c39aa1d25588"
      },
      "source": [
        "incorrect = np.where(predicted_classes!=test_labels)[0]\n",
        "print (\"Found %d incorrect labels\" %  len(incorrect))\n",
        "for i, incorrect in enumerate(incorrect[:9]):\n",
        "    plt.subplot(3,3,i+1)\n",
        "    plt.imshow(test_data[incorrect].reshape(28,28), cmap='gray', interpolation='none')\n",
        "    plt.title(\"Predicted {}, Class {}\".format(predicted_classes[incorrect], test_labels[incorrect]))\n",
        "    plt.tight_layout()"
      ],
      "execution_count": 80,
      "outputs": [
        {
          "output_type": "stream",
          "text": [
            "Found 217 incorrect labels\n"
          ],
          "name": "stdout"
        },
        {
          "output_type": "display_data",
          "data": {
            "image/png": "[encoded data removed]",
            "text/plain": [
              "<Figure size 432x288 with 9 Axes>"
            ]
          },
          "metadata": {
            "tags": []
          }
        }
      ]
    },
    {
      "cell_type": "markdown",
      "metadata": {
        "id": "xlM4LGkpH4CA",
        "colab_type": "text"
      },
      "source": [
        "# **Report**"
      ]
    },
    {
      "cell_type": "code",
      "metadata": {
        "id": "6wAK8653DnK7",
        "colab_type": "code",
        "colab": {
          "base_uri": "https://localhost:8080/",
          "height": 312
        },
        "outputId": "168e0b2b-c007-46bf-c56b-d37e9e350360"
      },
      "source": [
        "from sklearn.metrics import classification_report\n",
        "target_names = [\"Class {}\".format(i) for i in range(10)]\n",
        "print(classification_report(test_labels, predicted_classes, target_names=target_names))"
      ],
      "execution_count": 82,
      "outputs": [
        {
          "output_type": "stream",
          "text": [
            "              precision    recall  f1-score   support\n",
            "\n",
            "     Class 0       0.95      0.99      0.97       980\n",
            "     Class 1       0.99      0.99      0.99      1135\n",
            "     Class 2       0.98      0.98      0.98      1032\n",
            "     Class 3       0.96      0.98      0.97      1010\n",
            "     Class 4       0.98      0.98      0.98       982\n",
            "     Class 5       0.99      0.98      0.98       892\n",
            "     Class 6       0.99      0.98      0.99       958\n",
            "     Class 7       0.99      0.95      0.97      1028\n",
            "     Class 8       0.98      0.97      0.98       974\n",
            "     Class 9       0.97      0.97      0.97      1009\n",
            "\n",
            "    accuracy                           0.98     10000\n",
            "   macro avg       0.98      0.98      0.98     10000\n",
            "weighted avg       0.98      0.98      0.98     10000\n",
            "\n"
          ],
          "name": "stdout"
        }
      ]
    },
    {
      "cell_type": "code",
      "metadata": {
        "id": "O0xaPWGsGtIu",
        "colab_type": "code",
        "colab": {}
      },
      "source": [
        ""
      ],
      "execution_count": 0,
      "outputs": []
    }
  ]
}