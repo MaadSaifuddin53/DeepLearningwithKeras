{
  "nbformat": 4,
  "nbformat_minor": 0,
  "metadata": {
    "colab": {
      "name": "K_fold Algorithum.ipynb",
      "version": "0.3.2",
      "provenance": [],
      "collapsed_sections": [],
      "include_colab_link": true
    },
    "kernelspec": {
      "name": "python3",
      "display_name": "Python 3"
    }
  },
  "cells": [
    {
      "cell_type": "markdown",
      "metadata": {
        "id": "view-in-github",
        "colab_type": "text"
      },
      "source": [
        "<a href=\"https://colab.research.google.com/github/MaadSaifuddin53/DeepLearningwithKeras/blob/master/K_fold_Algorithum.ipynb\" target=\"_parent\"><img src=\"https://colab.research.google.com/assets/colab-badge.svg\" alt=\"Open In Colab\"/></a>"
      ]
    },
    {
      "cell_type": "code",
      "metadata": {
        "id": "bIl2_mr0NC-5",
        "colab_type": "code",
        "colab": {}
      },
      "source": [
        "# kfold Validation\n",
        "import numpy as np\n",
        "k=4\n",
        "num_val_samples = len(X_train) // k\n",
        "num_epochs=50\n",
        "all_scores=[]\n",
        "for i in range(k):\n",
        "  print(\"processing fold # \",i)\n",
        "  val_data = X_train[i*num_val_samples:(i+1)*num_val_samples]\n",
        "  val_targets = y_train[i*num_val_samples:(i+1)*num_val_samples]\n",
        "  \n",
        "  partial_train_data = np.concatenate(\n",
        "    [X_train[:i*num_val_samples],\n",
        "    X_train[(i+1)*num_val_samples:]],\n",
        "      axis=0)\n",
        "  partial_train_targets = np.concatenate(\n",
        "    [y_train[:i*num_val_samples],\n",
        "    y_train[(i+1)*num_val_samples:]],\n",
        "    axis=0)\n",
        "  \n",
        "  \n",
        "# after k fold\n",
        "model = base_model()\n",
        "history=model.fit(partial_train_data,partial_train_targets, epochs=50,batch_size=32,verbose=0)"
      ],
      "execution_count": 0,
      "outputs": []
    }
  ]
}