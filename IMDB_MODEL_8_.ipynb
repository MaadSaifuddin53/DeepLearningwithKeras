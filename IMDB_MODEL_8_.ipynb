{
  "nbformat": 4,
  "nbformat_minor": 0,
  "metadata": {
    "colab": {
      "name": "IMDB MODEL 8 .ipynb",
      "version": "0.3.2",
      "provenance": [],
      "collapsed_sections": [],
      "include_colab_link": true
    },
    "kernelspec": {
      "name": "python3",
      "display_name": "Python 3"
    },
    "accelerator": "GPU"
  },
  "cells": [
    {
      "cell_type": "markdown",
      "metadata": {
        "id": "view-in-github",
        "colab_type": "text"
      },
      "source": [
        "<a href=\"https://colab.research.google.com/github/MaadSaifuddin53/DeepLearningwithKeras/blob/master/IMDB_MODEL_8_.ipynb\" target=\"_parent\"><img src=\"https://colab.research.google.com/assets/colab-badge.svg\" alt=\"Open In Colab\"/></a>"
      ]
    },
    {
      "cell_type": "code",
      "metadata": {
        "id": "JfY9WgQ5E4Z-",
        "colab_type": "code",
        "outputId": "5a9a2d03-97ec-42c2-a2e4-7cf77da8d403",
        "colab": {
          "base_uri": "https://localhost:8080/",
          "height": 34
        }
      },
      "source": [
        "pip install numpy==1.16.1"
      ],
      "execution_count": 161,
      "outputs": [
        {
          "output_type": "stream",
          "text": [
            "Requirement already satisfied: numpy==1.16.1 in /usr/local/lib/python3.6/dist-packages (1.16.1)\n"
          ],
          "name": "stdout"
        }
      ]
    },
    {
      "cell_type": "code",
      "metadata": {
        "id": "CKY5tm8NX1XB",
        "colab_type": "code",
        "colab": {}
      },
      "source": [
        ""
      ],
      "execution_count": 0,
      "outputs": []
    },
    {
      "cell_type": "code",
      "metadata": {
        "id": "PWHeQABBFYXv",
        "colab_type": "code",
        "colab": {}
      },
      "source": [
        "from keras.datasets import imdb"
      ],
      "execution_count": 0,
      "outputs": []
    },
    {
      "cell_type": "code",
      "metadata": {
        "id": "SgCkUNKpFZgF",
        "colab_type": "code",
        "colab": {}
      },
      "source": [
        "(train_data,train_labels),(test_data,test_labels) = imdb.load_data(num_words=10000)"
      ],
      "execution_count": 0,
      "outputs": []
    },
    {
      "cell_type": "code",
      "metadata": {
        "id": "xm_jQs2_K94B",
        "colab_type": "code",
        "outputId": "9772993f-4b24-424b-d6eb-32aa5a928eb9",
        "colab": {
          "base_uri": "https://localhost:8080/",
          "height": 121
        }
      },
      "source": [
        "print(train_data.shape)\n",
        "print(train_data.ndim)\n",
        "print(len(train_data[0]))\n",
        "print(len(train_data))\n",
        "print(test_data.shape)\n",
        "len(train_labels)"
      ],
      "execution_count": 166,
      "outputs": [
        {
          "output_type": "stream",
          "text": [
            "(25000,)\n",
            "1\n",
            "218\n",
            "25000\n",
            "(25000,)\n"
          ],
          "name": "stdout"
        },
        {
          "output_type": "execute_result",
          "data": {
            "text/plain": [
              "25000"
            ]
          },
          "metadata": {
            "tags": []
          },
          "execution_count": 166
        }
      ]
    },
    {
      "cell_type": "code",
      "metadata": {
        "id": "Yh3c_57dLHRF",
        "colab_type": "code",
        "colab": {}
      },
      "source": [
        "word_index = imdb.get_word_index()\n",
        "reverse_word_index = dict([(value, key) for (key, value) in word_index.items()])\n",
        "decoded_review = ' '.join([reverse_word_index.get(i - 3, '?') for i in train_data[0]])"
      ],
      "execution_count": 0,
      "outputs": []
    },
    {
      "cell_type": "code",
      "metadata": {
        "id": "J2mZv2mfLgH_",
        "colab_type": "code",
        "colab": {}
      },
      "source": [
        "import numpy as np\n",
        "def vectorize_sequences(sequences, dimension=10000):\n",
        "    results = np.zeros((len(sequences), dimension))\n",
        "    for i, sequence in enumerate(sequences):\n",
        "        results[i, sequence] = 1.\n",
        "    return results"
      ],
      "execution_count": 0,
      "outputs": []
    },
    {
      "cell_type": "code",
      "metadata": {
        "id": "LWTciNGzLksH",
        "colab_type": "code",
        "colab": {}
      },
      "source": [
        "x_train = vectorize_sequences(train_data)\n",
        "x_test =  vectorize_sequences(test_data)"
      ],
      "execution_count": 0,
      "outputs": []
    },
    {
      "cell_type": "code",
      "metadata": {
        "id": "EhpwrP1bLpWO",
        "colab_type": "code",
        "colab": {}
      },
      "source": [
        "y_train = np.asarray(train_labels).astype('float32')\n",
        "y_test = np.asarray(test_labels).astype(\"float32\")"
      ],
      "execution_count": 0,
      "outputs": []
    },
    {
      "cell_type": "markdown",
      "metadata": {
        "id": "nvWIIpmGLt6F",
        "colab_type": "text"
      },
      "source": [
        "y_train"
      ]
    },
    {
      "cell_type": "code",
      "metadata": {
        "id": "1wOQM-r1CGIv",
        "colab_type": "code",
        "colab": {}
      },
      "source": [
        "from keras import layers,models,optimizers,regularizers,initializers,losses"
      ],
      "execution_count": 0,
      "outputs": []
    },
    {
      "cell_type": "code",
      "metadata": {
        "id": "6id6aq9TMAb3",
        "colab_type": "code",
        "colab": {}
      },
      "source": [
        "model = models.Sequential()\n",
        "model.add(layers.Dense(32,activation=\"relu\",input_shape=(10000,)))\n",
        "model.add(layers.Dense(16,activation=\"relu\",kernel_initializer='glorot_uniform',kernel_regularizer=regularizers.l2(0.01)))\n",
        "model.add(layers.Dense(8,activation=\"relu\", kernel_initializer='glorot_uniform',kernel_regularizer=regularizers.l2(0.01)))\n",
        "model.add(layers.Dense(4,activation=\"relu\", kernel_initializer='glorot_uniform',kernel_regularizer=regularizers.l2(0.01)))\n",
        "model.add(layers.Dense(2,activation=\"relu\", kernel_initializer='glorot_uniform',kernel_regularizer=regularizers.l2(0.01)))\n",
        "model.add(layers.Dense(1,activation=\"sigmoid\"))"
      ],
      "execution_count": 0,
      "outputs": []
    },
    {
      "cell_type": "code",
      "metadata": {
        "id": "F27S9RPnPlXY",
        "colab_type": "code",
        "colab": {}
      },
      "source": [
        "model.compile(optimizer=optimizers.rmsprop(lr=0.001),loss='binary_crossentropy',metrics=['accuracy'])"
      ],
      "execution_count": 0,
      "outputs": []
    },
    {
      "cell_type": "code",
      "metadata": {
        "id": "lA-Tcx23QEEz",
        "colab_type": "code",
        "colab": {}
      },
      "source": [
        "x_val=x_train[:10000]\n",
        "partial_x_train = x_train[10000:]\n",
        "\n",
        "y_val = y_train[:10000]\n",
        "partial_y_train =y_train[10000:]"
      ],
      "execution_count": 0,
      "outputs": []
    },
    {
      "cell_type": "code",
      "metadata": {
        "id": "rcgfrpIFQJre",
        "colab_type": "code",
        "colab": {
          "base_uri": "https://localhost:8080/",
          "height": 382
        },
        "outputId": "fda81e85-03c2-4e51-f8f0-6133d76a79e6"
      },
      "source": [
        "history=model.fit(partial_x_train,partial_y_train,epochs=10,batch_size=512,validation_data=(x_val,y_val))"
      ],
      "execution_count": 175,
      "outputs": [
        {
          "output_type": "stream",
          "text": [
            "Train on 15000 samples, validate on 10000 samples\n",
            "Epoch 1/10\n",
            "15000/15000 [==============================] - 2s 156us/step - loss: 0.9430 - acc: 0.7124 - val_loss: 0.8473 - val_acc: 0.7639\n",
            "Epoch 2/10\n",
            "15000/15000 [==============================] - 2s 102us/step - loss: 0.7729 - acc: 0.8625 - val_loss: 0.7666 - val_acc: 0.8872\n",
            "Epoch 3/10\n",
            "15000/15000 [==============================] - 1s 98us/step - loss: 0.6864 - acc: 0.9074 - val_loss: 0.7391 - val_acc: 0.8310\n",
            "Epoch 4/10\n",
            "15000/15000 [==============================] - 1s 98us/step - loss: 0.6253 - acc: 0.9238 - val_loss: 0.6896 - val_acc: 0.8592\n",
            "Epoch 5/10\n",
            "15000/15000 [==============================] - 1s 100us/step - loss: 0.5719 - acc: 0.9407 - val_loss: 0.6446 - val_acc: 0.8785\n",
            "Epoch 6/10\n",
            "15000/15000 [==============================] - 1s 98us/step - loss: 0.5310 - acc: 0.9481 - val_loss: 0.6531 - val_acc: 0.8568\n",
            "Epoch 7/10\n",
            "15000/15000 [==============================] - 1s 99us/step - loss: 0.4960 - acc: 0.9554 - val_loss: 0.6554 - val_acc: 0.8508\n",
            "Epoch 8/10\n",
            "15000/15000 [==============================] - 1s 98us/step - loss: 0.4652 - acc: 0.9614 - val_loss: 0.6319 - val_acc: 0.8580\n",
            "Epoch 9/10\n",
            "15000/15000 [==============================] - 1s 99us/step - loss: 0.4386 - acc: 0.9683 - val_loss: 0.5829 - val_acc: 0.8726\n",
            "Epoch 10/10\n",
            "15000/15000 [==============================] - 1s 99us/step - loss: 0.4183 - acc: 0.9707 - val_loss: 0.5924 - val_acc: 0.8673\n"
          ],
          "name": "stdout"
        }
      ]
    },
    {
      "cell_type": "code",
      "metadata": {
        "id": "6QiBJKTWQrUj",
        "colab_type": "code",
        "colab": {
          "base_uri": "https://localhost:8080/",
          "height": 86
        },
        "outputId": "72b16972-0aa0-455b-cebd-3a46db314b44"
      },
      "source": [
        "history_dict = history.history\n",
        "history_dict.keys()\n",
        "print(\"Train_Loss\",np.sum(history_dict['loss']))\n",
        "print(\"Validating_Loss\",np.sum(history_dict['val_loss']))\n",
        "print(\"Trianing_accuracy\",np.sum(history_dict['acc']))\n",
        "print(\"Validation_accuracy\",np.sum(history_dict['val_acc']))"
      ],
      "execution_count": 176,
      "outputs": [
        {
          "output_type": "stream",
          "text": [
            "Train_Loss 5.948714633607864\n",
            "Validating_Loss 6.802726237201691\n",
            "Trianing_accuracy 9.150599999459583\n",
            "Validation_accuracy 8.525299999332427\n"
          ],
          "name": "stdout"
        }
      ]
    },
    {
      "cell_type": "code",
      "metadata": {
        "id": "BorG_-_WRNln",
        "colab_type": "code",
        "colab": {}
      },
      "source": [
        "import matplotlib.pyplot as plt"
      ],
      "execution_count": 0,
      "outputs": []
    },
    {
      "cell_type": "code",
      "metadata": {
        "id": "a6gXc_7eRSDr",
        "colab_type": "code",
        "colab": {
          "base_uri": "https://localhost:8080/",
          "height": 295
        },
        "outputId": "2f125e61-ed16-45c2-c0c7-e0f31170599f"
      },
      "source": [
        "history_dict = history.history\n",
        "loss=history_dict['loss']\n",
        "val_loss = history_dict['val_loss']\n",
        "acc=history_dict['acc']\n",
        "epochs = range(1, len(acc) + 1)\n",
        "plt.plot(epochs,loss, 'bo', label='Training loss')\n",
        "plt.plot(epochs,val_loss, 'b', label='Validation loss')\n",
        "plt.title('Training and validation loss')\n",
        "plt.xlabel('Epochs')\n",
        "plt.ylabel('Loss')\n",
        "plt.legend()\n",
        "plt.show()"
      ],
      "execution_count": 178,
      "outputs": [
        {
          "output_type": "display_data",
          "data": {
            "image/png": "[encoded data removed]",
            "text/plain": [
              "<Figure size 432x288 with 1 Axes>"
            ]
          },
          "metadata": {
            "tags": []
          }
        }
      ]
    },
    {
      "cell_type": "code",
      "metadata": {
        "id": "tRG42vJKRn5Q",
        "colab_type": "code",
        "colab": {
          "base_uri": "https://localhost:8080/",
          "height": 295
        },
        "outputId": "71b02576-ae54-4bf5-9fb6-82b1c2a19d68"
      },
      "source": [
        "plt.clf()\n",
        "acc_values = history_dict['acc']\n",
        "val_acc_values = history_dict['val_acc']\n",
        "plt.plot(epochs,acc_values, 'bo', label='Training acc')\n",
        "plt.plot(epochs,val_acc_values, 'b', label='Validation acc')\n",
        "plt.title('Training and validation accuracy')\n",
        "plt.xlabel('Epochs')\n",
        "plt.ylabel('Loss')\n",
        "plt.legend()\n",
        "plt.show()"
      ],
      "execution_count": 179,
      "outputs": [
        {
          "output_type": "display_data",
          "data": {
            "image/png": "[encoded data removed]",
            "text/plain": [
              "<Figure size 432x288 with 1 Axes>"
            ]
          },
          "metadata": {
            "tags": []
          }
        }
      ]
    },
    {
      "cell_type": "code",
      "metadata": {
        "id": "hm6Q1PxvSL6C",
        "colab_type": "code",
        "colab": {
          "base_uri": "https://localhost:8080/",
          "height": 34
        },
        "outputId": "cb214816-27ac-401c-835a-e5dcf3d26c6a"
      },
      "source": [
        "test_loss,test_acc = model.evaluate(x_test,y_test)"
      ],
      "execution_count": 180,
      "outputs": [
        {
          "output_type": "stream",
          "text": [
            "25000/25000 [==============================] - 2s 98us/step\n"
          ],
          "name": "stdout"
        }
      ]
    },
    {
      "cell_type": "code",
      "metadata": {
        "id": "cQGJlvW9TKBg",
        "colab_type": "code",
        "colab": {
          "base_uri": "https://localhost:8080/",
          "height": 52
        },
        "outputId": "115a72e6-8525-4409-e5f7-f8d8d3cb9a77"
      },
      "source": [
        "print(\"test_acc\",test_acc*100)\n",
        "print(\"test_loss\",test_loss*100)"
      ],
      "execution_count": 181,
      "outputs": [
        {
          "output_type": "stream",
          "text": [
            "test_acc 85.424\n",
            "test_loss 61.32454130363464\n"
          ],
          "name": "stdout"
        }
      ]
    },
    {
      "cell_type": "code",
      "metadata": {
        "id": "CHMRlK_WUOH2",
        "colab_type": "code",
        "colab": {}
      },
      "source": [
        "# Run this cell to mount your Google Drive.\n",
        "from google.colab import drive\n",
        "drive.mount('/content/drive')"
      ],
      "execution_count": 0,
      "outputs": []
    }
  ]
}