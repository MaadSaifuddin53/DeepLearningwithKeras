{
  "nbformat": 4,
  "nbformat_minor": 0,
  "metadata": {
    "colab": {
      "name": "IMDB MODEL 10.ipynb",
      "version": "0.3.2",
      "provenance": [],
      "collapsed_sections": [],
      "include_colab_link": true
    },
    "kernelspec": {
      "name": "python3",
      "display_name": "Python 3"
    },
    "accelerator": "GPU"
  },
  "cells": [
    {
      "cell_type": "markdown",
      "metadata": {
        "id": "view-in-github",
        "colab_type": "text"
      },
      "source": [
        "<a href=\"https://colab.research.google.com/github/MaadSaifuddin53/DeepLearningwithKeras/blob/master/IMDB_MODEL_10.ipynb\" target=\"_parent\"><img src=\"https://colab.research.google.com/assets/colab-badge.svg\" alt=\"Open In Colab\"/></a>"
      ]
    },
    {
      "cell_type": "code",
      "metadata": {
        "id": "JfY9WgQ5E4Z-",
        "colab_type": "code",
        "outputId": "afc1ccd7-b10b-4ce2-d1c1-ec3454e1dc97",
        "colab": {
          "base_uri": "https://localhost:8080/",
          "height": 34
        }
      },
      "source": [
        "pip install numpy==1.16.1"
      ],
      "execution_count": 202,
      "outputs": [
        {
          "output_type": "stream",
          "text": [
            "Requirement already satisfied: numpy==1.16.1 in /usr/local/lib/python3.6/dist-packages (1.16.1)\n"
          ],
          "name": "stdout"
        }
      ]
    },
    {
      "cell_type": "code",
      "metadata": {
        "id": "CKY5tm8NX1XB",
        "colab_type": "code",
        "colab": {}
      },
      "source": [
        ""
      ],
      "execution_count": 0,
      "outputs": []
    },
    {
      "cell_type": "code",
      "metadata": {
        "id": "PWHeQABBFYXv",
        "colab_type": "code",
        "colab": {}
      },
      "source": [
        "from keras.datasets import imdb"
      ],
      "execution_count": 0,
      "outputs": []
    },
    {
      "cell_type": "code",
      "metadata": {
        "id": "SgCkUNKpFZgF",
        "colab_type": "code",
        "colab": {}
      },
      "source": [
        "(train_data,train_labels),(test_data,test_labels) = imdb.load_data(num_words=10000)"
      ],
      "execution_count": 0,
      "outputs": []
    },
    {
      "cell_type": "code",
      "metadata": {
        "id": "xm_jQs2_K94B",
        "colab_type": "code",
        "outputId": "2203d7e0-3db4-4074-df55-75b587ea79cc",
        "colab": {
          "base_uri": "https://localhost:8080/",
          "height": 121
        }
      },
      "source": [
        "print(train_data.shape)\n",
        "print(train_data.ndim)\n",
        "print(len(train_data[0]))\n",
        "print(len(train_data))\n",
        "print(test_data.shape)\n",
        "len(train_labels)"
      ],
      "execution_count": 205,
      "outputs": [
        {
          "output_type": "stream",
          "text": [
            "(25000,)\n",
            "1\n",
            "218\n",
            "25000\n",
            "(25000,)\n"
          ],
          "name": "stdout"
        },
        {
          "output_type": "execute_result",
          "data": {
            "text/plain": [
              "25000"
            ]
          },
          "metadata": {
            "tags": []
          },
          "execution_count": 205
        }
      ]
    },
    {
      "cell_type": "code",
      "metadata": {
        "id": "Yh3c_57dLHRF",
        "colab_type": "code",
        "colab": {}
      },
      "source": [
        "word_index = imdb.get_word_index()\n",
        "reverse_word_index = dict([(value, key) for (key, value) in word_index.items()])\n",
        "decoded_review = ' '.join([reverse_word_index.get(i - 3, '?') for i in train_data[0]])"
      ],
      "execution_count": 0,
      "outputs": []
    },
    {
      "cell_type": "code",
      "metadata": {
        "id": "J2mZv2mfLgH_",
        "colab_type": "code",
        "colab": {}
      },
      "source": [
        "import numpy as np\n",
        "def vectorize_sequences(sequences, dimension=10000):\n",
        "    results = np.zeros((len(sequences), dimension))\n",
        "    for i, sequence in enumerate(sequences):\n",
        "        results[i, sequence] = 1.\n",
        "    return results"
      ],
      "execution_count": 0,
      "outputs": []
    },
    {
      "cell_type": "code",
      "metadata": {
        "id": "LWTciNGzLksH",
        "colab_type": "code",
        "colab": {}
      },
      "source": [
        "x_train = vectorize_sequences(train_data)\n",
        "x_test =  vectorize_sequences(test_data)"
      ],
      "execution_count": 0,
      "outputs": []
    },
    {
      "cell_type": "code",
      "metadata": {
        "id": "EhpwrP1bLpWO",
        "colab_type": "code",
        "colab": {}
      },
      "source": [
        "y_train = np.asarray(train_labels).astype('float32')\n",
        "y_test = np.asarray(test_labels).astype(\"float32\")"
      ],
      "execution_count": 0,
      "outputs": []
    },
    {
      "cell_type": "markdown",
      "metadata": {
        "id": "nvWIIpmGLt6F",
        "colab_type": "text"
      },
      "source": [
        "y_train"
      ]
    },
    {
      "cell_type": "code",
      "metadata": {
        "id": "1wOQM-r1CGIv",
        "colab_type": "code",
        "colab": {}
      },
      "source": [
        "from keras import layers,models,optimizers,regularizers,initializers,losses"
      ],
      "execution_count": 0,
      "outputs": []
    },
    {
      "cell_type": "code",
      "metadata": {
        "id": "6id6aq9TMAb3",
        "colab_type": "code",
        "colab": {}
      },
      "source": [
        "model = models.Sequential()\n",
        "model.add(layers.Dense(64,activation=\"relu\",input_shape=(10000,)))\n",
        "model.add(layers.Dense(32,activation=\"relu\",kernel_initializer='glorot_uniform',kernel_regularizer=regularizers.l2(0.01)))\n",
        "model.add(layers.Dense(16,activation=\"relu\", kernel_initializer='glorot_uniform',kernel_regularizer=regularizers.l2(0.01)))\n",
        "model.add(layers.Dense(4,activation=\"relu\", kernel_initializer='glorot_uniform',kernel_regularizer=regularizers.l2(0.01)))\n",
        "model.add(layers.Dense(2,activation=\"relu\", kernel_initializer='glorot_uniform',kernel_regularizer=regularizers.l2(0.01)))\n",
        "model.add(layers.Dense(1,activation=\"sigmoid\"))"
      ],
      "execution_count": 0,
      "outputs": []
    },
    {
      "cell_type": "code",
      "metadata": {
        "id": "F27S9RPnPlXY",
        "colab_type": "code",
        "colab": {}
      },
      "source": [
        "model.compile(optimizer=optimizers.rmsprop(lr=0.001),loss='binary_crossentropy',metrics=['accuracy'])"
      ],
      "execution_count": 0,
      "outputs": []
    },
    {
      "cell_type": "code",
      "metadata": {
        "id": "lA-Tcx23QEEz",
        "colab_type": "code",
        "colab": {}
      },
      "source": [
        "x_val=x_train[:10000]\n",
        "partial_x_train = x_train[10000:]\n",
        "\n",
        "y_val = y_train[:10000]\n",
        "partial_y_train =y_train[10000:]"
      ],
      "execution_count": 0,
      "outputs": []
    },
    {
      "cell_type": "code",
      "metadata": {
        "id": "rcgfrpIFQJre",
        "colab_type": "code",
        "colab": {
          "base_uri": "https://localhost:8080/",
          "height": 208
        },
        "outputId": "00230a64-66e1-4b4e-f52d-8f7a73c3f83e"
      },
      "source": [
        "history=model.fit(partial_x_train,partial_y_train,epochs=5,batch_size=512,validation_data=(x_val,y_val))"
      ],
      "execution_count": 214,
      "outputs": [
        {
          "output_type": "stream",
          "text": [
            "Train on 15000 samples, validate on 10000 samples\n",
            "Epoch 1/5\n",
            "15000/15000 [==============================] - 3s 184us/step - loss: 1.2273 - acc: 0.6766 - val_loss: 1.0514 - val_acc: 0.7856\n",
            "Epoch 2/5\n",
            "15000/15000 [==============================] - 2s 107us/step - loss: 0.9563 - acc: 0.8495 - val_loss: 0.9147 - val_acc: 0.8781\n",
            "Epoch 3/5\n",
            "15000/15000 [==============================] - 2s 100us/step - loss: 0.8018 - acc: 0.8958 - val_loss: 0.7861 - val_acc: 0.8810\n",
            "Epoch 4/5\n",
            "15000/15000 [==============================] - 2s 100us/step - loss: 0.6946 - acc: 0.9167 - val_loss: 0.7132 - val_acc: 0.8823\n",
            "Epoch 5/5\n",
            "15000/15000 [==============================] - 2s 102us/step - loss: 0.6126 - acc: 0.9328 - val_loss: 0.6632 - val_acc: 0.8788\n"
          ],
          "name": "stdout"
        }
      ]
    },
    {
      "cell_type": "code",
      "metadata": {
        "id": "6QiBJKTWQrUj",
        "colab_type": "code",
        "colab": {
          "base_uri": "https://localhost:8080/",
          "height": 86
        },
        "outputId": "34604ec9-0e7e-4ba1-a60f-6a87ab745cec"
      },
      "source": [
        "history_dict = history.history\n",
        "history_dict.keys()\n",
        "print(\"Train_Loss\",np.sum(history_dict['loss']))\n",
        "print(\"Validating_Loss\",np.sum(history_dict['val_loss']))\n",
        "print(\"Trianing_accuracy\",np.sum(history_dict['acc']))\n",
        "print(\"Validation_accuracy\",np.sum(history_dict['val_acc']))"
      ],
      "execution_count": 215,
      "outputs": [
        {
          "output_type": "stream",
          "text": [
            "Train_Loss 4.292607266743978\n",
            "Validating_Loss 4.128539015674591\n",
            "Trianing_accuracy 4.271399999841054\n",
            "Validation_accuracy 4.305799999809265\n"
          ],
          "name": "stdout"
        }
      ]
    },
    {
      "cell_type": "code",
      "metadata": {
        "id": "BorG_-_WRNln",
        "colab_type": "code",
        "colab": {}
      },
      "source": [
        "import matplotlib.pyplot as plt"
      ],
      "execution_count": 0,
      "outputs": []
    },
    {
      "cell_type": "code",
      "metadata": {
        "id": "a6gXc_7eRSDr",
        "colab_type": "code",
        "colab": {
          "base_uri": "https://localhost:8080/",
          "height": 295
        },
        "outputId": "4794eb6a-8dd6-43c1-ea04-b043567d7ca8"
      },
      "source": [
        "history_dict = history.history\n",
        "loss=history_dict['loss']\n",
        "val_loss = history_dict['val_loss']\n",
        "acc=history_dict['acc']\n",
        "epochs = range(1, len(acc) + 1)\n",
        "plt.plot(epochs,loss, 'bo', label='Training loss')\n",
        "plt.plot(epochs,val_loss, 'b', label='Validation loss')\n",
        "plt.title('Training and validation loss')\n",
        "plt.xlabel('Epochs')\n",
        "plt.ylabel('Loss')\n",
        "plt.legend()\n",
        "plt.show()"
      ],
      "execution_count": 217,
      "outputs": [
        {
          "output_type": "display_data",
          "data": {
            "image/png": "[encoded data removed]",
            "text/plain": [
              "<Figure size 432x288 with 1 Axes>"
            ]
          },
          "metadata": {
            "tags": []
          }
        }
      ]
    },
    {
      "cell_type": "code",
      "metadata": {
        "id": "tRG42vJKRn5Q",
        "colab_type": "code",
        "colab": {
          "base_uri": "https://localhost:8080/",
          "height": 295
        },
        "outputId": "79074b7c-54dc-4545-88b7-a41f80ef092e"
      },
      "source": [
        "plt.clf()\n",
        "acc_values = history_dict['acc']\n",
        "val_acc_values = history_dict['val_acc']\n",
        "plt.plot(epochs,acc_values, 'bo', label='Training acc')\n",
        "plt.plot(epochs,val_acc_values, 'b', label='Validation acc')\n",
        "plt.title('Training and validation accuracy')\n",
        "plt.xlabel('Epochs')\n",
        "plt.ylabel('Loss')\n",
        "plt.legend()\n",
        "plt.show()"
      ],
      "execution_count": 218,
      "outputs": [
        {
          "output_type": "display_data",
          "data": {
            "image/png": "[encoded data removed]",
            "text/plain": [
              "<Figure size 432x288 with 1 Axes>"
            ]
          },
          "metadata": {
            "tags": []
          }
        }
      ]
    },
    {
      "cell_type": "code",
      "metadata": {
        "id": "hm6Q1PxvSL6C",
        "colab_type": "code",
        "colab": {
          "base_uri": "https://localhost:8080/",
          "height": 34
        },
        "outputId": "218be3b3-ff7c-4e1e-e2ca-9eeb68917918"
      },
      "source": [
        "test_loss,test_acc = model.evaluate(x_test,y_test)"
      ],
      "execution_count": 219,
      "outputs": [
        {
          "output_type": "stream",
          "text": [
            "25000/25000 [==============================] - 2s 95us/step\n"
          ],
          "name": "stdout"
        }
      ]
    },
    {
      "cell_type": "code",
      "metadata": {
        "id": "cQGJlvW9TKBg",
        "colab_type": "code",
        "colab": {
          "base_uri": "https://localhost:8080/",
          "height": 52
        },
        "outputId": "ae853055-b632-455e-8930-27cec31a0ea7"
      },
      "source": [
        "print(\"test_acc\",test_acc*100)\n",
        "print(\"test_loss\",test_loss*100)"
      ],
      "execution_count": 220,
      "outputs": [
        {
          "output_type": "stream",
          "text": [
            "test_acc 86.908\n",
            "test_loss 67.31243324279785\n"
          ],
          "name": "stdout"
        }
      ]
    },
    {
      "cell_type": "code",
      "metadata": {
        "id": "CHMRlK_WUOH2",
        "colab_type": "code",
        "colab": {
          "base_uri": "https://localhost:8080/",
          "height": 139
        },
        "outputId": "d72c3de6-a633-4447-c6e5-eefc0050cb04"
      },
      "source": [
        "model.predict(x_test)"
      ],
      "execution_count": 221,
      "outputs": [
        {
          "output_type": "execute_result",
          "data": {
            "text/plain": [
              "array([[0.17555085],\n",
              "       [0.5385897 ],\n",
              "       [0.3598563 ],\n",
              "       ...,\n",
              "       [0.09037182],\n",
              "       [0.14943427],\n",
              "       [0.44183072]], dtype=float32)"
            ]
          },
          "metadata": {
            "tags": []
          },
          "execution_count": 221
        }
      ]
    }
  ]
}